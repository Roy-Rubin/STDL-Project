{
 "cells": [
  {
   "cell_type": "markdown",
   "metadata": {},
   "source": [
    "# **Spatial Transcriptomics Deep Learning (STDL) Project Notebook**\n",
    "\n",
    "> The notebook contains main experiments and examples of how to use the code"
   ]
  },
  {
   "cell_type": "markdown",
   "metadata": {},
   "source": [
    "## **Phase 1: Pre-processing and technical preparations**"
   ]
  },
  {
   "cell_type": "markdown",
   "metadata": {},
   "source": [
    "### 1.1: **Assign GPU device and allow CUDA debugging**"
   ]
  },
  {
   "cell_type": "code",
   "execution_count": 1,
   "metadata": {},
   "outputs": [],
   "source": [
    "# create code to reimport module if i change it\n",
    "%load_ext autoreload"
   ]
  },
  {
   "cell_type": "code",
   "execution_count": 2,
   "metadata": {},
   "outputs": [
    {
     "name": "stdout",
     "output_type": "stream",
     "text": [
      "cuda debugging allowed\n"
     ]
    }
   ],
   "source": [
    "# the next 2 lines are to allow debugging with CUDA !\n",
    "import os\n",
    "os.environ['CUDA_LAUNCH_BLOCKING'] = \"1\"  \n",
    "print(f'cuda debugging allowed')"
   ]
  },
  {
   "cell_type": "code",
   "execution_count": 3,
   "metadata": {},
   "outputs": [
    {
     "name": "stdout",
     "output_type": "stream",
     "text": [
      "cuda device count: 1\n",
      "Using device: cuda\n",
      "device name: GeForce RTX 2080 Ti\n",
      "torch.cuda.device(0): <torch.cuda.device object at 0x7f8c396d1190>\n",
      "Memory Usage:\n",
      "Allocated: 0.0 GB\n",
      "Cached:    0.0 GB\n",
      "CPU times: user 970 ms, sys: 4.35 s, total: 5.32 s\n",
      "Wall time: 9.81 s\n"
     ]
    }
   ],
   "source": [
    "%%time\n",
    "\n",
    "import torch\n",
    "print(f'cuda device count: {torch.cuda.device_count()}')\n",
    "device = torch.device('cuda' if torch.cuda.is_available() else 'cpu')\n",
    "print('Using device:', device)\n",
    "#Additional Info when using cuda\n",
    "if device.type == 'cuda':\n",
    "    print(f'device name: {torch.cuda.get_device_name(0)}')\n",
    "    print(f'torch.cuda.device(0): {torch.cuda.device(0)}')\n",
    "    print('Memory Usage:')\n",
    "    print('Allocated:', round(torch.cuda.memory_allocated(0)/1024**3,1), 'GB')\n",
    "    print('Cached:   ', round(torch.cuda.memory_cached(0)/1024**3,1), 'GB')\n",
    "# NOTE: important !!!!!!\n",
    "# clearing out the cache before beginning\n",
    "torch.cuda.empty_cache()"
   ]
  },
  {
   "cell_type": "markdown",
   "metadata": {},
   "source": [
    "### 1.2: **Import the Pre-Process module**\n",
    "\n",
    "> `loadAndPreProcess` module contains methods to load the data files as pytorch and pandas objects, methods to preprocess the given data, and methods to create custom datasets from the preprocessed data."
   ]
  },
  {
   "cell_type": "markdown",
   "metadata": {},
   "source": [
    "<div class=\"alert alert-block alert-warning\">\n",
    "<b>TODO:</b> fill above line\n",
    "</div>"
   ]
  },
  {
   "cell_type": "code",
   "execution_count": 4,
   "metadata": {},
   "outputs": [],
   "source": [
    "# note: path to project is: /home/roy.rubin/STDLproject/\n",
    "%autoreload 2\n",
    "import loadAndPreProcess"
   ]
  },
  {
   "cell_type": "markdown",
   "metadata": {},
   "source": [
    "### 1.3: **Load pytorch dataset objects from the image folder**\n",
    "\n",
    "> loading regular and augmented datasets created from the given image folder with transformations.\n",
    "\n",
    "> Note: `augmentedImageFolder` is a custom dataset of imageFolder objects with different transformations (see code).\n",
    "\n",
    "> Note: `im_hight_and_width_size` will define the size to which the images in the folder will be resized to. their original size 176, and so if the number will be bigger, the images will be automaticaly upsampled in the `resize` (not sure by what method) - which means images might be \"pixelized\" / lower quality. The problem is, size 176 doesnt work with all models, so i had to increase the size."
   ]
  },
  {
   "cell_type": "code",
   "execution_count": 5,
   "metadata": {},
   "outputs": [],
   "source": [
    "im_hight_and_width_size = 176  # values: 176 (doesnt work with inception) / 224 (doesnt work with inception) / 299 (works with inception)"
   ]
  },
  {
   "cell_type": "code",
   "execution_count": 6,
   "metadata": {},
   "outputs": [
    {
     "name": "stdout",
     "output_type": "stream",
     "text": [
      "\n",
      "----- entered function load_dataset_from_pictures_folder -----\n",
      "\n",
      "----- finished function load_dataset_from_pictures_folder -----\n",
      "\n",
      "\n",
      "----- entered function load_dataset_from_pictures_folder -----\n",
      "\n",
      "----- finished function load_dataset_from_pictures_folder -----\n",
      "\n",
      "CPU times: user 411 ms, sys: 143 ms, total: 553 ms\n",
      "Wall time: 2.17 s\n"
     ]
    }
   ],
   "source": [
    "%%time\n",
    "\n",
    "path_to_images_dir_patient1_train = \"/home/roy.rubin/STDLproject/spatialGeneExpressionData/patient1/images\"\n",
    "imageFolder_train = loadAndPreProcess.load_dataset_from_images_folder(path_to_images_dir_patient1_train, im_hight_and_width_size)\n",
    "augmentedImageFolder_train = loadAndPreProcess.load_augmented_imageFolder_DS_from_images_folder(path_to_images_dir_patient1_train, im_hight_and_width_size)"
   ]
  },
  {
   "cell_type": "code",
   "execution_count": 7,
   "metadata": {},
   "outputs": [
    {
     "name": "stdout",
     "output_type": "stream",
     "text": [
      "\n",
      "----- entered function load_dataset_from_pictures_folder -----\n",
      "\n",
      "----- finished function load_dataset_from_pictures_folder -----\n",
      "\n",
      "CPU times: user 47 ms, sys: 130 ms, total: 177 ms\n",
      "Wall time: 1.78 s\n"
     ]
    }
   ],
   "source": [
    "%%time\n",
    "\n",
    "path_to_images_dir_patient2_test = \"/home/roy.rubin/STDLproject/spatialGeneExpressionData/patient2/images\"\n",
    "imageFolder_test = loadAndPreProcess.load_dataset_from_images_folder(path_to_images_dir_patient2_test, im_hight_and_width_size)\n",
    "# augmentedImageFolder_test = loadAndPreProcess.load_augmented_imageFolder_DS_from_images_folder(path_to_images_dir_patient2_test, im_hight_and_width_size) # not needed for now"
   ]
  },
  {
   "cell_type": "markdown",
   "metadata": {},
   "source": [
    "### 1.4: **Load pandas dataframe objects from the given mtx/tsv/csv files**\n",
    "\n",
    "> `matrix_dataframe` represents the gene expression count values of each sample for each gene\n",
    "\n",
    "> `features_dataframe` contains the names of all the genes\n",
    "\n",
    "> `barcodes_dataframe` contains the names of all the samples"
   ]
  },
  {
   "cell_type": "code",
   "execution_count": 8,
   "metadata": {},
   "outputs": [
    {
     "name": "stdout",
     "output_type": "stream",
     "text": [
      "\n",
      "----- entered function load_dataframes_from_mtx_and_tsv -----\n",
      "started reading features.tsv\n",
      "V  finished reading features.tsv\n",
      "started reading barcodes.tsv\n",
      "V  finished reading barcodes.tsv\n",
      "started reading matrix.mtx. this might take some time ...\n",
      "V  finished reading matrix.mtx\n",
      "adjusting matrix_dataframe\n",
      "V  finished working on matrix_dataframe\n",
      "\n",
      "----- finished function load_dataframes_from_mtx_and_tsv -----\n",
      "\n",
      "CPU times: user 2min 9s, sys: 2.21 s, total: 2min 11s\n",
      "Wall time: 4min 11s\n"
     ]
    }
   ],
   "source": [
    "%%time\n",
    "\n",
    "path_to_mtx_tsv_files_dir_patient1_train = \"/home/roy.rubin/STDLproject/spatialGeneExpressionData/patient1\"\n",
    "matrix_dataframe_train, features_dataframe_train , barcodes_dataframe_train = loadAndPreProcess.load_dataframes_from_mtx_and_tsv_new(path_to_mtx_tsv_files_dir_patient1_train)"
   ]
  },
  {
   "cell_type": "code",
   "execution_count": 9,
   "metadata": {},
   "outputs": [
    {
     "name": "stdout",
     "output_type": "stream",
     "text": [
      "\n",
      "----- entered function load_dataframes_from_mtx_and_tsv -----\n",
      "started reading features.tsv\n",
      "V  finished reading features.tsv\n",
      "started reading barcodes.tsv\n",
      "V  finished reading barcodes.tsv\n",
      "started reading matrix.mtx. this might take some time ...\n",
      "V  finished reading matrix.mtx\n",
      "adjusting matrix_dataframe\n",
      "V  finished working on matrix_dataframe\n",
      "\n",
      "----- finished function load_dataframes_from_mtx_and_tsv -----\n",
      "\n",
      "CPU times: user 1min 59s, sys: 2.39 s, total: 2min 1s\n",
      "Wall time: 3min 56s\n"
     ]
    }
   ],
   "source": [
    "%%time\n",
    "\n",
    "path_to_mtx_tsv_files_dir_patient2_test = \"/home/roy.rubin/STDLproject/spatialGeneExpressionData/patient2\"\n",
    "matrix_dataframe_test, features_dataframe_test , barcodes_dataframe_test = loadAndPreProcess.load_dataframes_from_mtx_and_tsv_new(path_to_mtx_tsv_files_dir_patient2_test)"
   ]
  },
  {
   "cell_type": "markdown",
   "metadata": {},
   "source": [
    "### 1.5: **Remove samples from the matrix dataframe with no matching images in the image folder**\n",
    "\n",
    "> Note: indices are being reset after this action, so a mapping of old to new column indices is returned: `column_mapping`.\n",
    "\n",
    "> Note: the dataframe is also reordered according to the images order in the image folder"
   ]
  },
  {
   "cell_type": "code",
   "execution_count": 10,
   "metadata": {},
   "outputs": [
    {
     "name": "stdout",
     "output_type": "stream",
     "text": [
      "cutting samples that dont have mathching images in the image folder from the dataframe ...\n",
      "V   done :)\n",
      "\n",
      "CPU times: user 47.4 s, sys: 1.75 s, total: 49.2 s\n",
      "Wall time: 1min 35s\n"
     ]
    }
   ],
   "source": [
    "%%time\n",
    "\n",
    "matrix_dataframe_train, column_mapping_train = loadAndPreProcess.cut_samples_with_no_matching_image_and_reorder_df(matrix_df=matrix_dataframe_train, \n",
    "                                                                                                                    image_folder_of_the_df=imageFolder_train, \n",
    "                                                                                                                    barcodes_df=barcodes_dataframe_train)"
   ]
  },
  {
   "cell_type": "code",
   "execution_count": 11,
   "metadata": {},
   "outputs": [
    {
     "name": "stdout",
     "output_type": "stream",
     "text": [
      "cutting samples that dont have mathching images in the image folder from the dataframe ...\n",
      "V   done :)\n",
      "\n",
      "CPU times: user 47.5 s, sys: 1.31 s, total: 48.8 s\n",
      "Wall time: 1min 22s\n"
     ]
    }
   ],
   "source": [
    "%%time\n",
    "\n",
    "matrix_dataframe_test, column_mapping_test = loadAndPreProcess.cut_samples_with_no_matching_image_and_reorder_df(matrix_df=matrix_dataframe_test, \n",
    "                                                                                                                  image_folder_of_the_df=imageFolder_test, \n",
    "                                                                                                                  barcodes_df=barcodes_dataframe_test)"
   ]
  },
  {
   "cell_type": "markdown",
   "metadata": {},
   "source": [
    "### 1.6: **Remove less-informative genes**\n",
    "\n",
    "> we define *less-informative* genes as genes with less than K counts over all samples\n",
    "\n",
    "> `Base_value` is a parameter for the user's choice\n",
    "\n",
    "> Note: indices are being reset after this action, so a mapping of old to new column indices is returned: `row_mapping`."
   ]
  },
  {
   "cell_type": "code",
   "execution_count": 12,
   "metadata": {},
   "outputs": [
    {
     "name": "stdout",
     "output_type": "stream",
     "text": [
      "checking for genes (rows) that contain less than B counts in both dataframes ...\n",
      "discarding relevant rows ...\n",
      "CPU times: user 59.2 s, sys: 2.79 s, total: 1min 1s\n",
      "Wall time: 1min 44s\n"
     ]
    }
   ],
   "source": [
    "%%time\n",
    "\n",
    "# begin by asserting that our dataframes have the same genes to begin with using the metadata of features_dataframe\n",
    "assert features_dataframe_train['gene_names'].equals(features_dataframe_test['gene_names'])\n",
    "\n",
    "Base_value = 10\n",
    "matrix_dataframe_train, matrix_dataframe_test, row_mapping = loadAndPreProcess.cut_genes_with_under_B_counts_from_train_and_test(matrix_dataframe_train, matrix_dataframe_test, Base_value) "
   ]
  },
  {
   "cell_type": "markdown",
   "metadata": {},
   "source": [
    "### 1.7: **Normalize matrix_dataframe entries**\n",
    "\n",
    "> normaliztion will be performed on the remainning rows of the dataframe with the logic \"log 1P\"\n",
    "\n",
    "> This method Calculates log(1 + x)"
   ]
  },
  {
   "cell_type": "code",
   "execution_count": 13,
   "metadata": {},
   "outputs": [
    {
     "name": "stdout",
     "output_type": "stream",
     "text": [
      "performing log1P transformation of the dataframe ...\n",
      "\n",
      "CPU times: user 2.11 s, sys: 113 ms, total: 2.22 s\n",
      "Wall time: 4.59 s\n"
     ]
    }
   ],
   "source": [
    "%%time\n",
    "\n",
    "matrix_dataframe_train = loadAndPreProcess.perform_log_1p_normalization(matrix_dataframe_train) "
   ]
  },
  {
   "cell_type": "code",
   "execution_count": 14,
   "metadata": {},
   "outputs": [
    {
     "name": "stdout",
     "output_type": "stream",
     "text": [
      "performing log1P transformation of the dataframe ...\n",
      "\n",
      "CPU times: user 2.4 s, sys: 103 ms, total: 2.5 s\n",
      "Wall time: 4.51 s\n"
     ]
    }
   ],
   "source": [
    "%%time\n",
    "\n",
    "matrix_dataframe_test = loadAndPreProcess.perform_log_1p_normalization(matrix_dataframe_test) "
   ]
  },
  {
   "cell_type": "markdown",
   "metadata": {},
   "source": [
    "> We have performed all of the pre-processing actions on our matrix dataframes. (more pre-processing is still needed our datasets)\n",
    "\n",
    "> print some information regarding our dataframes"
   ]
  },
  {
   "cell_type": "code",
   "execution_count": 15,
   "metadata": {},
   "outputs": [
    {
     "name": "stdout",
     "output_type": "stream",
     "text": [
      "\n",
      "print data regarding the reduced dataframe:\n",
      "<class 'pandas.core.frame.DataFrame'>\n",
      "RangeIndex: 18077 entries, 0 to 18076\n",
      "Columns: 3813 entries, 0 to 3812\n",
      "dtypes: Sparse[float64, 0.0](3813)\n",
      "memory usage: 220.7 MB\n",
      "None\n",
      "   0         1     2     3     4         5     6     7         8     9     \\\n",
      "0   0.0  0.000000   0.0   0.0   0.0  0.693147   0.0   0.0  0.000000   0.0   \n",
      "1   0.0  1.098612   0.0   0.0   0.0  0.000000   0.0   0.0  0.693147   0.0   \n",
      "2   0.0  0.000000   0.0   0.0   0.0  0.000000   0.0   0.0  0.000000   0.0   \n",
      "3   0.0  0.000000   0.0   0.0   0.0  0.000000   0.0   0.0  0.000000   0.0   \n",
      "4   0.0  0.693147   0.0   0.0   0.0  0.000000   0.0   0.0  0.000000   0.0   \n",
      "\n",
      "   ...  3803  3804      3805  3806  3807  3808  3809  3810  3811  3812  \n",
      "0  ...   0.0   0.0  0.000000   0.0   0.0   0.0   0.0   0.0   0.0   0.0  \n",
      "1  ...   0.0   0.0  0.000000   0.0   0.0   0.0   0.0   0.0   0.0   0.0  \n",
      "2  ...   0.0   0.0  0.000000   0.0   0.0   0.0   0.0   0.0   0.0   0.0  \n",
      "3  ...   0.0   0.0  0.000000   0.0   0.0   0.0   0.0   0.0   0.0   0.0  \n",
      "4  ...   0.0   0.0  0.693147   0.0   0.0   0.0   0.0   0.0   0.0   0.0  \n",
      "\n",
      "[5 rows x 3813 columns]\n",
      "\n",
      "min value in matrix_dataframe 0.0 max value in matrix_dataframe 8.62748154531036\n",
      "\n",
      "median value in matrix_dataframe 0.0 mean value in matrix_dataframe 0.32039982441271264\n",
      "\n",
      "number of different values in matrix_dataframe is  1087 \n",
      "\n",
      "list of 10 most common values in matrix_dataframe is: \n",
      "1: the value 0.0 appeared 49638925 times (constitutes 72.01603% of the matrix values)\n",
      "2: the value 0.6931471805599453 appeared 9701765 times (constitutes 14.07530% of the matrix values)\n",
      "3: the value 1.0986122886681096 appeared 3828178 times (constitutes 5.55391% of the matrix values)\n",
      "4: the value 1.3862943611198906 appeared 1865714 times (constitutes 2.70677% of the matrix values)\n",
      "5: the value 1.6094379124341003 appeared 1038719 times (constitutes 1.50697% of the matrix values)\n",
      "6: the value 1.791759469228055 appeared 636707 times (constitutes 0.92373% of the matrix values)\n",
      "7: the value 1.9459101490553132 appeared 420712 times (constitutes 0.61037% of the matrix values)\n",
      "8: the value 2.0794415416798357 appeared 294745 times (constitutes 0.42762% of the matrix values)\n",
      "9: the value 2.1972245773362196 appeared 215889 times (constitutes 0.31321% of the matrix values)\n",
      "10: the value 2.302585092994046 appeared 164262 times (constitutes 0.23831% of the matrix values)\n",
      "\n",
      "****\n",
      "\n",
      "\n",
      "print data regarding the reduced dataframe:\n",
      "<class 'pandas.core.frame.DataFrame'>\n",
      "RangeIndex: 18077 entries, 0 to 18076\n",
      "Columns: 4015 entries, 0 to 4014\n",
      "dtypes: Sparse[float64, 0.0](4015)\n",
      "memory usage: 229.7 MB\n",
      "None\n",
      "       0     1     2     3         4     5     6         7     8     9     \\\n",
      "0  0.000000   0.0   0.0   0.0  0.000000   0.0   0.0  0.000000   0.0   0.0   \n",
      "1  0.000000   0.0   0.0   0.0  0.693147   0.0   0.0  0.693147   0.0   0.0   \n",
      "2  0.000000   0.0   0.0   0.0  0.000000   0.0   0.0  0.000000   0.0   0.0   \n",
      "3  0.000000   0.0   0.0   0.0  0.000000   0.0   0.0  0.000000   0.0   0.0   \n",
      "4  0.693147   0.0   0.0   0.0  0.693147   0.0   0.0  1.098612   0.0   0.0   \n",
      "\n",
      "   ...  4005      4006  4007  4008  4009  4010  4011  4012  4013  4014  \n",
      "0  ...   0.0  0.000000   0.0   0.0   0.0   0.0   0.0   0.0   0.0   0.0  \n",
      "1  ...   0.0  0.000000   0.0   0.0   0.0   0.0   0.0   0.0   0.0   0.0  \n",
      "2  ...   0.0  0.000000   0.0   0.0   0.0   0.0   0.0   0.0   0.0   0.0  \n",
      "3  ...   0.0  0.693147   0.0   0.0   0.0   0.0   0.0   0.0   0.0   0.0  \n",
      "4  ...   0.0  0.000000   0.0   0.0   0.0   0.0   0.0   0.0   0.0   0.0  \n",
      "\n",
      "[5 rows x 4015 columns]\n",
      "\n",
      "min value in matrix_dataframe 0.0 max value in matrix_dataframe 8.852807917623322\n",
      "\n",
      "median value in matrix_dataframe 0.0 mean value in matrix_dataframe 0.315108124458449\n",
      "\n",
      "number of different values in matrix_dataframe is  1172 \n",
      "\n",
      "list of 10 most common values in matrix_dataframe is: \n",
      "1: the value 0.0 appeared 52511911 times (constitutes 72.35123% of the matrix values)\n",
      "2: the value 0.6931471805599453 appeared 10229677 times (constitutes 14.09451% of the matrix values)\n",
      "3: the value 1.0986122886681096 appeared 3962322 times (constitutes 5.45931% of the matrix values)\n",
      "4: the value 1.3862943611198906 appeared 1903778 times (constitutes 2.62304% of the matrix values)\n",
      "5: the value 1.6094379124341003 appeared 1049475 times (constitutes 1.44597% of the matrix values)\n",
      "6: the value 1.791759469228055 appeared 641942 times (constitutes 0.88447% of the matrix values)\n",
      "7: the value 1.9459101490553132 appeared 424204 times (constitutes 0.58447% of the matrix values)\n",
      "8: the value 2.0794415416798357 appeared 297671 times (constitutes 0.41013% of the matrix values)\n",
      "9: the value 2.1972245773362196 appeared 217997 times (constitutes 0.30036% of the matrix values)\n",
      "10: the value 2.302585092994046 appeared 167120 times (constitutes 0.23026% of the matrix values)\n"
     ]
    }
   ],
   "source": [
    "import projectUtilities\n",
    "projectUtilities.printInfoAboutReducedDF(matrix_dataframe_train)\n",
    "print(\"\\n****\\n\")\n",
    "projectUtilities.printInfoAboutReducedDF(matrix_dataframe_test)"
   ]
  },
  {
   "cell_type": "markdown",
   "metadata": {},
   "source": [
    "### 1.8: **Create custom datasets**\n",
    "\n",
    "> Each custom dataset is tailored per task\n",
    "\n",
    "> there are four tasks: single gene prediction, k gene prediction, all gene prediction using NMF dim. reduction, all gene prediction using AE dim. reduction\n",
    "\n",
    "> For each of the above tasks 2 datasets were created:\n",
    "\n",
    ">> A Dataset created from the TRAIN data WITHOUT augmentation (without image transformations)\n",
    "\n",
    ">> A Dataset created from the TRAIN data WITH augmentation (with image transformations)\n",
    "\n",
    ">> A Dataset created from the TEST data WITHOUT augmentation (without image transformations)"
   ]
  },
  {
   "cell_type": "code",
   "execution_count": 16,
   "metadata": {},
   "outputs": [
    {
     "name": "stdout",
     "output_type": "stream",
     "text": [
      "The chosen gene is CRISP3 and its variance is 1.3530372139065492\n",
      "\n",
      "----- entering __init__ phase of  STDL_Dataset_SingleValuePerImg -----\n",
      "\n",
      "----- finished __init__ phase of  STDL_Dataset_SingleValuePerImg -----\n",
      "\n",
      "\n",
      "----- entering __init__ phase of  STDL_Dataset_SingleValuePerImg -----\n",
      "\n",
      "----- finished __init__ phase of  STDL_Dataset_SingleValuePerImg -----\n",
      "\n",
      "CPU times: user 1.02 s, sys: 105 ms, total: 1.13 s\n",
      "Wall time: 1.91 s\n"
     ]
    }
   ],
   "source": [
    "%%time\n",
    "\n",
    "## choose gene\n",
    "gene_name = 'CRISP3'  # was changed from 'BRCA1' because CRISP3 has the (almost) highest variance in both the train and test datasets.\n",
    "                      # NOTE: the gene 'CRISP3' is \"upregulated in certain types of prostate cancer\" according to\n",
    "                      #       https://www.genecards.org/cgi-bin/carddisp.pl?gene=CRISP3&keywords=rich\n",
    "from projectUtilities import get_variance_of_gene\n",
    "gene_variance_value = get_variance_of_gene(gene_name=gene_name, matrix_df=matrix_dataframe_train, row_mapping=row_mapping, features_df=features_dataframe_train)\n",
    "print(f'The chosen gene is {gene_name} and its variance is {gene_variance_value}')\n",
    "\n",
    "## create datasets\n",
    "custom_DS_SingleValuePerImg_augmented = loadAndPreProcess.STDL_Dataset_SingleValuePerImg(imageFolder=augmentedImageFolder_train, \n",
    "                                                               matrix_dataframe=matrix_dataframe_train, \n",
    "                                                               features_dataframe=features_dataframe_train, \n",
    "                                                               barcodes_dataframe=barcodes_dataframe_train, \n",
    "                                                               column_mapping=column_mapping_train,\n",
    "                                                               row_mapping=row_mapping,\n",
    "                                                               chosen_gene_name=gene_name)\n",
    "custom_DS_SingleValuePerImg_test = loadAndPreProcess.STDL_Dataset_SingleValuePerImg(imageFolder=imageFolder_test, \n",
    "                                                               matrix_dataframe=matrix_dataframe_test, \n",
    "                                                               features_dataframe=features_dataframe_test, \n",
    "                                                               barcodes_dataframe=barcodes_dataframe_test, \n",
    "                                                               column_mapping=column_mapping_test,\n",
    "                                                               row_mapping=row_mapping,\n",
    "                                                               chosen_gene_name=gene_name)"
   ]
  },
  {
   "cell_type": "markdown",
   "metadata": {},
   "source": [
    "<div class=\"alert alert-block alert-info\">\n",
    "<b>Note:</b> inside the init phase of `STDL_Dataset_KValuesPerImg_KGenesWithHighestVariance` class, K genes with the highest variance are chosen from matrix_dataframe, and they are the only genes that are kept for training and testing purposes\n",
    "</div>"
   ]
  },
  {
   "cell_type": "code",
   "execution_count": 17,
   "metadata": {},
   "outputs": [
    {
     "name": "stdout",
     "output_type": "stream",
     "text": [
      "\n",
      "----- entering __init__ phase of  STDL_Dataset_KValuesPerImg_KGenesWithHighestVariance -----\n",
      "calculate variance of all columns from  matrix_dataframe - and choosing K genes with higest variance ...\n",
      "the K genes with the highest variance are:\n",
      "      gene_names  variance\n",
      "15326      COX6C  1.384259\n",
      "10975     CRISP3  1.353037\n",
      "6665        CPB1  1.328052\n",
      "20428        MGP  1.309196\n",
      "13994     TCEAL4  1.237330\n",
      "9549      CXCL14  1.215041\n",
      "5098      IGFBP5  1.177371\n",
      "18155      CCND1  1.167686\n",
      "11978       AGR2  1.163414\n",
      "20840       KRT8  1.158179\n",
      "\n",
      "----- finished __init__ phase of  STDL_Dataset_LatentTensor -----\n",
      "\n",
      "\n",
      "----- entering __init__ phase of  STDL_Dataset_KValuesPerImg_KGenesWithHighestVariance -----\n",
      "calculate variance of all columns from  matrix_dataframe - and choosing K genes with higest variance ...\n",
      "the K genes with the highest variance are:\n",
      "      gene_names  variance\n",
      "10975     CRISP3  1.301761\n",
      "6665        CPB1  1.259807\n",
      "9549      CXCL14  1.217983\n",
      "32395      IGLC2  1.125526\n",
      "4026        IGKC  1.107278\n",
      "20428        MGP  1.096459\n",
      "23764      IGHG1  0.993734\n",
      "23765      IGHG3  0.987250\n",
      "13994     TCEAL4  0.985546\n",
      "11978       AGR2  0.955655\n",
      "\n",
      "----- finished __init__ phase of  STDL_Dataset_LatentTensor -----\n",
      "\n",
      "CPU times: user 20.2 s, sys: 2.07 s, total: 22.3 s\n",
      "Wall time: 40.2 s\n"
     ]
    }
   ],
   "source": [
    "%%time\n",
    "\n",
    "k = 10\n",
    "\n",
    "custom_DS_KGenesWithHighestVariance_augmented = loadAndPreProcess.STDL_Dataset_KValuesPerImg_KGenesWithHighestVariance(imageFolder=augmentedImageFolder_train, \n",
    "                                                                           matrix_dataframe=matrix_dataframe_train, \n",
    "                                                                           features_dataframe=features_dataframe_train, \n",
    "                                                                           barcodes_dataframe=barcodes_dataframe_train, \n",
    "                                                                           column_mapping=column_mapping_train,\n",
    "                                                                           row_mapping=row_mapping,\n",
    "                                                                           num_of_dims_k=k)\n",
    "custom_DS_KGenesWithHighestVariance_test = loadAndPreProcess.STDL_Dataset_KValuesPerImg_KGenesWithHighestVariance(imageFolder=imageFolder_test, \n",
    "                                                                           matrix_dataframe=matrix_dataframe_test, \n",
    "                                                                           features_dataframe=features_dataframe_test, \n",
    "                                                                           barcodes_dataframe=barcodes_dataframe_test, \n",
    "                                                                           column_mapping=column_mapping_test,\n",
    "                                                                           row_mapping=row_mapping,                                                                                                                  \n",
    "                                                                           num_of_dims_k=k)"
   ]
  },
  {
   "cell_type": "markdown",
   "metadata": {},
   "source": [
    "<div class=\"alert alert-block alert-info\">\n",
    "<b>Note:</b> inside the init phase of `STDL_Dataset_KValuesPerImg_LatentTensor_NMF` class, an NMF decompositionis performed on the matrix_dataframe object\n",
    "</div>"
   ]
  },
  {
   "cell_type": "code",
   "execution_count": 18,
   "metadata": {},
   "outputs": [
    {
     "name": "stdout",
     "output_type": "stream",
     "text": [
      "\n",
      "----- entering __init__ phase of  STDL_Dataset_KValuesPerImg_LatentTensor_NMF -----\n",
      "performing NMF decomposition on main matrix dataframe ...\n",
      "\n",
      "----- finished __init__ phase of  STDL_Dataset_LatentTensor -----\n",
      "\n",
      "\n",
      "----- entering __init__ phase of  STDL_Dataset_KValuesPerImg_LatentTensor_NMF -----\n",
      "performing NMF decomposition on main matrix dataframe ...\n",
      "\n",
      "----- finished __init__ phase of  STDL_Dataset_LatentTensor -----\n",
      "\n",
      "CPU times: user 11min 56s, sys: 7min 52s, total: 19min 48s\n",
      "Wall time: 1min 16s\n"
     ]
    }
   ],
   "source": [
    "%%time\n",
    "\n",
    "k = 10\n",
    "\n",
    "custom_DS_LatentTensor_NMF_augmented = loadAndPreProcess.STDL_Dataset_KValuesPerImg_LatentTensor_NMF(imageFolder=augmentedImageFolder_train, \n",
    "                                                                           matrix_dataframe=matrix_dataframe_train, \n",
    "                                                                           features_dataframe=features_dataframe_train, \n",
    "                                                                           barcodes_dataframe=barcodes_dataframe_train, \n",
    "                                                                           column_mapping=column_mapping_train,\n",
    "                                                                           num_of_dims_k=k)\n",
    "custom_DS_LatentTensor_NMF_test = loadAndPreProcess.STDL_Dataset_KValuesPerImg_LatentTensor_NMF(imageFolder=imageFolder_test, \n",
    "                                                                           matrix_dataframe=matrix_dataframe_test, \n",
    "                                                                           features_dataframe=features_dataframe_test, \n",
    "                                                                           barcodes_dataframe=barcodes_dataframe_test, \n",
    "                                                                           column_mapping=column_mapping_test,\n",
    "                                                                           num_of_dims_k=k)"
   ]
  },
  {
   "cell_type": "markdown",
   "metadata": {},
   "source": [
    "<div class=\"alert alert-block alert-info\">\n",
    "<b>Note:</b> \n",
    "<ul>\n",
    "  <li>first we create a dataset from `matrix_dataframe_train` to feed our AEnet.</li>\n",
    "  <li>Then we create our AEnet and train it.</li>\n",
    "  <li>Finally, we create our `custom_DS_LatentTensor_AE` class, in which the Autoencoder network will be saved.</li>\n",
    "</ul>\n",
    "</div>"
   ]
  },
  {
   "cell_type": "code",
   "execution_count": 19,
   "metadata": {},
   "outputs": [],
   "source": [
    "dataset_from_matrix_df = loadAndPreProcess.STDL_Dataset_matrix_df_for_AE_init(matrix_dataframe_train)"
   ]
  },
  {
   "cell_type": "code",
   "execution_count": 20,
   "metadata": {},
   "outputs": [
    {
     "name": "stdout",
     "output_type": "stream",
     "text": [
      "\n",
      "----- entered function return_trained_AE_net -----\n",
      "note - number of (hidden) linear layers is supposed to be 3\n",
      "\n",
      "entered __init__ of AutoencoderNet\n",
      "****** begin training ******\n",
      "\n",
      "iteration 1 of 5 epochs\n",
      "batch 3813 of 3813 batches\n",
      "finished inner loop.\n",
      "\n",
      "in this epoch: min loss 0.013137559406459332 max loss 0.9834523797035217\n",
      "               average loss 0.11356053072343676\n",
      "\n",
      "iteration 2 of 5 epochs\n",
      "batch 3813 of 3813 batches\n",
      "finished inner loop.\n",
      "\n",
      "in this epoch: min loss 0.012515555135905743 max loss 0.21789248287677765\n",
      "               average loss 0.10551687726790539\n",
      "\n",
      "iteration 3 of 5 epochs\n",
      "batch 3813 of 3813 batches\n",
      "finished inner loop.\n",
      "\n",
      "in this epoch: min loss 0.011811311356723309 max loss 0.20353899896144867\n",
      "               average loss 0.10402727018359832\n",
      "\n",
      "iteration 4 of 5 epochs\n",
      "batch 3813 of 3813 batches\n",
      "finished inner loop.\n",
      "\n",
      "in this epoch: min loss 0.01120042148977518 max loss 0.19107140600681305\n",
      "               average loss 0.10319467701668537\n",
      "\n",
      "iteration 5 of 5 epochs\n",
      "batch 3813 of 3813 batches\n",
      "finished inner loop.\n",
      "\n",
      "in this epoch: min loss 0.010532894171774387 max loss 0.18706808984279633\n",
      "               average loss 0.10253978632986467\n",
      "\n",
      "----- finished function return_trained_AE_net -----\n",
      "\n",
      "CPU times: user 5min 49s, sys: 45.4 s, total: 6min 35s\n",
      "Wall time: 13min 37s\n"
     ]
    }
   ],
   "source": [
    "%%time\n",
    "\n",
    "from executionModule import get_Trained_AEnet\n",
    "k = 10\n",
    "AEnet = get_Trained_AEnet(dataset_from_matrix_df=dataset_from_matrix_df, z_dim=k, num_of_epochs=3, device=device)"
   ]
  },
  {
   "cell_type": "code",
   "execution_count": 21,
   "metadata": {},
   "outputs": [
    {
     "name": "stdout",
     "output_type": "stream",
     "text": [
      "\n",
      "----- entering __init__ phase of  STDL_Dataset_KValuesPerImg_LatentTensor_AutoEncoder -----\n",
      "initializing the autoencoder (this might take a while) ...\n",
      "\n",
      "----- finished __init__ phase of  STDL_Dataset_KValuesPerImg_LatentTensor_AutoEncoder -----\n",
      "\n",
      "\n",
      "----- entering __init__ phase of  STDL_Dataset_KValuesPerImg_LatentTensor_AutoEncoder -----\n",
      "initializing the autoencoder (this might take a while) ...\n",
      "\n",
      "----- finished __init__ phase of  STDL_Dataset_KValuesPerImg_LatentTensor_AutoEncoder -----\n",
      "\n",
      "CPU times: user 1.28 s, sys: 1.13 s, total: 2.41 s\n",
      "Wall time: 5.63 s\n"
     ]
    }
   ],
   "source": [
    "%%time\n",
    "\n",
    "k = 10\n",
    "\n",
    "custom_DS_LatentTensor_AE_augmented = loadAndPreProcess.STDL_Dataset_KValuesPerImg_LatentTensor_AutoEncoder(imageFolder=augmentedImageFolder_train, \n",
    "                                                                           matrix_dataframe=matrix_dataframe_train, \n",
    "                                                                           features_dataframe=features_dataframe_train, \n",
    "                                                                           barcodes_dataframe=barcodes_dataframe_train, \n",
    "                                                                           AEnet=AEnet,                                                                                                            \n",
    "                                                                           column_mapping=column_mapping_train,\n",
    "                                                                           num_of_dims_k=k,\n",
    "                                                                           device=device)\n",
    "custom_DS_LatentTensor_AE_test = loadAndPreProcess.STDL_Dataset_KValuesPerImg_LatentTensor_AutoEncoder(imageFolder=imageFolder_test, \n",
    "                                                                           matrix_dataframe=matrix_dataframe_test, \n",
    "                                                                           features_dataframe=features_dataframe_test, \n",
    "                                                                           barcodes_dataframe=barcodes_dataframe_test, \n",
    "                                                                           AEnet=AEnet,                                                                                                       \n",
    "                                                                           column_mapping=column_mapping_test,\n",
    "                                                                           num_of_dims_k=k,\n",
    "                                                                           device=device)"
   ]
  },
  {
   "cell_type": "markdown",
   "metadata": {},
   "source": [
    "### 1.9: prepare for the next phases in which the experiments are executed\n",
    "\n",
    "> import `executionModule` which contains the experiments, training methods, and testing methods\n",
    "\n",
    "> create `hyperparameters` dictionary which will contain all of the hyper-parameters for our experiments (note - user can change these later)\n",
    "\n",
    "> create `model_list` that will hold all the names for the models that will be used (only 3 models for now, as can be seen below). the models are:\n",
    "\n",
    ">> `BasicConvNet` model\n",
    "\n",
    ">> `DensetNet121` model\n",
    "\n",
    ">> `Inception_V3` model"
   ]
  },
  {
   "cell_type": "markdown",
   "metadata": {},
   "source": [
    "<div class=\"alert alert-block alert-warning\">\n",
    "<b>Warning:</b> change the hyper-parameters below with caution if needed !\n",
    "</div>"
   ]
  },
  {
   "cell_type": "code",
   "execution_count": 22,
   "metadata": {},
   "outputs": [],
   "source": [
    "%autoreload 2\n",
    "import executionModule\n",
    "\n",
    "# define hyperparameters for the TRAINING of the models (NOT the testing phases of the experiments)\n",
    "hyperparameters = dict()\n",
    "hyperparameters['batch_size'] = 25\n",
    "hyperparameters['max_alowed_number_of_batches'] = 50 #<--------------------------change to inf or 99999. anythin below 1220 will cut some batches ... this is only used to speed up training\n",
    "hyperparameters['precent_of_dataset_allocated_for_training'] = 0.8\n",
    "hyperparameters['learning_rate'] = 1e-4\n",
    "hyperparameters['momentum'] = 0.9\n",
    "hyperparameters['num_of_epochs'] = 4 #<------------------------------------------change to 5 at least\n",
    "\n",
    "# define hyperparameters for BsicConvNet\n",
    "hyperparameters['channels'] = [32] \n",
    "hyperparameters['num_of_convolution_layers'] = len(hyperparameters['channels'])\n",
    "hyperparameters['hidden_dims'] = [100]\n",
    "hyperparameters['num_of_hidden_layers'] = len(hyperparameters['hidden_dims'])\n",
    "hyperparameters['pool_every'] = 99999\n",
    "\n",
    "# list of all models used\n",
    "model_list = []\n",
    "model_list.append('BasicConvNet')\n",
    "model_list.append('DensetNet121')\n"
   ]
  },
  {
   "cell_type": "markdown",
   "metadata": {},
   "source": [
    "> Creating an assisting method for our testing that will time each experiment\n",
    "\n",
    "> Also, we add the code before the plots to show them correctly `%matplotlib inline`"
   ]
  },
  {
   "cell_type": "code",
   "execution_count": 23,
   "metadata": {},
   "outputs": [],
   "source": [
    "%matplotlib inline\n",
    "\n",
    "def experiment_loop(ds_train, ds_test, phase_name):\n",
    "    for model_name in model_list:\n",
    "        print(f'\\nstarting experiment **{model_name}**\\n')\n",
    "        %time executionModule.runExperiment(ds_train=ds_train, ds_test=ds_test, hyperparams=hyperparameters, device=device, model_name=model_name, dataset_name=phase_name)\n",
    "        print(f'\\nfinished experiment {model_name}')\n",
    "    "
   ]
  },
  {
   "cell_type": "markdown",
   "metadata": {},
   "source": [
    "<div class=\"alert alert-block alert-info\">\n",
    "<b>Note:</b> In each experiment, the model is trained with the augmented train dataset, and then tested on the test dataset\n",
    "    (NMF and AE experiments also test on the regular train dataset after training is done)\n",
    "</div>"
   ]
  },
  {
   "cell_type": "markdown",
   "metadata": {},
   "source": [
    "## Phase 2: Single Gene Prediction"
   ]
  },
  {
   "cell_type": "code",
   "execution_count": 24,
   "metadata": {},
   "outputs": [
    {
     "name": "stdout",
     "output_type": "stream",
     "text": [
      "\n",
      "starting experiment **BasicConvNet**\n",
      "\n",
      "\n",
      "----- entered function runExperiment -----\n",
      "/ * \\ ENTERED train_prediction_model / * \\ \n",
      "NOTE: in order to speed up training (while damaging accuracy) the number of batches per epoch was reduced from 1220 to 50\n",
      "****** begin training ******\n",
      "\n",
      "iteration 1 of 4 epochs\n",
      "batch 50 of 50 batches\n",
      "finished inner loop.\n",
      "in this epoch: average loss 7.927916225790978\n",
      "\n",
      "iteration 2 of 4 epochs\n",
      "batch 50 of 50 batches\n",
      "finished inner loop.\n",
      "in this epoch: average loss 1.331215323805809\n",
      "\n",
      "iteration 3 of 4 epochs\n",
      "batch 50 of 50 batches\n",
      "finished inner loop.\n",
      "in this epoch: average loss 1.3035771346092224\n",
      "\n",
      "iteration 4 of 4 epochs\n",
      "batch 50 of 50 batches\n",
      "finished inner loop.\n",
      "in this epoch: average loss 1.2275430732965469\n",
      "finished all epochs !\n",
      "which means, that this model is now trained.\n",
      " \\ * / FINISHED train_prediction_model \\ * / \n",
      "\n",
      "----- entered function getSingleDimPrediction -----\n",
      "batch 201 of 201 batches\r"
     ]
    },
    {
     "data": {
      "image/png": "[encoded data removed]",
      "text/plain": [
       "<Figure size 432x288 with 1 Axes>"
      ]
     },
     "metadata": {
      "needs_background": "light"
     },
     "output_type": "display_data"
    },
    {
     "name": "stdout",
     "output_type": "stream",
     "text": [
      "--delete-- x_boundry is 21332\n",
      "--delete-- y_boundry is 20411\n",
      "--delete-- values_matrix_true shape (21332, 20411)\n",
      "Finished preparing values for plotting. now starting to plot, this might take a while ...\n"
     ]
    },
    {
     "data": {
      "image/png": "[encoded data removed]",
      "text/plain": [
       "<Figure size 432x288 with 1 Axes>"
      ]
     },
     "metadata": {
      "needs_background": "light"
     },
     "output_type": "display_data"
    },
    {
     "data": {
      "image/png": "[encoded data removed]",
      "text/plain": [
       "<Figure size 432x288 with 1 Axes>"
      ]
     },
     "metadata": {
      "needs_background": "light"
     },
     "output_type": "display_data"
    },
    {
     "name": "stdout",
     "output_type": "stream",
     "text": [
      "\n",
      "----- finished function getSingleDimPrediction -----\n",
      "distance between M_truth, M_pred: 75.32735247295781\n",
      "distance between M_truth, Baseline: 72.28603324093415\n",
      "distance between M_pred, Baseline: 27.32700362350908\n",
      "\n",
      "----- finished function runExperiment -----\n",
      "CPU times: user 1min 33s, sys: 18.5 s, total: 1min 52s\n",
      "Wall time: 5min 9s\n",
      "\n",
      "finished experiment BasicConvNet\n",
      "\n",
      "starting experiment **DensetNet121**\n",
      "\n",
      "\n",
      "----- entered function runExperiment -----\n",
      "/ * \\ ENTERED train_prediction_model / * \\ \n",
      "NOTE: in order to speed up training (while damaging accuracy) the number of batches per epoch was reduced from 1220 to 50\n",
      "****** begin training ******\n",
      "\n",
      "iteration 1 of 4 epochs\n",
      "batch 50 of 50 batches\n",
      "finished inner loop.\n",
      "in this epoch: average loss 1.4347233170270919\n",
      "\n",
      "iteration 2 of 4 epochs\n",
      "batch 50 of 50 batches\n",
      "finished inner loop.\n",
      "in this epoch: average loss 1.1510788345336913\n",
      "\n",
      "iteration 3 of 4 epochs\n",
      "batch 50 of 50 batches\n",
      "finished inner loop.\n",
      "in this epoch: average loss 1.0757167142629624\n",
      "\n",
      "iteration 4 of 4 epochs\n",
      "batch 50 of 50 batches\n",
      "finished inner loop.\n",
      "in this epoch: average loss 1.0462223422527313\n",
      "finished all epochs !\n",
      "which means, that this model is now trained.\n",
      " \\ * / FINISHED train_prediction_model \\ * / \n",
      "\n",
      "----- entered function getSingleDimPrediction -----\n",
      "batch 201 of 201 batches\r"
     ]
    },
    {
     "data": {
      "image/png": "[encoded data removed]",
      "text/plain": [
       "<Figure size 432x288 with 1 Axes>"
      ]
     },
     "metadata": {
      "needs_background": "light"
     },
     "output_type": "display_data"
    },
    {
     "name": "stdout",
     "output_type": "stream",
     "text": [
      "--delete-- x_boundry is 21332\n",
      "--delete-- y_boundry is 20411\n",
      "--delete-- values_matrix_true shape (21332, 20411)\n",
      "Finished preparing values for plotting. now starting to plot, this might take a while ...\n"
     ]
    },
    {
     "data": {
      "image/png": "[encoded data removed]",
      "text/plain": [
       "<Figure size 432x288 with 1 Axes>"
      ]
     },
     "metadata": {
      "needs_background": "light"
     },
     "output_type": "display_data"
    },
    {
     "data": {
      "image/png": "[encoded data removed]",
      "text/plain": [
       "<Figure size 432x288 with 1 Axes>"
      ]
     },
     "metadata": {
      "needs_background": "light"
     },
     "output_type": "display_data"
    },
    {
     "name": "stdout",
     "output_type": "stream",
     "text": [
      "\n",
      "----- finished function getSingleDimPrediction -----\n",
      "distance between M_truth, M_pred: 72.72068610434681\n",
      "distance between M_truth, Baseline: 72.28603324093415\n",
      "distance between M_pred, Baseline: 27.466234227343165\n",
      "\n",
      "----- finished function runExperiment -----\n",
      "CPU times: user 3min 2s, sys: 22.4 s, total: 3min 25s\n",
      "Wall time: 8min 21s\n",
      "\n",
      "finished experiment DensetNet121\n"
     ]
    },
    {
     "data": {
      "text/plain": [
       "<Figure size 432x288 with 0 Axes>"
      ]
     },
     "metadata": {},
     "output_type": "display_data"
    }
   ],
   "source": [
    "experiment_loop(ds_train=custom_DS_SingleValuePerImg_augmented ,ds_test=custom_DS_SingleValuePerImg_test ,phase_name='single_gene_augmented')"
   ]
  },
  {
   "cell_type": "markdown",
   "metadata": {},
   "source": [
    "## Phase 3: K genes prediction"
   ]
  },
  {
   "cell_type": "code",
   "execution_count": 25,
   "metadata": {},
   "outputs": [
    {
     "name": "stdout",
     "output_type": "stream",
     "text": [
      "\n",
      "starting experiment **BasicConvNet**\n",
      "\n",
      "\n",
      "----- entered function runExperiment -----\n",
      "/ * \\ ENTERED train_prediction_model / * \\ \n",
      "NOTE: in order to speed up training (while damaging accuracy) the number of batches per epoch was reduced from 1220 to 50\n",
      "****** begin training ******\n",
      "\n",
      "iteration 1 of 4 epochs\n",
      "batch 50 of 50 batches\n",
      "finished inner loop.\n",
      "in this epoch: average loss 3.1781436514854433\n",
      "\n",
      "iteration 2 of 4 epochs\n",
      "batch 50 of 50 batches\n",
      "finished inner loop.\n",
      "in this epoch: average loss 1.1588895320892334\n",
      "\n",
      "iteration 3 of 4 epochs\n",
      "batch 50 of 50 batches\n",
      "finished inner loop.\n",
      "in this epoch: average loss 1.234115835428238\n",
      "\n",
      "iteration 4 of 4 epochs\n",
      "batch 50 of 50 batches\n",
      "finished inner loop.\n",
      "in this epoch: average loss 1.1060366880893708\n",
      "finished all epochs !\n",
      "which means, that this model is now trained.\n",
      " \\ * / FINISHED train_prediction_model \\ * / \n",
      "\n",
      "----- entered function getKDimPrediction -----\n",
      "batch 201 of 201 batches\n",
      "----- finished function getKDimPrediction -----\n",
      "distance between M_truth, M_pred: 423.33766980676285\n",
      "distance between M_truth, Baseline: 261.825453347885\n",
      "distance between M_pred, Baseline: 273.97959201007154\n",
      "\n",
      "----- finished function runExperiment -----\n",
      "CPU times: user 1min 3s, sys: 8.99 s, total: 1min 12s\n",
      "Wall time: 3min 9s\n",
      "\n",
      "finished experiment BasicConvNet\n",
      "\n",
      "starting experiment **DensetNet121**\n",
      "\n",
      "\n",
      "----- entered function runExperiment -----\n",
      "/ * \\ ENTERED train_prediction_model / * \\ \n",
      "NOTE: in order to speed up training (while damaging accuracy) the number of batches per epoch was reduced from 1220 to 50\n",
      "****** begin training ******\n",
      "\n",
      "iteration 1 of 4 epochs\n",
      "batch 50 of 50 batches\n",
      "finished inner loop.\n",
      "in this epoch: average loss 6.65781346321106\n",
      "\n",
      "iteration 2 of 4 epochs\n",
      "batch 50 of 50 batches\n",
      "finished inner loop.\n",
      "in this epoch: average loss 2.123515074253082\n",
      "\n",
      "iteration 3 of 4 epochs\n",
      "batch 50 of 50 batches\n",
      "finished inner loop.\n",
      "in this epoch: average loss 1.1787740278244019\n",
      "\n",
      "iteration 4 of 4 epochs\n",
      "batch 50 of 50 batches\n",
      "finished inner loop.\n",
      "in this epoch: average loss 1.0087582218647002\n",
      "finished all epochs !\n",
      "which means, that this model is now trained.\n",
      " \\ * / FINISHED train_prediction_model \\ * / \n",
      "\n",
      "----- entered function getKDimPrediction -----\n",
      "batch 201 of 201 batches\n",
      "----- finished function getKDimPrediction -----\n",
      "distance between M_truth, M_pred: 395.6701764701542\n",
      "distance between M_truth, Baseline: 261.825453347885\n",
      "distance between M_pred, Baseline: 244.3905695294041\n",
      "\n",
      "----- finished function runExperiment -----\n",
      "CPU times: user 2min 34s, sys: 13.1 s, total: 2min 47s\n",
      "Wall time: 7min 29s\n",
      "\n",
      "finished experiment DensetNet121\n"
     ]
    }
   ],
   "source": [
    "# experiment_loop(ds_train=custom_DS_KGenesWithHighestVariance_augmented ,ds_test=custom_DS_KGenesWithHighestVariance_test ,phase_name='k_genes_augmented')"
   ]
  },
  {
   "cell_type": "markdown",
   "metadata": {},
   "source": [
    "## Phase 4: All genes prediction - using dimensionality reduction techniques\n",
    "\n",
    "### 4.1: Prediction using dimensionality reduction technique NMF"
   ]
  },
  {
   "cell_type": "code",
   "execution_count": null,
   "metadata": {},
   "outputs": [
    {
     "name": "stdout",
     "output_type": "stream",
     "text": [
      "\n",
      "starting experiment **BasicConvNet**\n",
      "\n",
      "\n",
      "----- entered function runExperiment -----\n",
      "/ * \\ ENTERED train_prediction_model / * \\ \n",
      "NOTE: in order to speed up training (while damaging accuracy) the number of batches per epoch was reduced from 1220 to 50\n",
      "****** begin training ******\n",
      "\n",
      "iteration 1 of 4 epochs\n",
      "batch 50 of 50 batches\n",
      "finished inner loop.\n",
      "in this epoch: average loss 1.0349576790630817\n",
      "\n",
      "iteration 2 of 4 epochs\n",
      "batch 50 of 50 batches\n",
      "finished inner loop.\n",
      "in this epoch: average loss 0.1055717696249485\n",
      "\n",
      "iteration 3 of 4 epochs\n",
      "batch 50 of 50 batches\n",
      "finished inner loop.\n",
      "in this epoch: average loss 0.11324989840388298\n",
      "\n",
      "iteration 4 of 4 epochs\n",
      "batch 50 of 50 batches\n",
      "finished inner loop.\n",
      "in this epoch: average loss 0.10761551417410374\n",
      "finished all epochs !\n",
      "which means, that this model is now trained.\n",
      " \\ * / FINISHED train_prediction_model \\ * / \n",
      "\n",
      "----- entered function getFullDimsPrediction_with_NMF_DS -----\n",
      "batch 183 of 191 batches\r"
     ]
    }
   ],
   "source": [
    "# experiment_loop(ds_train=custom_DS_LatentTensor_NMF_augmented ,ds_test=custom_DS_LatentTensor_NMF_test ,phase_name='NMF_augmented')"
   ]
  },
  {
   "cell_type": "markdown",
   "metadata": {},
   "source": [
    "### 4.2: Prediction using dimensionality reduction technique AE"
   ]
  },
  {
   "cell_type": "code",
   "execution_count": null,
   "metadata": {},
   "outputs": [],
   "source": [
    "# experiment_loop(ds_train=custom_DS_LatentTensor_AE_augmented ,ds_test=custom_DS_LatentTensor_AE_test ,phase_name='AE_augmented')"
   ]
  },
  {
   "cell_type": "markdown",
   "metadata": {},
   "source": [
    "<div class=\"alert alert-block alert-danger\">\n",
    "<b>Note:</b> below this - everything is a testing block\n",
    "</div>"
   ]
  },
  {
   "cell_type": "code",
   "execution_count": null,
   "metadata": {},
   "outputs": [],
   "source": [
    "# import matplotlib.pyplot as plt \n",
    "# import numpy as np\n",
    "# x_list = [1,2,3,4,5]\n",
    "# y_list = [1,2,3,4,5]\n",
    "# x_range = np.arange(10)\n",
    "# y_range = np.arange(10)\n",
    "# x_boundry = int(max(x_list)) + 1\n",
    "# y_boundry = int(max(y_list)) + 1\n",
    "# values = [0.1,0.2,0.3,0.2,0.1]\n",
    "\n",
    "# values_matrix = np.zeros([x_boundry,y_boundry]) # values is a 2d matrix - each entry is a color\n",
    "# index = 0\n",
    "# for x, y in zip(x_list, y_list):\n",
    "#     values_matrix[x,y] = values[index]\n",
    "#     index += 1\n",
    "\n",
    "# plt.pcolor(values_matrix)\n",
    "# plt.title(f'wabalabadubdub')\n",
    "# plt.show()\n",
    "# plt.clf()\n",
    "# print()\n",
    "# plt.pcolormesh(values_matrix)\n",
    "# plt.show()\n",
    "# plt.clf()\n"
   ]
  },
  {
   "cell_type": "code",
   "execution_count": null,
   "metadata": {},
   "outputs": [],
   "source": [
    "# dataset = custom_DS_SingleValuePerImg_test\n",
    "# index = 0    # get file's name\n",
    "# if hasattr(dataset.imageFolder, 'samples'):  # meaning this is a regular \"ImageFolder\" type\n",
    "#     curr_filename = dataset.imageFolder.samples[index][0]\n",
    "# else:  # meaning this is a custom DS I built - STDL_ConcatDataset_of_ImageFolders\n",
    "#     _, curr_filename = dataset.imageFolder[index]\n",
    "\n",
    "# # get the sample's name from its absolute path and file name\n",
    "# curr_sample_name = curr_filename.partition('_')[0].partition('/images/')[2]  # first partit\n",
    "# print(curr_filename)\n",
    "# print('***')\n",
    "# print(curr_filename.partition('_')[1])\n",
    "# print('***')\n",
    "# print(curr_filename.partition('_')[2])\n",
    "# print('***')\n",
    "# print()\n",
    "\n",
    "# print('***')\n",
    "# print(curr_filename.partition('_')[2].partition('_')[1])\n",
    "# print('***')\n",
    "# print()\n",
    "# x = curr_filename.partition('_')[2].partition('_')[0].partition('x')[2]\n",
    "# y = curr_filename.partition('_')[2].partition('_')[2].partition('_')[0].partition('y')[2]\n",
    "# print(f'x {x } y {y}')"
   ]
  },
  {
   "cell_type": "code",
   "execution_count": null,
   "metadata": {},
   "outputs": [],
   "source": [
    "# #########\n",
    "# import pandas as pd\n",
    "\n",
    "# variance_df = matrix_dataframe_train.var(axis=1)  # get the variance of all the genes [varience of each gene over all samples] \n",
    "# # (this practically 'flattens' the df to one column of 33538 entries - one entry for each gene over all the samples)\n",
    "# print(variance_df)\n",
    "# print('***')\n",
    "# variance_df = pd.DataFrame(data=variance_df, columns=['variance']) # convert it from a pandas series to a pandas df\n",
    "# print(variance_df)\n",
    "# print('***')\n",
    "\n",
    "# # df.nlargest - This method is equivalent to df.sort_values(columns, ascending=False).head(n), but more performant.\n",
    "# nlargest_variance_df = variance_df.nlargest(n=10, columns=['variance'], keep='all')\n",
    "# print(nlargest_variance_df)\n",
    "# print('***')\n",
    "# # now use the indexes recieved above to retrieve the entries with the highest variance\n",
    "# list_of_nlargest_indices = list(nlargest_variance_df.index.values) \n",
    "# print(list_of_nlargest_indices)\n",
    "# print('***')\n",
    "# # print(features_dataframe_train)\n",
    "# # print('***')\n",
    "# # print(features_dataframe_train['gene_names'])\n",
    "# # print('***')\n",
    "\n",
    "\n",
    "# list_of_nlargest_indices_in_orig_df = row_mapping.iloc[list_of_nlargest_indices]\n",
    "# print(list_of_nlargest_indices_in_orig_df)\n",
    "# print('***')\n",
    "\n",
    "# unflattened_list = row_mapping.iloc[list_of_nlargest_indices].values.tolist()\n",
    "# flattened_list_of_nlargest_indices_in_orig_df = [elem[0] for elem in unflattened_list]  # [val for sublist in unflattened_list for val in sublist]\n",
    "# print(flattened_list_of_nlargest_indices_in_orig_df)\n",
    "# print('***')\n",
    "\n",
    "\n",
    "# # <---------------------------------------------------------------------------------------TODO- if this works, add these 3 lines to custom DS of K genes init phase\n",
    "# # temp_df = features_dataframe_train['gene_names'].iloc[list_of_nlargest_indices]   \n",
    "# # print(temp_df) \n",
    "# # print('***')\n",
    "# temp_df = pd.DataFrame(data=features_dataframe_train['gene_names'].iloc[flattened_list_of_nlargest_indices_in_orig_df] , columns=['gene_names'])\n",
    "# print(temp_df) \n",
    "# print('***')\n",
    "# temp_df['variance'] = nlargest_variance_df['variance'].values.tolist()\n",
    "# print(temp_df) \n",
    "# print('***')\n",
    "# print('***')\n"
   ]
  },
  {
   "cell_type": "code",
   "execution_count": null,
   "metadata": {},
   "outputs": [],
   "source": [
    "# # # indices from original df\n",
    "# # gene1 = features_dataframe_train.index[features_dataframe_train['gene_names'] == 'BRCA1'].item()\n",
    "# # gene2 = features_dataframe_train.index[features_dataframe_train['gene_names'] == 'BRCA2'].item()\n",
    "# # gene3 = features_dataframe_train.index[features_dataframe_train['gene_names'] == 'MKI67'].item()\n",
    "# # # new indices\n",
    "# # row1 = row_mapping.index[row_mapping['original_index_from_matrix_dataframe'] == gene1].item() # assumption: only one item is returned\n",
    "# # row2 = row_mapping.index[row_mapping['original_index_from_matrix_dataframe'] == gene2].item() # assumption: only one item is returned\n",
    "# # row3 = row_mapping.index[row_mapping['original_index_from_matrix_dataframe'] == gene3].item() # assumption: only one item is returned\n",
    "# # # variance values for some known genes\n",
    "# # print('***')\n",
    "# # print(f'BRCA1 variance in the train dataframe {variance_df.iloc[row1].item()}')\n",
    "# # print(f'BRCA2 variance in the train dataframe {variance_df.iloc[row2].item()}')\n",
    "# # print(f'MKI67 variance in the train dataframe {variance_df.iloc[row3].item()}')\n",
    "# # print('***')\n",
    "\n",
    "# %autoreload 2\n",
    "# gene_name = 'COX6C'  # was changed from 'BRCA1' because DCLK has the highest variance in the train dataset... (~1.3) and 'BRCA1' has low variance (~0.2)\n",
    "# from projectUtilities import get_variance_of_gene\n",
    "# gene_variance_value = get_variance_of_gene(gene_name=gene_name, matrix_df=matrix_dataframe_train, row_mapping=row_mapping, features_df=features_dataframe_train)\n",
    "# print(f'The chosen gene is {gene_name} and its variance is {gene_variance_value}')\n",
    "\n",
    "# gene_name = 'BRCA1'  # was changed from 'BRCA1' because DCLK has the highest variance in the train dataset... (~1.3) and 'BRCA1' has low variance (~0.2)\n",
    "# from projectUtilities import get_variance_of_gene\n",
    "# gene_variance_value = get_variance_of_gene(gene_name=gene_name, matrix_df=matrix_dataframe_train, row_mapping=row_mapping, features_df=features_dataframe_train)\n",
    "# print(f'The chosen gene is {gene_name} and its variance is {gene_variance_value}')\n",
    "\n",
    "# gene_name = 'MKI67'  # was changed from 'BRCA1' because DCLK has the highest variance in the train dataset... (~1.3) and 'BRCA1' has low variance (~0.2)\n",
    "# from projectUtilities import get_variance_of_gene\n",
    "# gene_variance_value = get_variance_of_gene(gene_name=gene_name, matrix_df=matrix_dataframe_train, row_mapping=row_mapping, features_df=features_dataframe_train)\n",
    "# print(f'The chosen gene is {gene_name} and its variance is {gene_variance_value}')"
   ]
  },
  {
   "cell_type": "code",
   "execution_count": null,
   "metadata": {},
   "outputs": [],
   "source": []
  },
  {
   "cell_type": "code",
   "execution_count": null,
   "metadata": {},
   "outputs": [],
   "source": []
  }
 ],
 "metadata": {
  "kernelspec": {
   "display_name": "Python 3",
   "language": "python",
   "name": "python3"
  },
  "language_info": {
   "codemirror_mode": {
    "name": "ipython",
    "version": 3
   },
   "file_extension": ".py",
   "mimetype": "text/x-python",
   "name": "python",
   "nbconvert_exporter": "python",
   "pygments_lexer": "ipython3",
   "version": "3.7.4"
  }
 },
 "nbformat": 4,
 "nbformat_minor": 4
}
