{
 "cells": [
  {
   "cell_type": "markdown",
   "metadata": {},
   "source": [
    "# **Spatial Transcriptomics Deep Learning (STDL) Project Notebook**\n",
    "\n",
    "> The notebook contains main experiments and examples of how to use the code"
   ]
  },
  {
   "cell_type": "markdown",
   "metadata": {},
   "source": [
    "## **Phase 1: Pre-processing and technical preparations**"
   ]
  },
  {
   "cell_type": "markdown",
   "metadata": {},
   "source": [
    "### 1.1: **Assign GPU device and allow CUDA debugging**"
   ]
  },
  {
   "cell_type": "code",
   "execution_count": 1,
   "metadata": {},
   "outputs": [],
   "source": [
    "# create code to reimport module if i change it\n",
    "%load_ext autoreload"
   ]
  },
  {
   "cell_type": "code",
   "execution_count": 2,
   "metadata": {},
   "outputs": [
    {
     "name": "stdout",
     "output_type": "stream",
     "text": [
      "cuda debugging allowed\n"
     ]
    }
   ],
   "source": [
    "# the next 2 lines are to allow debugging with CUDA !\n",
    "import os\n",
    "os.environ['CUDA_LAUNCH_BLOCKING'] = \"1\"  \n",
    "print(f'cuda debugging allowed')"
   ]
  },
  {
   "cell_type": "code",
   "execution_count": 3,
   "metadata": {},
   "outputs": [
    {
     "name": "stdout",
     "output_type": "stream",
     "text": [
      "cuda device count: 1\n",
      "Using device: cuda\n",
      "device name: GeForce RTX 2080 Ti\n",
      "torch.cuda.device(0): <torch.cuda.device object at 0x7f9ed1eeefd0>\n",
      "Memory Usage:\n",
      "Allocated: 0.0 GB\n",
      "Cached:    0.0 GB\n",
      "CPU times: user 2.18 s, sys: 3.98 s, total: 6.16 s\n",
      "Wall time: 9.59 s\n"
     ]
    }
   ],
   "source": [
    "%%time\n",
    "\n",
    "import torch\n",
    "print(f'cuda device count: {torch.cuda.device_count()}')\n",
    "device = torch.device('cuda' if torch.cuda.is_available() else 'cpu')\n",
    "print('Using device:', device)\n",
    "#Additional Info when using cuda\n",
    "if device.type == 'cuda':\n",
    "    print(f'device name: {torch.cuda.get_device_name(0)}')\n",
    "    print(f'torch.cuda.device(0): {torch.cuda.device(0)}')\n",
    "    print('Memory Usage:')\n",
    "    print('Allocated:', round(torch.cuda.memory_allocated(0)/1024**3,1), 'GB')\n",
    "    print('Cached:   ', round(torch.cuda.memory_cached(0)/1024**3,1), 'GB')\n",
    "# NOTE: important !!!!!!\n",
    "# clearing out the cache before beginning\n",
    "torch.cuda.empty_cache()"
   ]
  },
  {
   "cell_type": "markdown",
   "metadata": {},
   "source": [
    "### 1.2: **Import the Pre-Process module**\n",
    "\n",
    "> `loadAndPreProcess` module contains methods to load the data files as pytorch and pandas objects, methods to preprocess the given data, and methods to create custom datasets from the preprocessed data."
   ]
  },
  {
   "cell_type": "markdown",
   "metadata": {},
   "source": [
    "<div class=\"alert alert-block alert-warning\">\n",
    "<b>TODO:</b> fill above line\n",
    "</div>"
   ]
  },
  {
   "cell_type": "code",
   "execution_count": 4,
   "metadata": {},
   "outputs": [],
   "source": [
    "# note: path to project is: /home/roy.rubin/STDLproject/\n",
    "%autoreload 2\n",
    "import loadAndPreProcess"
   ]
  },
  {
   "cell_type": "markdown",
   "metadata": {},
   "source": [
    "### 1.3: **Load pytorch dataset objects from the image folder**\n",
    "\n",
    "> loading regular and augmented datasets created from the given image folder with transformations.\n",
    "\n",
    "> Note: `augmentedImageFolder` is a custom dataset of imageFolder objects with different transformations (see code).\n",
    "\n",
    "> Note: `im_hight_and_width_size` will define the size to which the images in the folder will be resized to. their original size 176, and so if the number will be bigger, the images will be automaticaly upsampled in the `resize` (not sure by what method) - which means images might be \"pixelized\" / lower quality. The problem is, size 176 doesnt work with all models, so i had to increase the size."
   ]
  },
  {
   "cell_type": "code",
   "execution_count": 5,
   "metadata": {},
   "outputs": [],
   "source": [
    "im_hight_and_width_size = 176  # values: 176 (doesnt work with inception) / 224 (doesnt work with inception) / 299 (works with inception)"
   ]
  },
  {
   "cell_type": "code",
   "execution_count": 6,
   "metadata": {},
   "outputs": [
    {
     "name": "stdout",
     "output_type": "stream",
     "text": [
      "\n",
      "----- entered function load_dataset_from_pictures_folder -----\n",
      "\n",
      "----- finished function load_dataset_from_pictures_folder -----\n",
      "\n",
      "\n",
      "----- entered function load_dataset_from_pictures_folder -----\n",
      "\n",
      "----- finished function load_dataset_from_pictures_folder -----\n",
      "\n",
      "CPU times: user 212 ms, sys: 28.6 ms, total: 240 ms\n",
      "Wall time: 257 ms\n"
     ]
    }
   ],
   "source": [
    "%%time\n",
    "\n",
    "path_to_images_dir_patient1_train = \"/home/roy.rubin/STDLproject/spatialGeneExpressionData/patient1/images\"\n",
    "imageFolder_train = loadAndPreProcess.load_dataset_from_images_folder(path_to_images_dir_patient1_train, im_hight_and_width_size)\n",
    "augmentedImageFolder_train = loadAndPreProcess.load_augmented_imageFolder_DS_from_images_folder(path_to_images_dir_patient1_train, im_hight_and_width_size)"
   ]
  },
  {
   "cell_type": "code",
   "execution_count": 7,
   "metadata": {},
   "outputs": [
    {
     "name": "stdout",
     "output_type": "stream",
     "text": [
      "\n",
      "----- entered function load_dataset_from_pictures_folder -----\n",
      "\n",
      "----- finished function load_dataset_from_pictures_folder -----\n",
      "\n",
      "CPU times: user 55.8 ms, sys: 115 ms, total: 171 ms\n",
      "Wall time: 1.05 s\n"
     ]
    }
   ],
   "source": [
    "%%time\n",
    "\n",
    "path_to_images_dir_patient2_test = \"/home/roy.rubin/STDLproject/spatialGeneExpressionData/patient2/images\"\n",
    "imageFolder_test = loadAndPreProcess.load_dataset_from_images_folder(path_to_images_dir_patient2_test, im_hight_and_width_size)\n",
    "# augmentedImageFolder_test = loadAndPreProcess.load_augmented_imageFolder_DS_from_images_folder(path_to_images_dir_patient2_test, im_hight_and_width_size) # not needed for now"
   ]
  },
  {
   "cell_type": "markdown",
   "metadata": {},
   "source": [
    "### 1.4: **Load pandas dataframe objects from the given mtx/tsv/csv files**\n",
    "\n",
    "> `matrix_dataframe` represents the gene expression count values of each sample for each gene\n",
    "\n",
    "> `features_dataframe` contains the names of all the genes\n",
    "\n",
    "> `barcodes_dataframe` contains the names of all the samples"
   ]
  },
  {
   "cell_type": "code",
   "execution_count": 8,
   "metadata": {},
   "outputs": [
    {
     "name": "stdout",
     "output_type": "stream",
     "text": [
      "\n",
      "----- entered function load_dataframes_from_mtx_and_tsv -----\n",
      "started reading features.tsv\n",
      "V  finished reading features.tsv\n",
      "started reading barcodes.tsv\n",
      "V  finished reading barcodes.tsv\n",
      "started reading matrix.mtx. this might take some time ...\n",
      "V  finished reading matrix.mtx\n",
      "adjusting matrix_dataframe\n",
      "V  finished working on matrix_dataframe\n",
      "\n",
      "----- finished function load_dataframes_from_mtx_and_tsv -----\n",
      "\n",
      "CPU times: user 1min 53s, sys: 2.1 s, total: 1min 55s\n",
      "Wall time: 2min\n"
     ]
    }
   ],
   "source": [
    "%%time\n",
    "\n",
    "path_to_mtx_tsv_files_dir_patient1_train = \"/home/roy.rubin/STDLproject/spatialGeneExpressionData/patient1\"\n",
    "matrix_dataframe_train, features_dataframe_train , barcodes_dataframe_train = loadAndPreProcess.load_dataframes_from_mtx_and_tsv_new(path_to_mtx_tsv_files_dir_patient1_train)"
   ]
  },
  {
   "cell_type": "code",
   "execution_count": 9,
   "metadata": {},
   "outputs": [
    {
     "name": "stdout",
     "output_type": "stream",
     "text": [
      "\n",
      "----- entered function load_dataframes_from_mtx_and_tsv -----\n",
      "started reading features.tsv\n",
      "V  finished reading features.tsv\n",
      "started reading barcodes.tsv\n",
      "V  finished reading barcodes.tsv\n",
      "started reading matrix.mtx. this might take some time ...\n",
      "V  finished reading matrix.mtx\n",
      "adjusting matrix_dataframe\n",
      "V  finished working on matrix_dataframe\n",
      "\n",
      "----- finished function load_dataframes_from_mtx_and_tsv -----\n",
      "\n",
      "CPU times: user 1min 45s, sys: 1.87 s, total: 1min 47s\n",
      "Wall time: 1min 52s\n"
     ]
    }
   ],
   "source": [
    "%%time\n",
    "\n",
    "path_to_mtx_tsv_files_dir_patient2_test = \"/home/roy.rubin/STDLproject/spatialGeneExpressionData/patient2\"\n",
    "matrix_dataframe_test, features_dataframe_test , barcodes_dataframe_test = loadAndPreProcess.load_dataframes_from_mtx_and_tsv_new(path_to_mtx_tsv_files_dir_patient2_test)"
   ]
  },
  {
   "cell_type": "markdown",
   "metadata": {},
   "source": [
    "### 1.5: **Remove samples from the matrix dataframe with no matching images in the image folder**\n",
    "\n",
    "> Note: indices are being reset after this action, so a mapping of old to new column indices is returned: `column_mapping`.\n",
    "\n",
    "> Note: the dataframe is also reordered according to the images order in the image folder"
   ]
  },
  {
   "cell_type": "code",
   "execution_count": 10,
   "metadata": {},
   "outputs": [
    {
     "name": "stdout",
     "output_type": "stream",
     "text": [
      "cutting samples that dont have mathching images in the image folder from the dataframe ...\n",
      "V   done :)\n",
      "\n",
      "CPU times: user 42.4 s, sys: 2.11 s, total: 44.5 s\n",
      "Wall time: 46.4 s\n"
     ]
    }
   ],
   "source": [
    "%%time\n",
    "\n",
    "matrix_dataframe_train, column_mapping_train = loadAndPreProcess.cut_samples_with_no_matching_image_and_reorder_df(matrix_df=matrix_dataframe_train, \n",
    "                                                                                                                    image_folder_of_the_df=imageFolder_train, \n",
    "                                                                                                                    barcodes_df=barcodes_dataframe_train)"
   ]
  },
  {
   "cell_type": "code",
   "execution_count": 11,
   "metadata": {},
   "outputs": [
    {
     "name": "stdout",
     "output_type": "stream",
     "text": [
      "cutting samples that dont have mathching images in the image folder from the dataframe ...\n",
      "V   done :)\n",
      "\n",
      "CPU times: user 42.2 s, sys: 1.83 s, total: 44 s\n",
      "Wall time: 45.8 s\n"
     ]
    }
   ],
   "source": [
    "%%time\n",
    "\n",
    "matrix_dataframe_test, column_mapping_test = loadAndPreProcess.cut_samples_with_no_matching_image_and_reorder_df(matrix_df=matrix_dataframe_test, \n",
    "                                                                                                                  image_folder_of_the_df=imageFolder_test, \n",
    "                                                                                                                  barcodes_df=barcodes_dataframe_test)"
   ]
  },
  {
   "cell_type": "markdown",
   "metadata": {},
   "source": [
    "### 1.6: **Remove less-informative genes**\n",
    "\n",
    "> we define *less-informative* genes as genes with less than K counts over all samples\n",
    "\n",
    "> `Base_value` is a parameter for the user's choice\n",
    "\n",
    "> Note: indices are being reset after this action, so a mapping of old to new column indices is returned: `row_mapping`."
   ]
  },
  {
   "cell_type": "code",
   "execution_count": 12,
   "metadata": {},
   "outputs": [],
   "source": [
    "# %%time\n",
    "\n",
    "# Base_value = 10\n",
    "# matrix_dataframe_train, row_mapping_train = loadAndPreProcess.cut_genes_with_under_B_counts(matrix_dataframe_train, Base_value) "
   ]
  },
  {
   "cell_type": "code",
   "execution_count": 13,
   "metadata": {},
   "outputs": [],
   "source": [
    "# %%time\n",
    "\n",
    "# Base_value = 1\n",
    "# matrix_dataframe_test, row_mapping_test = loadAndPreProcess.cut_genes_with_under_B_counts(matrix_dataframe_test, Base_value) \n",
    "# #TODO: note that this actually is not really needed, but it is to not change the functions inside this class to adjust to the test data"
   ]
  },
  {
   "cell_type": "code",
   "execution_count": 14,
   "metadata": {},
   "outputs": [
    {
     "name": "stdout",
     "output_type": "stream",
     "text": [
      "checking for genes (rows) that contain less than B counts in both dataframes ...\n",
      "discarding relevant rows ...\n",
      "CPU times: user 53.8 s, sys: 2.88 s, total: 56.7 s\n",
      "Wall time: 59.4 s\n"
     ]
    }
   ],
   "source": [
    "%%time\n",
    "\n",
    "# begin by asserting that our dataframes have the same genes to begin with using the metadata of features_dataframe\n",
    "assert features_dataframe_train['gene_names'].equals(features_dataframe_test['gene_names'])\n",
    "\n",
    "Base_value = 10\n",
    "matrix_dataframe_train, matrix_dataframe_test, row_mapping = loadAndPreProcess.cut_genes_with_under_B_counts_from_train_and_test(matrix_dataframe_train, matrix_dataframe_test, Base_value) "
   ]
  },
  {
   "cell_type": "markdown",
   "metadata": {},
   "source": [
    "### 1.7: **Normalize matrix_dataframe entries**\n",
    "\n",
    "> normaliztion will be performed on the remainning rows of the dataframe with the logic \"log 1P\"\n",
    "\n",
    "> This method Calculates log(1 + x)"
   ]
  },
  {
   "cell_type": "code",
   "execution_count": 15,
   "metadata": {},
   "outputs": [
    {
     "name": "stdout",
     "output_type": "stream",
     "text": [
      "performing log1P transformation of the dataframe ...\n",
      "\n",
      "CPU times: user 1.87 s, sys: 87.2 ms, total: 1.96 s\n",
      "Wall time: 2.02 s\n"
     ]
    }
   ],
   "source": [
    "%%time\n",
    "\n",
    "matrix_dataframe_train = loadAndPreProcess.perform_log_1p_normalization(matrix_dataframe_train) "
   ]
  },
  {
   "cell_type": "code",
   "execution_count": 16,
   "metadata": {},
   "outputs": [
    {
     "name": "stdout",
     "output_type": "stream",
     "text": [
      "performing log1P transformation of the dataframe ...\n",
      "\n",
      "CPU times: user 2.18 s, sys: 191 ms, total: 2.37 s\n",
      "Wall time: 2.57 s\n"
     ]
    }
   ],
   "source": [
    "%%time\n",
    "\n",
    "matrix_dataframe_test = loadAndPreProcess.perform_log_1p_normalization(matrix_dataframe_test) "
   ]
  },
  {
   "cell_type": "markdown",
   "metadata": {},
   "source": [
    "### 1.8: **Create custom datasets**\n",
    "\n",
    "> Each custom dataset is tailored per task\n",
    "\n",
    "> there are four tasks: single gene prediction, k gene prediction, all gene prediction using NMF dim. reduction, all gene prediction using AE dim. reduction\n",
    "\n",
    "> For each of the above tasks 2 datasets were created:\n",
    "\n",
    ">> A Dataset created from the TRAIN data WITHOUT augmentation (without image transformations)\n",
    "\n",
    ">> A Dataset created from the TRAIN data WITH augmentation (with image transformations)\n",
    "\n",
    ">> A Dataset created from the TEST data WITHOUT augmentation (without image transformations)"
   ]
  },
  {
   "cell_type": "code",
   "execution_count": 17,
   "metadata": {},
   "outputs": [
    {
     "name": "stdout",
     "output_type": "stream",
     "text": [
      "\n",
      "----- entering __init__ phase of  STDL_Dataset_SingleValuePerImg -----\n",
      "\n",
      "----- finished __init__ phase of  STDL_Dataset_SingleValuePerImg -----\n",
      "\n",
      "\n",
      "----- entering __init__ phase of  STDL_Dataset_SingleValuePerImg -----\n",
      "\n",
      "----- finished __init__ phase of  STDL_Dataset_SingleValuePerImg -----\n",
      "\n",
      "\n",
      "----- entering __init__ phase of  STDL_Dataset_SingleValuePerImg -----\n",
      "\n",
      "----- finished __init__ phase of  STDL_Dataset_SingleValuePerImg -----\n",
      "\n",
      "CPU times: user 953 ms, sys: 119 ms, total: 1.07 s\n",
      "Wall time: 1.11 s\n"
     ]
    }
   ],
   "source": [
    "%%time\n",
    "gene_name = 'MKI67'\n",
    "custom_DS_SingleValuePerImg = loadAndPreProcess.STDL_Dataset_SingleValuePerImg(imageFolder=imageFolder_train, \n",
    "                                                               matrix_dataframe=matrix_dataframe_train, \n",
    "                                                               features_dataframe=features_dataframe_train, \n",
    "                                                               barcodes_dataframe=barcodes_dataframe_train, \n",
    "                                                               column_mapping=column_mapping_train,\n",
    "                                                               row_mapping=row_mapping,\n",
    "                                                               chosen_gene_name=gene_name)\n",
    "custom_DS_SingleValuePerImg_augmented = loadAndPreProcess.STDL_Dataset_SingleValuePerImg(imageFolder=augmentedImageFolder_train, \n",
    "                                                               matrix_dataframe=matrix_dataframe_train, \n",
    "                                                               features_dataframe=features_dataframe_train, \n",
    "                                                               barcodes_dataframe=barcodes_dataframe_train, \n",
    "                                                               column_mapping=column_mapping_train,\n",
    "                                                               row_mapping=row_mapping,\n",
    "                                                               chosen_gene_name=gene_name)\n",
    "custom_DS_SingleValuePerImg_test = loadAndPreProcess.STDL_Dataset_SingleValuePerImg(imageFolder=imageFolder_test, \n",
    "                                                               matrix_dataframe=matrix_dataframe_test, \n",
    "                                                               features_dataframe=features_dataframe_test, \n",
    "                                                               barcodes_dataframe=barcodes_dataframe_test, \n",
    "                                                               column_mapping=column_mapping_test,\n",
    "                                                               row_mapping=row_mapping,\n",
    "                                                               chosen_gene_name=gene_name)"
   ]
  },
  {
   "cell_type": "markdown",
   "metadata": {},
   "source": [
    "<div class=\"alert alert-block alert-info\">\n",
    "<b>Note:</b> inside the init phase of `STDL_Dataset_KValuesPerImg_KGenesWithHighestVariance` class, K genes with the highest variance are chosen from matrix_dataframe, and they are the only genes that are kept for training and testing purposes\n",
    "</div>"
   ]
  },
  {
   "cell_type": "code",
   "execution_count": 18,
   "metadata": {},
   "outputs": [
    {
     "name": "stdout",
     "output_type": "stream",
     "text": [
      "\n",
      "----- entering __init__ phase of  STDL_Dataset_KValuesPerImg_KGenesWithHighestVariance -----\n",
      "calculate variance of all columns from  matrix_dataframe - and choosing K genes with higest variance ...\n",
      "\n",
      "----- finished __init__ phase of  STDL_Dataset_LatentTensor -----\n",
      "\n",
      "\n",
      "----- entering __init__ phase of  STDL_Dataset_KValuesPerImg_KGenesWithHighestVariance -----\n",
      "calculate variance of all columns from  matrix_dataframe - and choosing K genes with higest variance ...\n",
      "\n",
      "----- finished __init__ phase of  STDL_Dataset_LatentTensor -----\n",
      "\n",
      "\n",
      "----- entering __init__ phase of  STDL_Dataset_KValuesPerImg_KGenesWithHighestVariance -----\n",
      "calculate variance of all columns from  matrix_dataframe - and choosing K genes with higest variance ...\n",
      "\n",
      "----- finished __init__ phase of  STDL_Dataset_LatentTensor -----\n",
      "\n",
      "CPU times: user 27.5 s, sys: 2.4 s, total: 29.9 s\n",
      "Wall time: 31 s\n"
     ]
    }
   ],
   "source": [
    "%%time\n",
    "\n",
    "k = 10\n",
    "custom_DS_KGenesWithHighestVariance = loadAndPreProcess.STDL_Dataset_KValuesPerImg_KGenesWithHighestVariance(imageFolder=imageFolder_train, \n",
    "                                                                           matrix_dataframe=matrix_dataframe_train, \n",
    "                                                                           features_dataframe=features_dataframe_train, \n",
    "                                                                           barcodes_dataframe=barcodes_dataframe_train, \n",
    "                                                                           column_mapping=column_mapping_train,\n",
    "                                                                           num_of_dims_k=k)\n",
    "custom_DS_KGenesWithHighestVariance_augmented = loadAndPreProcess.STDL_Dataset_KValuesPerImg_KGenesWithHighestVariance(imageFolder=augmentedImageFolder_train, \n",
    "                                                                           matrix_dataframe=matrix_dataframe_train, \n",
    "                                                                           features_dataframe=features_dataframe_train, \n",
    "                                                                           barcodes_dataframe=barcodes_dataframe_train, \n",
    "                                                                           column_mapping=column_mapping_train,\n",
    "                                                                           num_of_dims_k=k)\n",
    "custom_DS_KGenesWithHighestVariance_test = loadAndPreProcess.STDL_Dataset_KValuesPerImg_KGenesWithHighestVariance(imageFolder=imageFolder_test, \n",
    "                                                                           matrix_dataframe=matrix_dataframe_test, \n",
    "                                                                           features_dataframe=features_dataframe_test, \n",
    "                                                                           barcodes_dataframe=barcodes_dataframe_test, \n",
    "                                                                           column_mapping=column_mapping_test,\n",
    "                                                                           num_of_dims_k=k)"
   ]
  },
  {
   "cell_type": "markdown",
   "metadata": {},
   "source": [
    "<div class=\"alert alert-block alert-info\">\n",
    "<b>Note:</b> inside the init phase of `STDL_Dataset_KValuesPerImg_LatentTensor_NMF` class, an NMF decompositionis performed on the matrix_dataframe object\n",
    "</div>"
   ]
  },
  {
   "cell_type": "code",
   "execution_count": 19,
   "metadata": {},
   "outputs": [
    {
     "name": "stdout",
     "output_type": "stream",
     "text": [
      "\n",
      "----- entering __init__ phase of  STDL_Dataset_KValuesPerImg_LatentTensor_NMF -----\n",
      "performing NMF decomposition on main matrix dataframe ...\n",
      "\n",
      "----- finished __init__ phase of  STDL_Dataset_LatentTensor -----\n",
      "\n",
      "\n",
      "----- entering __init__ phase of  STDL_Dataset_KValuesPerImg_LatentTensor_NMF -----\n",
      "performing NMF decomposition on main matrix dataframe ...\n",
      "\n",
      "----- finished __init__ phase of  STDL_Dataset_LatentTensor -----\n",
      "\n",
      "\n",
      "----- entering __init__ phase of  STDL_Dataset_KValuesPerImg_LatentTensor_NMF -----\n",
      "performing NMF decomposition on main matrix dataframe ...\n",
      "\n",
      "----- finished __init__ phase of  STDL_Dataset_LatentTensor -----\n",
      "\n",
      "CPU times: user 24min 24s, sys: 16min 35s, total: 41min\n",
      "Wall time: 1min 22s\n"
     ]
    }
   ],
   "source": [
    "%%time\n",
    "\n",
    "k = 10\n",
    "custom_DS_LatentTensor_NMF = loadAndPreProcess.STDL_Dataset_KValuesPerImg_LatentTensor_NMF(imageFolder=imageFolder_train, \n",
    "                                                                           matrix_dataframe=matrix_dataframe_train, \n",
    "                                                                           features_dataframe=features_dataframe_train, \n",
    "                                                                           barcodes_dataframe=barcodes_dataframe_train, \n",
    "                                                                           column_mapping=column_mapping_train,\n",
    "                                                                           num_of_dims_k=k)\n",
    "custom_DS_LatentTensor_NMF_augmented = loadAndPreProcess.STDL_Dataset_KValuesPerImg_LatentTensor_NMF(imageFolder=augmentedImageFolder_train, \n",
    "                                                                           matrix_dataframe=matrix_dataframe_train, \n",
    "                                                                           features_dataframe=features_dataframe_train, \n",
    "                                                                           barcodes_dataframe=barcodes_dataframe_train, \n",
    "                                                                           column_mapping=column_mapping_train,\n",
    "                                                                           num_of_dims_k=k)\n",
    "custom_DS_LatentTensor_NMF_test = loadAndPreProcess.STDL_Dataset_KValuesPerImg_LatentTensor_NMF(imageFolder=imageFolder_test, \n",
    "                                                                           matrix_dataframe=matrix_dataframe_test, \n",
    "                                                                           features_dataframe=features_dataframe_test, \n",
    "                                                                           barcodes_dataframe=barcodes_dataframe_test, \n",
    "                                                                           column_mapping=column_mapping_test,\n",
    "                                                                           num_of_dims_k=k)"
   ]
  },
  {
   "cell_type": "markdown",
   "metadata": {},
   "source": [
    "<div class=\"alert alert-block alert-info\">\n",
    "<b>Note:</b> \n",
    "<ul>\n",
    "  <li>first we create a dataset from `matrix_dataframe_train` to feed our AEnet.</li>\n",
    "  <li>Then we create our AEnet and train it.</li>\n",
    "  <li>Finally, we create our `custom_DS_LatentTensor_AE` class, in which the Autoencoder network will be saved.</li>\n",
    "</ul>\n",
    "</div>"
   ]
  },
  {
   "cell_type": "code",
   "execution_count": 20,
   "metadata": {},
   "outputs": [],
   "source": [
    "dataset_from_matrix_df = loadAndPreProcess.STDL_Dataset_matrix_df_for_AE_init(matrix_dataframe_train)"
   ]
  },
  {
   "cell_type": "code",
   "execution_count": 21,
   "metadata": {},
   "outputs": [
    {
     "name": "stdout",
     "output_type": "stream",
     "text": [
      "\n",
      "----- entered function return_trained_AE_net -----\n",
      "note - number of (hidden) linear layers is supposed to be 3\n",
      "\n",
      "entered __init__ of AutoencoderNet\n",
      "****** begin training ******\n",
      "\n",
      "iteration 1 of 3 epochs\n",
      "batch 3813 of 3813 batches\n",
      "finished inner loop.\n",
      "\n",
      "in this epoch: min loss 0.0127635532990098 max loss 1.0060787200927734\n",
      "               average loss 0.1140093217273393\n",
      "\n",
      "iteration 2 of 3 epochs\n",
      "batch 3813 of 3813 batches\n",
      "finished inner loop.\n",
      "\n",
      "in this epoch: min loss 0.011536810547113419 max loss 0.22284650802612305\n",
      "               average loss 0.10551176326500324\n",
      "\n",
      "iteration 3 of 3 epochs\n",
      "batch 3813 of 3813 batches\n",
      "finished inner loop.\n",
      "\n",
      "in this epoch: min loss 0.011026603169739246 max loss 0.20367717742919922\n",
      "               average loss 0.10407850408568536\n",
      "\n",
      "----- finished function return_trained_AE_net -----\n",
      "\n"
     ]
    }
   ],
   "source": [
    "%autoreload 2\n",
    "\n",
    "from executionModule import get_Trained_AEnet\n",
    "k = 10\n",
    "AEnet = get_Trained_AEnet(dataset_from_matrix_df=dataset_from_matrix_df, z_dim=k, num_of_epochs=3, device=device)"
   ]
  },
  {
   "cell_type": "code",
   "execution_count": 22,
   "metadata": {},
   "outputs": [
    {
     "name": "stdout",
     "output_type": "stream",
     "text": [
      "\n",
      "----- entering __init__ phase of  STDL_Dataset_KValuesPerImg_LatentTensor_AutoEncoder -----\n",
      "initializing the autoencoder (this might take a while) ...\n",
      "\n",
      "----- finished __init__ phase of  STDL_Dataset_KValuesPerImg_LatentTensor_AutoEncoder -----\n",
      "\n",
      "\n",
      "----- entering __init__ phase of  STDL_Dataset_KValuesPerImg_LatentTensor_AutoEncoder -----\n",
      "initializing the autoencoder (this might take a while) ...\n",
      "\n",
      "----- finished __init__ phase of  STDL_Dataset_KValuesPerImg_LatentTensor_AutoEncoder -----\n",
      "\n",
      "\n",
      "----- entering __init__ phase of  STDL_Dataset_KValuesPerImg_LatentTensor_AutoEncoder -----\n",
      "initializing the autoencoder (this might take a while) ...\n",
      "\n",
      "----- finished __init__ phase of  STDL_Dataset_KValuesPerImg_LatentTensor_AutoEncoder -----\n",
      "\n",
      "CPU times: user 1.8 s, sys: 19.2 s, total: 21 s\n",
      "Wall time: 22.1 s\n"
     ]
    }
   ],
   "source": [
    "%%time\n",
    "\n",
    "k = 10\n",
    "custom_DS_LatentTensor_AE = loadAndPreProcess.STDL_Dataset_KValuesPerImg_LatentTensor_AutoEncoder(imageFolder=imageFolder_train, \n",
    "                                                                           matrix_dataframe=matrix_dataframe_train, \n",
    "                                                                           features_dataframe=features_dataframe_train, \n",
    "                                                                           barcodes_dataframe=barcodes_dataframe_train, \n",
    "                                                                           AEnet=AEnet,\n",
    "                                                                           column_mapping=column_mapping_train,\n",
    "                                                                           num_of_dims_k=k,\n",
    "                                                                           device=device)\n",
    "custom_DS_LatentTensor_AE_augmented = loadAndPreProcess.STDL_Dataset_KValuesPerImg_LatentTensor_AutoEncoder(imageFolder=augmentedImageFolder_train, \n",
    "                                                                           matrix_dataframe=matrix_dataframe_train, \n",
    "                                                                           features_dataframe=features_dataframe_train, \n",
    "                                                                           barcodes_dataframe=barcodes_dataframe_train, \n",
    "                                                                           AEnet=AEnet,                                                                                                            \n",
    "                                                                           column_mapping=column_mapping_train,\n",
    "                                                                           num_of_dims_k=k,\n",
    "                                                                           device=device)\n",
    "custom_DS_LatentTensor_AE_test = loadAndPreProcess.STDL_Dataset_KValuesPerImg_LatentTensor_AutoEncoder(imageFolder=imageFolder_test, \n",
    "                                                                           matrix_dataframe=matrix_dataframe_test, \n",
    "                                                                           features_dataframe=features_dataframe_test, \n",
    "                                                                           barcodes_dataframe=barcodes_dataframe_test, \n",
    "                                                                           AEnet=AEnet,                                                                                                       \n",
    "                                                                           column_mapping=column_mapping_test,\n",
    "                                                                           num_of_dims_k=k,\n",
    "                                                                           device=device)"
   ]
  },
  {
   "cell_type": "markdown",
   "metadata": {},
   "source": [
    "### 1.9: prepare for the next phases in which the experiments are executed\n",
    "\n",
    "> import `executionModule` which contains the experiments, training methods, and testing methods\n",
    "\n",
    "> create `hyperparameters` dictionary which will contain all of the hyper-parameters for our experiments (note - user can change these later)\n",
    "\n",
    "> create `model_list` that will hold all the names for the models that will be used (only 3 models for now, as can be seen below). the models are:\n",
    "\n",
    ">> `BasicConvNet` model\n",
    "\n",
    ">> `DensetNet121` model\n",
    "\n",
    ">> `Inception_V3` model"
   ]
  },
  {
   "cell_type": "markdown",
   "metadata": {},
   "source": [
    "<div class=\"alert alert-block alert-warning\">\n",
    "<b>Warning:</b> change the hyper-parameters below with caution if needed !\n",
    "</div>"
   ]
  },
  {
   "cell_type": "code",
   "execution_count": 23,
   "metadata": {},
   "outputs": [],
   "source": [
    "%autoreload 2\n",
    "import executionModule\n",
    "\n",
    "# define hyperparameters for the experiments\n",
    "hyperparameters = dict()\n",
    "hyperparameters['batch_size'] = 25\n",
    "hyperparameters['max_alowed_number_of_batches'] = 99999\n",
    "hyperparameters['precent_of_dataset_allocated_for_training'] = 0.8\n",
    "hyperparameters['learning_rate'] = 1e-4\n",
    "hyperparameters['momentum'] = 0.9\n",
    "hyperparameters['num_of_epochs'] = 3\n",
    "\n",
    "# define hyperparameters for BsicConvNet\n",
    "hyperparameters['channels'] = [32] \n",
    "hyperparameters['num_of_convolution_layers'] = len(hyperparameters['channels'])\n",
    "hyperparameters['hidden_dims'] = [100]\n",
    "hyperparameters['num_of_hidden_layers'] = len(hyperparameters['hidden_dims'])\n",
    "hyperparameters['pool_every'] = 99999\n",
    "\n",
    "# list of all models used\n",
    "model_list = []\n",
    "model_list.append('BasicConvNet')\n",
    "model_list.append('DensetNet121')\n",
    "# model_list.append('Inception_V3')  #TODO: still need to sort out input image size... !"
   ]
  },
  {
   "cell_type": "markdown",
   "metadata": {},
   "source": [
    "<div class=\"alert alert-block alert-danger\">\n",
    "<b>Note:</b> inception_v3 model isnt sorted out yet... gives\n",
    "    RuntimeError: Calculated padded input size per channel: (2 x 2). Kernel size: (5 x 5). Kernel size can't be greater than actual input size\n",
    "</div>"
   ]
  },
  {
   "cell_type": "markdown",
   "metadata": {},
   "source": [
    "> creating an assisting method for our testing that will time each experiment"
   ]
  },
  {
   "cell_type": "code",
   "execution_count": 24,
   "metadata": {},
   "outputs": [],
   "source": [
    "def experiment_loop(ds_train, ds_test, phase_name):\n",
    "    for model_name in model_list:\n",
    "        print(f'\\nstarting experiment **{model_name}**\\n')\n",
    "        %time executionModule.runExperiment(ds_train=ds_train, ds_test=ds_test, hyperparams=hyperparameters, device=device, model_name=model_name, dataset_name=phase_name)\n",
    "        print(f'\\nfinished experiment {model_name}')\n",
    "    "
   ]
  },
  {
   "cell_type": "markdown",
   "metadata": {},
   "source": [
    "## Phase 2: Single Gene Prediction"
   ]
  },
  {
   "cell_type": "code",
   "execution_count": 25,
   "metadata": {},
   "outputs": [
    {
     "name": "stdout",
     "output_type": "stream",
     "text": [
      "\n",
      "starting experiment **BasicConvNet**\n",
      "\n",
      "\n",
      "----- entered function runExperimentWithModel_BasicConvNet -----\n",
      "/ * \\ ENTERED train_prediction_model / * \\ \n",
      "****** begin training ******\n",
      "\n",
      "iteration 1 of 3 epochs\n",
      "batch 152 of 152 batches\n",
      "finished inner loop.\n",
      "in this epoch: average loss 4.1480508997154075\n",
      "\n",
      "iteration 2 of 3 epochs\n",
      "batch 152 of 152 batches\n",
      "finished inner loop.\n",
      "in this epoch: average loss 0.24410368943292843\n",
      "\n",
      "iteration 3 of 3 epochs\n",
      "batch 152 of 152 batches\n",
      "finished inner loop.\n",
      "in this epoch: average loss 0.21795833022578767\n",
      "finished all epochs !\n",
      "which means, that this model is now trained.\n",
      " \\ * / FINISHED train_prediction_model \\ * / \n",
      "\n",
      "----- entered function getSingleDimPrediction -----\n",
      "--delete-- verify:  M_pred.shape (4015,)  ~  M_truth.shape (4015,)\n",
      "\n",
      "----- finished function getSingleDimPrediction -----\n",
      "TODO: print comparison of error results\n",
      "recieved M_fast_reconstruction=None. errors with it will be 0\n",
      "distance between M_truth, M_pred: 34.43702292482944\n",
      "distance between M_truth, M_fast_reconstruction: 0\n",
      "distance between M_pred, M_fast_reconstruction: 0\n",
      "\n",
      "----- finished function runExperimentWithModel_BasicConvNet -----\n",
      "CPU times: user 2min 25s, sys: 22 s, total: 2min 47s\n",
      "Wall time: 4min 20s\n",
      "\n",
      "finished experiment BasicConvNet\n",
      "\n",
      "starting experiment **DensetNet121**\n",
      "\n",
      "\n",
      "----- entered function runExperimentWithModel_BasicConvNet -----\n",
      "/ * \\ ENTERED train_prediction_model / * \\ \n",
      "****** begin training ******\n",
      "\n",
      "iteration 1 of 3 epochs\n",
      "batch 152 of 152 batches\n",
      "finished inner loop.\n",
      "in this epoch: average loss 0.24790029399293034\n",
      "\n",
      "iteration 2 of 3 epochs\n",
      "batch 152 of 152 batches\n",
      "finished inner loop.\n",
      "in this epoch: average loss 0.2367228662203017\n",
      "\n",
      "iteration 3 of 3 epochs\n",
      "batch 152 of 152 batches\n",
      "finished inner loop.\n",
      "in this epoch: average loss 0.23032422461792043\n",
      "finished all epochs !\n",
      "which means, that this model is now trained.\n",
      " \\ * / FINISHED train_prediction_model \\ * / \n",
      "\n",
      "----- entered function getSingleDimPrediction -----\n",
      "--delete-- verify:  M_pred.shape (4015,)  ~  M_truth.shape (4015,)\n",
      "\n",
      "----- finished function getSingleDimPrediction -----\n",
      "TODO: print comparison of error results\n",
      "recieved M_fast_reconstruction=None. errors with it will be 0\n",
      "distance between M_truth, M_pred: 32.38077006082694\n",
      "distance between M_truth, M_fast_reconstruction: 0\n",
      "distance between M_pred, M_fast_reconstruction: 0\n",
      "\n",
      "----- finished function runExperimentWithModel_BasicConvNet -----\n",
      "CPU times: user 35min 51s, sys: 8min 32s, total: 44min 23s\n",
      "Wall time: 48min 9s\n",
      "\n",
      "finished experiment DensetNet121\n"
     ]
    },
    {
     "data": {
      "image/png": "[encoded data removed]",
      "text/plain": [
       "<Figure size 432x288 with 1 Axes>"
      ]
     },
     "metadata": {
      "needs_background": "light"
     },
     "output_type": "display_data"
    }
   ],
   "source": [
    "experiment_loop(ds_train=custom_DS_SingleValuePerImg ,ds_test=custom_DS_SingleValuePerImg_test ,phase_name='single_gene')"
   ]
  },
  {
   "cell_type": "code",
   "execution_count": 26,
   "metadata": {},
   "outputs": [
    {
     "name": "stdout",
     "output_type": "stream",
     "text": [
      "\n",
      "starting experiment **BasicConvNet**\n",
      "\n",
      "\n",
      "----- entered function runExperimentWithModel_BasicConvNet -----\n",
      "/ * \\ ENTERED train_prediction_model / * \\ \n",
      "****** begin training ******\n",
      "\n",
      "iteration 1 of 3 epochs\n",
      "batch 1220 of 1220 batches\n",
      "finished inner loop.\n",
      "in this epoch: average loss 0.5842790643211271\n",
      "\n",
      "iteration 2 of 3 epochs\n",
      "batch 1220 of 1220 batches\n",
      "finished inner loop.\n",
      "in this epoch: average loss 0.23884593719219574\n",
      "\n",
      "iteration 3 of 3 epochs\n",
      "batch 1220 of 1220 batches\n",
      "finished inner loop.\n",
      "in this epoch: average loss 0.22119824710439462\n",
      "finished all epochs !\n",
      "which means, that this model is now trained.\n",
      " \\ * / FINISHED train_prediction_model \\ * / \n",
      "\n",
      "----- entered function getSingleDimPrediction -----\n",
      "--delete-- verify:  M_pred.shape (4015,)  ~  M_truth.shape (4015,)\n",
      "\n",
      "----- finished function getSingleDimPrediction -----\n",
      "TODO: print comparison of error results\n",
      "recieved M_fast_reconstruction=None. errors with it will be 0\n",
      "distance between M_truth, M_pred: 35.42027152930368\n",
      "distance between M_truth, M_fast_reconstruction: 0\n",
      "distance between M_pred, M_fast_reconstruction: 0\n",
      "\n",
      "----- finished function runExperimentWithModel_BasicConvNet -----\n",
      "CPU times: user 16min 45s, sys: 2min 34s, total: 19min 20s\n",
      "Wall time: 24min 53s\n",
      "\n",
      "finished experiment BasicConvNet\n",
      "\n",
      "starting experiment **DensetNet121**\n",
      "\n",
      "\n",
      "----- entered function runExperimentWithModel_BasicConvNet -----\n",
      "/ * \\ ENTERED train_prediction_model / * \\ \n",
      "****** begin training ******\n",
      "\n",
      "iteration 1 of 3 epochs\n",
      "batch 1220 of 1220 batches\n",
      "finished inner loop.\n",
      "in this epoch: average loss 0.23365755856159282\n",
      "\n",
      "iteration 2 of 3 epochs\n",
      "batch 1220 of 1220 batches\n",
      "finished inner loop.\n",
      "in this epoch: average loss 0.22478519607274258\n",
      "\n",
      "iteration 3 of 3 epochs\n",
      "batch 1220 of 1220 batches\n",
      "finished inner loop.\n",
      "in this epoch: average loss 0.21885756436185758\n",
      "finished all epochs !\n",
      "which means, that this model is now trained.\n",
      " \\ * / FINISHED train_prediction_model \\ * / \n",
      "\n",
      "----- entered function getSingleDimPrediction -----\n",
      "--delete-- verify:  M_pred.shape (4015,)  ~  M_truth.shape (4015,)\n",
      "\n",
      "----- finished function getSingleDimPrediction -----\n",
      "TODO: print comparison of error results\n",
      "recieved M_fast_reconstruction=None. errors with it will be 0\n",
      "distance between M_truth, M_pred: 33.38338891643095\n",
      "distance between M_truth, M_fast_reconstruction: 0\n",
      "distance between M_pred, M_fast_reconstruction: 0\n",
      "\n",
      "----- finished function runExperimentWithModel_BasicConvNet -----\n",
      "CPU times: user 1h 29min 1s, sys: 17min 24s, total: 1h 46min 26s\n",
      "Wall time: 1h 59min 21s\n",
      "\n",
      "finished experiment DensetNet121\n"
     ]
    },
    {
     "data": {
      "image/png": "[encoded data removed]",
      "text/plain": [
       "<Figure size 432x288 with 1 Axes>"
      ]
     },
     "metadata": {
      "needs_background": "light"
     },
     "output_type": "display_data"
    }
   ],
   "source": [
    "experiment_loop(ds_train=custom_DS_SingleValuePerImg_augmented ,ds_test=custom_DS_SingleValuePerImg_test ,phase_name='single_gene_augmented')"
   ]
  },
  {
   "cell_type": "markdown",
   "metadata": {},
   "source": [
    "## Phase 3: K genes prediction"
   ]
  },
  {
   "cell_type": "code",
   "execution_count": 27,
   "metadata": {},
   "outputs": [
    {
     "name": "stdout",
     "output_type": "stream",
     "text": [
      "\n",
      "starting experiment **BasicConvNet**\n",
      "\n",
      "\n",
      "----- entered function runExperimentWithModel_BasicConvNet -----\n",
      "/ * \\ ENTERED train_prediction_model / * \\ \n",
      "****** begin training ******\n",
      "\n",
      "iteration 1 of 3 epochs\n",
      "batch 152 of 152 batches\n",
      "finished inner loop.\n",
      "in this epoch: average loss 1.683421716094017\n",
      "\n",
      "iteration 2 of 3 epochs\n",
      "batch 152 of 152 batches\n",
      "finished inner loop.\n",
      "in this epoch: average loss 1.043366709037831\n",
      "\n",
      "iteration 3 of 3 epochs\n",
      "batch 152 of 152 batches\n",
      "finished inner loop.\n",
      "in this epoch: average loss 0.904226440740259\n",
      "finished all epochs !\n",
      "which means, that this model is now trained.\n",
      " \\ * / FINISHED train_prediction_model \\ * / \n",
      "\n",
      "----- entered function getKDimPrediction -----\n",
      "--delete-- verify:  M_pred.shape (4015, 10)  ~  M_truth.shape (4015, 10)\n",
      "\n",
      "----- finished function getKDimPrediction -----\n",
      "TODO: print comparison of error results\n",
      "recieved M_fast_reconstruction=None. errors with it will be 0\n",
      "distance between M_truth, M_pred: 433.3573307098388\n",
      "distance between M_truth, M_fast_reconstruction: 0\n",
      "distance between M_pred, M_fast_reconstruction: 0\n",
      "\n",
      "----- finished function runExperimentWithModel_BasicConvNet -----\n",
      "CPU times: user 1min 34s, sys: 8.07 s, total: 1min 42s\n",
      "Wall time: 2min 37s\n",
      "\n",
      "finished experiment BasicConvNet\n",
      "\n",
      "starting experiment **DensetNet121**\n",
      "\n",
      "\n",
      "----- entered function runExperimentWithModel_BasicConvNet -----\n",
      "/ * \\ ENTERED train_prediction_model / * \\ \n",
      "****** begin training ******\n",
      "\n",
      "iteration 1 of 3 epochs\n",
      "batch 152 of 152 batches\n",
      "finished inner loop.\n",
      "in this epoch: average loss 3.250675279451044\n",
      "\n",
      "iteration 2 of 3 epochs\n",
      "batch 152 of 152 batches\n",
      "finished inner loop.\n",
      "in this epoch: average loss 0.9538310158409571\n",
      "\n",
      "iteration 3 of 3 epochs\n",
      "batch 152 of 152 batches\n",
      "finished inner loop.\n",
      "in this epoch: average loss 0.8887701767839884\n",
      "finished all epochs !\n",
      "which means, that this model is now trained.\n",
      " \\ * / FINISHED train_prediction_model \\ * / \n",
      "\n",
      "----- entered function getKDimPrediction -----\n",
      "--delete-- verify:  M_pred.shape (4015, 10)  ~  M_truth.shape (4015, 10)\n",
      "\n",
      "----- finished function getKDimPrediction -----\n",
      "TODO: print comparison of error results\n",
      "recieved M_fast_reconstruction=None. errors with it will be 0\n",
      "distance between M_truth, M_pred: 410.7317486710929\n",
      "distance between M_truth, M_fast_reconstruction: 0\n",
      "distance between M_pred, M_fast_reconstruction: 0\n",
      "\n",
      "----- finished function runExperimentWithModel_BasicConvNet -----\n",
      "CPU times: user 4min 12s, sys: 19.3 s, total: 4min 31s\n",
      "Wall time: 5min 52s\n",
      "\n",
      "finished experiment DensetNet121\n"
     ]
    }
   ],
   "source": [
    "experiment_loop(ds_train=custom_DS_KGenesWithHighestVariance ,ds_test=custom_DS_KGenesWithHighestVariance_test ,phase_name='k_genes')"
   ]
  },
  {
   "cell_type": "code",
   "execution_count": 28,
   "metadata": {},
   "outputs": [
    {
     "name": "stdout",
     "output_type": "stream",
     "text": [
      "\n",
      "starting experiment **BasicConvNet**\n",
      "\n",
      "\n",
      "----- entered function runExperimentWithModel_BasicConvNet -----\n",
      "/ * \\ ENTERED train_prediction_model / * \\ \n",
      "****** begin training ******\n",
      "\n",
      "iteration 1 of 3 epochs\n",
      "batch 1220 of 1220 batches\n",
      "finished inner loop.\n",
      "in this epoch: average loss 1.1920923530078325\n",
      "\n",
      "iteration 2 of 3 epochs\n",
      "batch 1220 of 1220 batches\n",
      "finished inner loop.\n",
      "in this epoch: average loss 0.8629033511046503\n",
      "\n",
      "iteration 3 of 3 epochs\n",
      "batch 1220 of 1220 batches\n",
      "finished inner loop.\n",
      "in this epoch: average loss 0.6593030682108442\n",
      "finished all epochs !\n",
      "which means, that this model is now trained.\n",
      " \\ * / FINISHED train_prediction_model \\ * / \n",
      "\n",
      "----- entered function getKDimPrediction -----\n",
      "--delete-- verify:  M_pred.shape (4015, 10)  ~  M_truth.shape (4015, 10)\n",
      "\n",
      "----- finished function getKDimPrediction -----\n",
      "TODO: print comparison of error results\n",
      "recieved M_fast_reconstruction=None. errors with it will be 0\n",
      "distance between M_truth, M_pred: 440.84960663747256\n",
      "distance between M_truth, M_fast_reconstruction: 0\n",
      "distance between M_pred, M_fast_reconstruction: 0\n",
      "\n",
      "----- finished function runExperimentWithModel_BasicConvNet -----\n",
      "CPU times: user 10min 10s, sys: 51.6 s, total: 11min 2s\n",
      "Wall time: 17min 17s\n",
      "\n",
      "finished experiment BasicConvNet\n",
      "\n",
      "starting experiment **DensetNet121**\n",
      "\n",
      "\n",
      "----- entered function runExperimentWithModel_BasicConvNet -----\n",
      "/ * \\ ENTERED train_prediction_model / * \\ \n",
      "****** begin training ******\n",
      "\n",
      "iteration 1 of 3 epochs\n",
      "batch 1220 of 1220 batches\n",
      "finished inner loop.\n",
      "in this epoch: average loss 1.1458272373334306\n",
      "\n",
      "iteration 2 of 3 epochs\n",
      "batch 1220 of 1220 batches\n",
      "finished inner loop.\n",
      "in this epoch: average loss 0.682559122536026\n",
      "\n",
      "iteration 3 of 3 epochs\n",
      "batch 1220 of 1220 batches\n",
      "finished inner loop.\n",
      "in this epoch: average loss 0.6061353593820431\n",
      "finished all epochs !\n",
      "which means, that this model is now trained.\n",
      " \\ * / FINISHED train_prediction_model \\ * / \n",
      "\n",
      "----- entered function getKDimPrediction -----\n",
      "--delete-- verify:  M_pred.shape (4015, 10)  ~  M_truth.shape (4015, 10)\n",
      "\n",
      "----- finished function getKDimPrediction -----\n",
      "TODO: print comparison of error results\n",
      "recieved M_fast_reconstruction=None. errors with it will be 0\n",
      "distance between M_truth, M_pred: 422.8133016316638\n",
      "distance between M_truth, M_fast_reconstruction: 0\n",
      "distance between M_pred, M_fast_reconstruction: 0\n",
      "\n",
      "----- finished function runExperimentWithModel_BasicConvNet -----\n",
      "CPU times: user 29min 19s, sys: 1min 58s, total: 31min 18s\n",
      "Wall time: 40min 20s\n",
      "Parser   : 353 ms\n",
      "\n",
      "finished experiment DensetNet121\n"
     ]
    }
   ],
   "source": [
    "experiment_loop(ds_train=custom_DS_KGenesWithHighestVariance_augmented ,ds_test=custom_DS_KGenesWithHighestVariance_test ,phase_name='k_genes_augmented')"
   ]
  },
  {
   "cell_type": "markdown",
   "metadata": {},
   "source": [
    "## Phase 4: All genes prediction - using dimensionality reduction techniques\n",
    "\n",
    "### 4.1: Prediction using dimensionality reduction technique NMF"
   ]
  },
  {
   "cell_type": "code",
   "execution_count": 29,
   "metadata": {},
   "outputs": [
    {
     "name": "stdout",
     "output_type": "stream",
     "text": [
      "\n",
      "starting experiment **BasicConvNet**\n",
      "\n",
      "\n",
      "----- entered function runExperimentWithModel_BasicConvNet -----\n",
      "/ * \\ ENTERED train_prediction_model / * \\ \n",
      "****** begin training ******\n",
      "\n",
      "iteration 1 of 3 epochs\n",
      "batch 152 of 152 batches\n",
      "finished inner loop.\n",
      "in this epoch: average loss 0.9715351260169164\n",
      "\n",
      "iteration 2 of 3 epochs\n",
      "batch 152 of 152 batches\n",
      "finished inner loop.\n",
      "in this epoch: average loss 0.11062219447309249\n",
      "\n",
      "iteration 3 of 3 epochs\n",
      "batch 152 of 152 batches\n",
      "finished inner loop.\n",
      "in this epoch: average loss 0.1092799044165172\n",
      "finished all epochs !\n",
      "which means, that this model is now trained.\n",
      " \\ * / FINISHED train_prediction_model \\ * / \n",
      "\n",
      "----- entered function getFullDimsPrediction_with_NMF_DS -----\n",
      "--delete-- verify: W_prepared.shape (18077, 10), y_pred_prepared.shape (10, 3813)\n",
      "--delete-- verify:  M_pred.shape (18077, 3813)  ~  M_truth.shape (18077, 3813)\n",
      "\n",
      "----- finished function getKDimPrediction -----\n",
      "TODO: print comparison of error results\n",
      "distance between M_truth, M_pred: 4844.975493786701\n",
      "distance between M_truth, M_fast_reconstruction: 2628.8781186696665\n",
      "distance between M_pred, M_fast_reconstruction: 4069.689881636407\n",
      "\n",
      "----- entered function getFullDimsPrediction_with_NMF_DS -----\n",
      "--delete-- verify: W_prepared.shape (18077, 10), y_pred_prepared.shape (10, 4015)\n",
      "--delete-- verify:  M_pred.shape (18077, 4015)  ~  M_truth.shape (18077, 4015)\n",
      "\n",
      "----- finished function getKDimPrediction -----\n",
      "TODO: print comparison of error results\n",
      "recieved M_fast_reconstruction=None. errors with it will be 0\n",
      "distance between M_truth, M_pred: 4906.09366683848\n",
      "distance between M_truth, M_fast_reconstruction: 0\n",
      "distance between M_pred, M_fast_reconstruction: 0\n",
      "\n",
      "----- finished function runExperimentWithModel_BasicConvNet -----\n",
      "CPU times: user 2min 10s, sys: 42.9 s, total: 2min 53s\n",
      "Wall time: 2min 55s\n",
      "\n",
      "finished experiment BasicConvNet\n",
      "\n",
      "starting experiment **DensetNet121**\n",
      "\n",
      "\n",
      "----- entered function runExperimentWithModel_BasicConvNet -----\n",
      "/ * \\ ENTERED train_prediction_model / * \\ \n",
      "****** begin training ******\n",
      "\n",
      "iteration 1 of 3 epochs\n",
      "batch 152 of 152 batches\n",
      "finished inner loop.\n",
      "in this epoch: average loss 0.06921659571755874\n",
      "\n",
      "iteration 2 of 3 epochs\n",
      "batch 152 of 152 batches\n",
      "finished inner loop.\n",
      "in this epoch: average loss 0.060277033082552646\n",
      "\n",
      "iteration 3 of 3 epochs\n",
      "batch 152 of 152 batches\n",
      "finished inner loop.\n",
      "in this epoch: average loss 0.05570744448586514\n",
      "finished all epochs !\n",
      "which means, that this model is now trained.\n",
      " \\ * / FINISHED train_prediction_model \\ * / \n",
      "\n",
      "----- entered function getFullDimsPrediction_with_NMF_DS -----\n",
      "--delete-- verify: W_prepared.shape (18077, 10), y_pred_prepared.shape (10, 3813)\n",
      "--delete-- verify:  M_pred.shape (18077, 3813)  ~  M_truth.shape (18077, 3813)\n",
      "\n",
      "----- finished function getKDimPrediction -----\n",
      "TODO: print comparison of error results\n",
      "distance between M_truth, M_pred: 3570.1172585253403\n",
      "distance between M_truth, M_fast_reconstruction: 2628.8781186696665\n",
      "distance between M_pred, M_fast_reconstruction: 2409.2425005586397\n",
      "\n",
      "----- entered function getFullDimsPrediction_with_NMF_DS -----\n",
      "--delete-- verify: W_prepared.shape (18077, 10), y_pred_prepared.shape (10, 4015)\n",
      "--delete-- verify:  M_pred.shape (18077, 4015)  ~  M_truth.shape (18077, 4015)\n",
      "\n",
      "----- finished function getKDimPrediction -----\n",
      "TODO: print comparison of error results\n",
      "recieved M_fast_reconstruction=None. errors with it will be 0\n",
      "distance between M_truth, M_pred: 3528.341831845168\n",
      "distance between M_truth, M_fast_reconstruction: 0\n",
      "distance between M_pred, M_fast_reconstruction: 0\n",
      "\n",
      "----- finished function runExperimentWithModel_BasicConvNet -----\n",
      "CPU times: user 5min 4s, sys: 47.6 s, total: 5min 52s\n",
      "Wall time: 6min 20s\n",
      "\n",
      "finished experiment DensetNet121\n"
     ]
    }
   ],
   "source": [
    "experiment_loop(ds_train=custom_DS_LatentTensor_NMF ,ds_test=custom_DS_LatentTensor_NMF_test ,phase_name='NMF')"
   ]
  },
  {
   "cell_type": "code",
   "execution_count": 30,
   "metadata": {},
   "outputs": [
    {
     "name": "stdout",
     "output_type": "stream",
     "text": [
      "\n",
      "starting experiment **BasicConvNet**\n",
      "\n",
      "\n",
      "----- entered function runExperimentWithModel_BasicConvNet -----\n",
      "/ * \\ ENTERED train_prediction_model / * \\ \n",
      "****** begin training ******\n",
      "\n",
      "iteration 1 of 3 epochs\n",
      "batch 1220 of 1220 batches\n",
      "finished inner loop.\n",
      "in this epoch: average loss 0.14525805357843638\n",
      "\n",
      "iteration 2 of 3 epochs\n",
      "batch 1220 of 1220 batches\n",
      "finished inner loop.\n",
      "in this epoch: average loss 0.09649317733271688\n",
      "\n",
      "iteration 3 of 3 epochs\n",
      "batch 1220 of 1220 batches\n",
      "finished inner loop.\n",
      "in this epoch: average loss 0.084102328463656\n",
      "finished all epochs !\n",
      "which means, that this model is now trained.\n",
      " \\ * / FINISHED train_prediction_model \\ * / \n",
      "\n",
      "----- entered function getFullDimsPrediction_with_NMF_DS -----\n",
      "--delete-- verify: W_prepared.shape (18077, 10), y_pred_prepared.shape (10, 30504)\n",
      "--delete-- verify:  M_pred.shape (18077, 30504)  ~  M_truth.shape (18077, 3813)\n"
     ]
    },
    {
     "ename": "AssertionError",
     "evalue": "",
     "output_type": "error",
     "traceback": [
      "\u001b[0;31m---------------------------------------------------------------------------\u001b[0m",
      "\u001b[0;31mAssertionError\u001b[0m                            Traceback (most recent call last)",
      "\u001b[0;32m<timed eval>\u001b[0m in \u001b[0;36m<module>\u001b[0;34m\u001b[0m\n",
      "\u001b[0;32m~/STDLproject/executionModule.py\u001b[0m in \u001b[0;36mrunExperiment\u001b[0;34m(ds_train, ds_test, hyperparams, device, model_name, dataset_name)\u001b[0m\n\u001b[1;32m    152\u001b[0m \u001b[0;34m\u001b[0m\u001b[0m\n\u001b[1;32m    153\u001b[0m     \u001b[0;32melif\u001b[0m \u001b[0mdataset_name\u001b[0m\u001b[0;34m.\u001b[0m\u001b[0mstartswith\u001b[0m\u001b[0;34m(\u001b[0m\u001b[0;34m\"NMF\"\u001b[0m\u001b[0;34m)\u001b[0m\u001b[0;34m:\u001b[0m\u001b[0;34m\u001b[0m\u001b[0;34m\u001b[0m\u001b[0m\n\u001b[0;32m--> 154\u001b[0;31m         \u001b[0mM_truth\u001b[0m\u001b[0;34m,\u001b[0m \u001b[0mM_pred\u001b[0m \u001b[0;34m=\u001b[0m \u001b[0mgetFullDimsPrediction_with_NMF_DS\u001b[0m\u001b[0;34m(\u001b[0m\u001b[0mdataset\u001b[0m\u001b[0;34m=\u001b[0m\u001b[0mds_train\u001b[0m\u001b[0;34m,\u001b[0m \u001b[0mW\u001b[0m\u001b[0;34m=\u001b[0m\u001b[0mds_train\u001b[0m\u001b[0;34m.\u001b[0m\u001b[0mW\u001b[0m\u001b[0;34m,\u001b[0m \u001b[0mmodel\u001b[0m\u001b[0;34m=\u001b[0m\u001b[0mtrained_model\u001b[0m\u001b[0;34m,\u001b[0m \u001b[0mdevice\u001b[0m\u001b[0;34m=\u001b[0m\u001b[0mdevice\u001b[0m\u001b[0;34m)\u001b[0m\u001b[0;34m\u001b[0m\u001b[0;34m\u001b[0m\u001b[0m\n\u001b[0m\u001b[1;32m    155\u001b[0m         \u001b[0;31m# train-error comparisons: M_truth ~ M_fast_reconstruction ~ M_pred\u001b[0m\u001b[0;34m\u001b[0m\u001b[0;34m\u001b[0m\u001b[0;34m\u001b[0m\u001b[0m\n\u001b[1;32m    156\u001b[0m         \u001b[0;31m#                      orig_matrix ~       W * H           ~ W * H_pred\u001b[0m\u001b[0;34m\u001b[0m\u001b[0;34m\u001b[0m\u001b[0;34m\u001b[0m\u001b[0m\n",
      "\u001b[0;32m~/STDLproject/executionModule.py\u001b[0m in \u001b[0;36mgetFullDimsPrediction_with_NMF_DS\u001b[0;34m(dataset, W, model, device)\u001b[0m\n\u001b[1;32m    489\u001b[0m     \u001b[0mM_pred\u001b[0m \u001b[0;34m=\u001b[0m \u001b[0mM_pred\u001b[0m\u001b[0;34m.\u001b[0m\u001b[0msqueeze\u001b[0m\u001b[0;34m(\u001b[0m\u001b[0;34m)\u001b[0m\u001b[0;34m\u001b[0m\u001b[0;34m\u001b[0m\u001b[0m\n\u001b[1;32m    490\u001b[0m     \u001b[0mM_truth\u001b[0m \u001b[0;34m=\u001b[0m \u001b[0mM_truth\u001b[0m\u001b[0;34m.\u001b[0m\u001b[0msqueeze\u001b[0m\u001b[0;34m(\u001b[0m\u001b[0;34m)\u001b[0m\u001b[0;34m\u001b[0m\u001b[0;34m\u001b[0m\u001b[0m\n\u001b[0;32m--> 491\u001b[0;31m     \u001b[0;32massert\u001b[0m \u001b[0mM_pred\u001b[0m\u001b[0;34m.\u001b[0m\u001b[0mshape\u001b[0m \u001b[0;34m==\u001b[0m \u001b[0mM_truth\u001b[0m\u001b[0;34m.\u001b[0m\u001b[0mshape\u001b[0m\u001b[0;34m\u001b[0m\u001b[0;34m\u001b[0m\u001b[0m\n\u001b[0m\u001b[1;32m    492\u001b[0m \u001b[0;34m\u001b[0m\u001b[0m\n\u001b[1;32m    493\u001b[0m \u001b[0;34m\u001b[0m\u001b[0m\n",
      "\u001b[0;31mAssertionError\u001b[0m: "
     ]
    },
    {
     "name": "stdout",
     "output_type": "stream",
     "text": [
      "\n",
      "finished experiment BasicConvNet\n",
      "\n",
      "starting experiment **DensetNet121**\n",
      "\n",
      "\n",
      "----- entered function runExperimentWithModel_BasicConvNet -----\n",
      "/ * \\ ENTERED train_prediction_model / * \\ \n",
      "****** begin training ******\n",
      "\n",
      "iteration 1 of 3 epochs\n",
      "batch 1220 of 1220 batches\n",
      "finished inner loop.\n",
      "in this epoch: average loss 0.05743554156945377\n",
      "\n",
      "iteration 2 of 3 epochs\n",
      "batch 1220 of 1220 batches\n",
      "finished inner loop.\n",
      "in this epoch: average loss 0.048477902628298174\n",
      "\n",
      "iteration 3 of 3 epochs\n",
      "batch 1220 of 1220 batches\n",
      "finished inner loop.\n",
      "in this epoch: average loss 0.044420166403726966\n",
      "finished all epochs !\n",
      "which means, that this model is now trained.\n",
      " \\ * / FINISHED train_prediction_model \\ * / \n",
      "\n",
      "----- entered function getFullDimsPrediction_with_NMF_DS -----\n",
      "--delete-- verify: W_prepared.shape (18077, 10), y_pred_prepared.shape (10, 30504)\n",
      "--delete-- verify:  M_pred.shape (18077, 30504)  ~  M_truth.shape (18077, 3813)\n"
     ]
    },
    {
     "ename": "AssertionError",
     "evalue": "",
     "output_type": "error",
     "traceback": [
      "\u001b[0;31m---------------------------------------------------------------------------\u001b[0m",
      "\u001b[0;31mAssertionError\u001b[0m                            Traceback (most recent call last)",
      "\u001b[0;32m<timed eval>\u001b[0m in \u001b[0;36m<module>\u001b[0;34m\u001b[0m\n",
      "\u001b[0;32m~/STDLproject/executionModule.py\u001b[0m in \u001b[0;36mrunExperiment\u001b[0;34m(ds_train, ds_test, hyperparams, device, model_name, dataset_name)\u001b[0m\n\u001b[1;32m    152\u001b[0m \u001b[0;34m\u001b[0m\u001b[0m\n\u001b[1;32m    153\u001b[0m     \u001b[0;32melif\u001b[0m \u001b[0mdataset_name\u001b[0m\u001b[0;34m.\u001b[0m\u001b[0mstartswith\u001b[0m\u001b[0;34m(\u001b[0m\u001b[0;34m\"NMF\"\u001b[0m\u001b[0;34m)\u001b[0m\u001b[0;34m:\u001b[0m\u001b[0;34m\u001b[0m\u001b[0;34m\u001b[0m\u001b[0m\n\u001b[0;32m--> 154\u001b[0;31m         \u001b[0mM_truth\u001b[0m\u001b[0;34m,\u001b[0m \u001b[0mM_pred\u001b[0m \u001b[0;34m=\u001b[0m \u001b[0mgetFullDimsPrediction_with_NMF_DS\u001b[0m\u001b[0;34m(\u001b[0m\u001b[0mdataset\u001b[0m\u001b[0;34m=\u001b[0m\u001b[0mds_train\u001b[0m\u001b[0;34m,\u001b[0m \u001b[0mW\u001b[0m\u001b[0;34m=\u001b[0m\u001b[0mds_train\u001b[0m\u001b[0;34m.\u001b[0m\u001b[0mW\u001b[0m\u001b[0;34m,\u001b[0m \u001b[0mmodel\u001b[0m\u001b[0;34m=\u001b[0m\u001b[0mtrained_model\u001b[0m\u001b[0;34m,\u001b[0m \u001b[0mdevice\u001b[0m\u001b[0;34m=\u001b[0m\u001b[0mdevice\u001b[0m\u001b[0;34m)\u001b[0m\u001b[0;34m\u001b[0m\u001b[0;34m\u001b[0m\u001b[0m\n\u001b[0m\u001b[1;32m    155\u001b[0m         \u001b[0;31m# train-error comparisons: M_truth ~ M_fast_reconstruction ~ M_pred\u001b[0m\u001b[0;34m\u001b[0m\u001b[0;34m\u001b[0m\u001b[0;34m\u001b[0m\u001b[0m\n\u001b[1;32m    156\u001b[0m         \u001b[0;31m#                      orig_matrix ~       W * H           ~ W * H_pred\u001b[0m\u001b[0;34m\u001b[0m\u001b[0;34m\u001b[0m\u001b[0;34m\u001b[0m\u001b[0m\n",
      "\u001b[0;32m~/STDLproject/executionModule.py\u001b[0m in \u001b[0;36mgetFullDimsPrediction_with_NMF_DS\u001b[0;34m(dataset, W, model, device)\u001b[0m\n\u001b[1;32m    489\u001b[0m     \u001b[0mM_pred\u001b[0m \u001b[0;34m=\u001b[0m \u001b[0mM_pred\u001b[0m\u001b[0;34m.\u001b[0m\u001b[0msqueeze\u001b[0m\u001b[0;34m(\u001b[0m\u001b[0;34m)\u001b[0m\u001b[0;34m\u001b[0m\u001b[0;34m\u001b[0m\u001b[0m\n\u001b[1;32m    490\u001b[0m     \u001b[0mM_truth\u001b[0m \u001b[0;34m=\u001b[0m \u001b[0mM_truth\u001b[0m\u001b[0;34m.\u001b[0m\u001b[0msqueeze\u001b[0m\u001b[0;34m(\u001b[0m\u001b[0;34m)\u001b[0m\u001b[0;34m\u001b[0m\u001b[0;34m\u001b[0m\u001b[0m\n\u001b[0;32m--> 491\u001b[0;31m     \u001b[0;32massert\u001b[0m \u001b[0mM_pred\u001b[0m\u001b[0;34m.\u001b[0m\u001b[0mshape\u001b[0m \u001b[0;34m==\u001b[0m \u001b[0mM_truth\u001b[0m\u001b[0;34m.\u001b[0m\u001b[0mshape\u001b[0m\u001b[0;34m\u001b[0m\u001b[0;34m\u001b[0m\u001b[0m\n\u001b[0m\u001b[1;32m    492\u001b[0m \u001b[0;34m\u001b[0m\u001b[0m\n\u001b[1;32m    493\u001b[0m \u001b[0;34m\u001b[0m\u001b[0m\n",
      "\u001b[0;31mAssertionError\u001b[0m: "
     ]
    },
    {
     "name": "stdout",
     "output_type": "stream",
     "text": [
      "\n",
      "finished experiment DensetNet121\n"
     ]
    }
   ],
   "source": [
    "experiment_loop(ds_train=custom_DS_LatentTensor_NMF_augmented ,ds_test=custom_DS_LatentTensor_NMF_test ,phase_name='NMF_augmented')"
   ]
  },
  {
   "cell_type": "markdown",
   "metadata": {},
   "source": [
    "### 4.2: Prediction using dimensionality reduction technique AE"
   ]
  },
  {
   "cell_type": "code",
   "execution_count": 31,
   "metadata": {},
   "outputs": [
    {
     "name": "stdout",
     "output_type": "stream",
     "text": [
      "\n",
      "starting experiment **BasicConvNet**\n",
      "\n",
      "\n",
      "----- entered function runExperimentWithModel_BasicConvNet -----\n",
      "/ * \\ ENTERED train_prediction_model / * \\ \n",
      "****** begin training ******\n",
      "\n",
      "iteration 1 of 3 epochs\n",
      "batch 152 of 152 batches\n",
      "finished inner loop.\n",
      "in this epoch: average loss 2.5388931192849813\n",
      "\n",
      "iteration 2 of 3 epochs\n",
      "batch 152 of 152 batches\n",
      "finished inner loop.\n",
      "in this epoch: average loss 1.9609106194816137\n",
      "\n",
      "iteration 3 of 3 epochs\n",
      "batch 152 of 152 batches\n",
      "finished inner loop.\n",
      "in this epoch: average loss 1.7250897123625404\n",
      "finished all epochs !\n",
      "which means, that this model is now trained.\n",
      " \\ * / FINISHED train_prediction_model \\ * / \n",
      "\n",
      "----- entered function getFullDimsPrediction_with_AE_DS -----\n",
      "printing information about the dataset:\n",
      "size of the dataset (==number of images in the image folder) 3813\n",
      "num_of_samples_matrix_df in the dataset (==number of columns in matrix_dataframe) 3813\n",
      "num_of_features_matrix_df in the dataset (==number of rows in matrix_dataframe) 18077\n",
      "--delete-- verify:  M_pred.shape (18077, 3813)  ~  M_truth.shape (18077, 3813)\n",
      "\n",
      "----- finished function getFullDimsPrediction_with_AE_DS -----\n",
      "\n",
      "----- entered function getAutoEncoder_M_fast_reconstruction -----\n",
      "batch 3813 of 3813 batches\r"
     ]
    },
    {
     "ename": "AssertionError",
     "evalue": "",
     "output_type": "error",
     "traceback": [
      "\u001b[0;31m---------------------------------------------------------------------------\u001b[0m",
      "\u001b[0;31mAssertionError\u001b[0m                            Traceback (most recent call last)",
      "\u001b[0;32m<timed eval>\u001b[0m in \u001b[0;36m<module>\u001b[0;34m\u001b[0m\n",
      "\u001b[0;32m~/STDLproject/executionModule.py\u001b[0m in \u001b[0;36mrunExperiment\u001b[0;34m(ds_train, ds_test, hyperparams, device, model_name, dataset_name)\u001b[0m\n\u001b[1;32m    167\u001b[0m         \u001b[0;31m# train-error comparisons: M_truth ~ M_fast_reconstruction ~ M_pred\u001b[0m\u001b[0;34m\u001b[0m\u001b[0;34m\u001b[0m\u001b[0;34m\u001b[0m\u001b[0m\n\u001b[1;32m    168\u001b[0m         \u001b[0;31m#                      orig_matrix ~  Decode(Encode(M))    ~ Decode(Predict(X))\u001b[0m\u001b[0;34m\u001b[0m\u001b[0;34m\u001b[0m\u001b[0;34m\u001b[0m\u001b[0m\n\u001b[0;32m--> 169\u001b[0;31m         \u001b[0mM_fast_reconstruction\u001b[0m \u001b[0;34m=\u001b[0m \u001b[0mgetAutoEncoder_M_fast_reconstruction\u001b[0m\u001b[0;34m(\u001b[0m\u001b[0mdataset\u001b[0m\u001b[0;34m=\u001b[0m\u001b[0mds_train\u001b[0m\u001b[0;34m,\u001b[0m \u001b[0mmodel\u001b[0m\u001b[0;34m=\u001b[0m\u001b[0mtrained_model\u001b[0m\u001b[0;34m,\u001b[0m \u001b[0mdevice\u001b[0m\u001b[0;34m=\u001b[0m\u001b[0mdevice\u001b[0m\u001b[0;34m)\u001b[0m\u001b[0;34m\u001b[0m\u001b[0;34m\u001b[0m\u001b[0m\n\u001b[0m\u001b[1;32m    170\u001b[0m         \u001b[0mcompare_matrices\u001b[0m\u001b[0;34m(\u001b[0m\u001b[0mM_truth\u001b[0m\u001b[0;34m,\u001b[0m \u001b[0mM_pred\u001b[0m\u001b[0;34m,\u001b[0m \u001b[0mM_fast_reconstruction\u001b[0m\u001b[0;34m)\u001b[0m\u001b[0;34m\u001b[0m\u001b[0;34m\u001b[0m\u001b[0m\n\u001b[1;32m    171\u001b[0m \u001b[0;34m\u001b[0m\u001b[0m\n",
      "\u001b[0;32m~/STDLproject/executionModule.py\u001b[0m in \u001b[0;36mgetAutoEncoder_M_fast_reconstruction\u001b[0;34m(dataset, model, device)\u001b[0m\n\u001b[1;32m    658\u001b[0m \u001b[0;34m\u001b[0m\u001b[0m\n\u001b[1;32m    659\u001b[0m     \u001b[0;31m# assert equal sizes\u001b[0m\u001b[0;34m\u001b[0m\u001b[0;34m\u001b[0m\u001b[0;34m\u001b[0m\u001b[0m\n\u001b[0;32m--> 660\u001b[0;31m     \u001b[0;32massert\u001b[0m \u001b[0mM_fast_reconstruction\u001b[0m\u001b[0;34m.\u001b[0m\u001b[0mshape\u001b[0m \u001b[0;34m==\u001b[0m \u001b[0mdataset\u001b[0m\u001b[0;34m.\u001b[0m\u001b[0mmatrix_dataframe\u001b[0m\u001b[0;34m.\u001b[0m\u001b[0mto_numpy\u001b[0m\u001b[0;34m(\u001b[0m\u001b[0;34m)\u001b[0m\u001b[0;34m.\u001b[0m\u001b[0mshape\u001b[0m\u001b[0;34m\u001b[0m\u001b[0;34m\u001b[0m\u001b[0m\n\u001b[0m\u001b[1;32m    661\u001b[0m \u001b[0;34m\u001b[0m\u001b[0m\n\u001b[1;32m    662\u001b[0m     \u001b[0mprint\u001b[0m\u001b[0;34m(\u001b[0m\u001b[0;34m\"\\n----- finished function getAutoEncoder_M_fast_reconstruction -----\"\u001b[0m\u001b[0;34m)\u001b[0m\u001b[0;34m\u001b[0m\u001b[0;34m\u001b[0m\u001b[0m\n",
      "\u001b[0;31mAssertionError\u001b[0m: "
     ]
    },
    {
     "name": "stdout",
     "output_type": "stream",
     "text": [
      "\n",
      "finished experiment BasicConvNet\n",
      "\n",
      "starting experiment **DensetNet121**\n",
      "\n",
      "\n",
      "----- entered function runExperimentWithModel_BasicConvNet -----\n",
      "/ * \\ ENTERED train_prediction_model / * \\ \n",
      "****** begin training ******\n",
      "\n",
      "iteration 1 of 3 epochs\n",
      "batch 152 of 152 batches\n",
      "finished inner loop.\n",
      "in this epoch: average loss 2.750806599855423\n",
      "\n",
      "iteration 2 of 3 epochs\n",
      "batch 152 of 152 batches\n",
      "finished inner loop.\n",
      "in this epoch: average loss 1.7471459774594558\n",
      "\n",
      "iteration 3 of 3 epochs\n",
      "batch 152 of 152 batches\n",
      "finished inner loop.\n",
      "in this epoch: average loss 1.609512571049364\n",
      "finished all epochs !\n",
      "which means, that this model is now trained.\n",
      " \\ * / FINISHED train_prediction_model \\ * / \n",
      "\n",
      "----- entered function getFullDimsPrediction_with_AE_DS -----\n",
      "printing information about the dataset:\n",
      "size of the dataset (==number of images in the image folder) 3813\n",
      "num_of_samples_matrix_df in the dataset (==number of columns in matrix_dataframe) 3813\n",
      "num_of_features_matrix_df in the dataset (==number of rows in matrix_dataframe) 18077\n",
      "--delete-- verify:  M_pred.shape (18077, 3813)  ~  M_truth.shape (18077, 3813)\n",
      "\n",
      "----- finished function getFullDimsPrediction_with_AE_DS -----\n",
      "\n",
      "----- entered function getAutoEncoder_M_fast_reconstruction -----\n",
      "batch 3813 of 3813 batches\r"
     ]
    },
    {
     "ename": "AssertionError",
     "evalue": "",
     "output_type": "error",
     "traceback": [
      "\u001b[0;31m---------------------------------------------------------------------------\u001b[0m",
      "\u001b[0;31mAssertionError\u001b[0m                            Traceback (most recent call last)",
      "\u001b[0;32m<timed eval>\u001b[0m in \u001b[0;36m<module>\u001b[0;34m\u001b[0m\n",
      "\u001b[0;32m~/STDLproject/executionModule.py\u001b[0m in \u001b[0;36mrunExperiment\u001b[0;34m(ds_train, ds_test, hyperparams, device, model_name, dataset_name)\u001b[0m\n\u001b[1;32m    167\u001b[0m         \u001b[0;31m# train-error comparisons: M_truth ~ M_fast_reconstruction ~ M_pred\u001b[0m\u001b[0;34m\u001b[0m\u001b[0;34m\u001b[0m\u001b[0;34m\u001b[0m\u001b[0m\n\u001b[1;32m    168\u001b[0m         \u001b[0;31m#                      orig_matrix ~  Decode(Encode(M))    ~ Decode(Predict(X))\u001b[0m\u001b[0;34m\u001b[0m\u001b[0;34m\u001b[0m\u001b[0;34m\u001b[0m\u001b[0m\n\u001b[0;32m--> 169\u001b[0;31m         \u001b[0mM_fast_reconstruction\u001b[0m \u001b[0;34m=\u001b[0m \u001b[0mgetAutoEncoder_M_fast_reconstruction\u001b[0m\u001b[0;34m(\u001b[0m\u001b[0mdataset\u001b[0m\u001b[0;34m=\u001b[0m\u001b[0mds_train\u001b[0m\u001b[0;34m,\u001b[0m \u001b[0mmodel\u001b[0m\u001b[0;34m=\u001b[0m\u001b[0mtrained_model\u001b[0m\u001b[0;34m,\u001b[0m \u001b[0mdevice\u001b[0m\u001b[0;34m=\u001b[0m\u001b[0mdevice\u001b[0m\u001b[0;34m)\u001b[0m\u001b[0;34m\u001b[0m\u001b[0;34m\u001b[0m\u001b[0m\n\u001b[0m\u001b[1;32m    170\u001b[0m         \u001b[0mcompare_matrices\u001b[0m\u001b[0;34m(\u001b[0m\u001b[0mM_truth\u001b[0m\u001b[0;34m,\u001b[0m \u001b[0mM_pred\u001b[0m\u001b[0;34m,\u001b[0m \u001b[0mM_fast_reconstruction\u001b[0m\u001b[0;34m)\u001b[0m\u001b[0;34m\u001b[0m\u001b[0;34m\u001b[0m\u001b[0m\n\u001b[1;32m    171\u001b[0m \u001b[0;34m\u001b[0m\u001b[0m\n",
      "\u001b[0;32m~/STDLproject/executionModule.py\u001b[0m in \u001b[0;36mgetAutoEncoder_M_fast_reconstruction\u001b[0;34m(dataset, model, device)\u001b[0m\n\u001b[1;32m    658\u001b[0m \u001b[0;34m\u001b[0m\u001b[0m\n\u001b[1;32m    659\u001b[0m     \u001b[0;31m# assert equal sizes\u001b[0m\u001b[0;34m\u001b[0m\u001b[0;34m\u001b[0m\u001b[0;34m\u001b[0m\u001b[0m\n\u001b[0;32m--> 660\u001b[0;31m     \u001b[0;32massert\u001b[0m \u001b[0mM_fast_reconstruction\u001b[0m\u001b[0;34m.\u001b[0m\u001b[0mshape\u001b[0m \u001b[0;34m==\u001b[0m \u001b[0mdataset\u001b[0m\u001b[0;34m.\u001b[0m\u001b[0mmatrix_dataframe\u001b[0m\u001b[0;34m.\u001b[0m\u001b[0mto_numpy\u001b[0m\u001b[0;34m(\u001b[0m\u001b[0;34m)\u001b[0m\u001b[0;34m.\u001b[0m\u001b[0mshape\u001b[0m\u001b[0;34m\u001b[0m\u001b[0;34m\u001b[0m\u001b[0m\n\u001b[0m\u001b[1;32m    661\u001b[0m \u001b[0;34m\u001b[0m\u001b[0m\n\u001b[1;32m    662\u001b[0m     \u001b[0mprint\u001b[0m\u001b[0;34m(\u001b[0m\u001b[0;34m\"\\n----- finished function getAutoEncoder_M_fast_reconstruction -----\"\u001b[0m\u001b[0;34m)\u001b[0m\u001b[0;34m\u001b[0m\u001b[0;34m\u001b[0m\u001b[0m\n",
      "\u001b[0;31mAssertionError\u001b[0m: "
     ]
    },
    {
     "name": "stdout",
     "output_type": "stream",
     "text": [
      "\n",
      "finished experiment DensetNet121\n"
     ]
    }
   ],
   "source": [
    "experiment_loop(ds_train=custom_DS_LatentTensor_AE ,ds_test=custom_DS_LatentTensor_AE_test ,phase_name='AE')"
   ]
  },
  {
   "cell_type": "code",
   "execution_count": null,
   "metadata": {},
   "outputs": [
    {
     "name": "stdout",
     "output_type": "stream",
     "text": [
      "\n",
      "starting experiment **BasicConvNet**\n",
      "\n",
      "\n",
      "----- entered function runExperimentWithModel_BasicConvNet -----\n",
      "/ * \\ ENTERED train_prediction_model / * \\ \n",
      "****** begin training ******\n",
      "\n",
      "iteration 1 of 3 epochs\n",
      "batch 1220 of 1220 batches\n",
      "finished inner loop.\n",
      "in this epoch: average loss 1.9661790026015922\n",
      "\n",
      "iteration 2 of 3 epochs\n",
      "batch 1220 of 1220 batches\n",
      "finished inner loop.\n",
      "in this epoch: average loss 1.513339985003237\n",
      "\n",
      "iteration 3 of 3 epochs\n",
      "batch 1220 of 1220 batches\n",
      "finished inner loop.\n",
      "in this epoch: average loss 1.0845200430418624\n",
      "finished all epochs !\n",
      "which means, that this model is now trained.\n",
      " \\ * / FINISHED train_prediction_model \\ * / \n",
      "\n",
      "----- entered function getFullDimsPrediction_with_AE_DS -----\n",
      "printing information about the dataset:\n",
      "size of the dataset (==number of images in the image folder) 30504\n",
      "num_of_samples_matrix_df in the dataset (==number of columns in matrix_dataframe) 3813\n",
      "num_of_features_matrix_df in the dataset (==number of rows in matrix_dataframe) 18077\n",
      "batch 11239 of 30504 batches\r"
     ]
    }
   ],
   "source": [
    "experiment_loop(ds_train=custom_DS_LatentTensor_AE_augmented ,ds_test=custom_DS_LatentTensor_AE_test ,phase_name='AE_augmented')"
   ]
  },
  {
   "cell_type": "markdown",
   "metadata": {},
   "source": [
    "<div class=\"alert alert-block alert-danger\">\n",
    "<b>Note:</b> testing blocks\n",
    "</div>"
   ]
  },
  {
   "cell_type": "code",
   "execution_count": null,
   "metadata": {},
   "outputs": [],
   "source": []
  }
 ],
 "metadata": {
  "kernelspec": {
   "display_name": "Python 3",
   "language": "python",
   "name": "python3"
  },
  "language_info": {
   "codemirror_mode": {
    "name": "ipython",
    "version": 3
   },
   "file_extension": ".py",
   "mimetype": "text/x-python",
   "name": "python",
   "nbconvert_exporter": "python",
   "pygments_lexer": "ipython3",
   "version": "3.7.4"
  }
 },
 "nbformat": 4,
 "nbformat_minor": 4
}
