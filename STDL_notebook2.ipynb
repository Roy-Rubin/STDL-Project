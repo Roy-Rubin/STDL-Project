{
 "cells": [
  {
   "cell_type": "markdown",
   "metadata": {},
   "source": [
    "****STDL PROJECT NOTEBOOK****\n",
    "\n",
    "**Phase 1: predict gene expression levels of one specific gene over given input biopsy images**"
   ]
  },
  {
   "cell_type": "markdown",
   "metadata": {},
   "source": [
    "Assign GPU device"
   ]
  },
  {
   "cell_type": "code",
   "execution_count": 1,
   "metadata": {},
   "outputs": [
    {
     "name": "stdout",
     "output_type": "stream",
     "text": [
      "cuda debugging allowed\n"
     ]
    }
   ],
   "source": [
    "# the next 2 lines are to allow debugging with CUDA !\n",
    "import os\n",
    "os.environ['CUDA_LAUNCH_BLOCKING'] = \"1\"  \n",
    "print(f'cuda debugging allowed')"
   ]
  },
  {
   "cell_type": "code",
   "execution_count": 2,
   "metadata": {},
   "outputs": [
    {
     "name": "stdout",
     "output_type": "stream",
     "text": [
      "cuda device count: 1\n",
      "Using device: cuda\n",
      "device name: GeForce RTX 2080 Ti\n",
      "torch.cuda.device(0): <torch.cuda.device object at 0x7fe8b832ac10>\n",
      "Memory Usage:\n",
      "Allocated: 0.0 GB\n",
      "Cached:    0.0 GB\n"
     ]
    }
   ],
   "source": [
    "######\n",
    "import torch\n",
    "print(f'cuda device count: {torch.cuda.device_count()}')\n",
    "device = torch.device('cuda' if torch.cuda.is_available() else 'cpu')\n",
    "print('Using device:', device)\n",
    "#Additional Info when using cuda\n",
    "if device.type == 'cuda':\n",
    "    print(f'device name: {torch.cuda.get_device_name(0)}')\n",
    "    print(f'torch.cuda.device(0): {torch.cuda.device(0)}')\n",
    "    print('Memory Usage:')\n",
    "    print('Allocated:', round(torch.cuda.memory_allocated(0)/1024**3,1), 'GB')\n",
    "    print('Cached:   ', round(torch.cuda.memory_cached(0)/1024**3,1), 'GB')\n",
    "# NOTE: important !!!!!!\n",
    "# clearing out the cache before beginning\n",
    "torch.cuda.empty_cache()"
   ]
  },
  {
   "cell_type": "markdown",
   "metadata": {},
   "source": [
    "\n",
    "Import project files"
   ]
  },
  {
   "cell_type": "code",
   "execution_count": 3,
   "metadata": {},
   "outputs": [],
   "source": [
    "# create code to reimport module if i change it\n",
    "%load_ext autoreload\n",
    "%autoreload 2\n",
    "\n",
    "# note: path to project is: /home/roy.rubin/STDLproject/\n",
    "import loadAndPreProcess\n",
    "import deepNetworkArchitechture"
   ]
  },
  {
   "cell_type": "markdown",
   "metadata": {},
   "source": [
    "perform pre processing actions"
   ]
  },
  {
   "cell_type": "code",
   "execution_count": 4,
   "metadata": {},
   "outputs": [
    {
     "name": "stdout",
     "output_type": "stream",
     "text": [
      "\n",
      "Hi! welcome to the program :)\n",
      "\n"
     ]
    }
   ],
   "source": [
    "print(\"\\nHi! welcome to the program :)\\n\")"
   ]
  },
  {
   "cell_type": "code",
   "execution_count": 5,
   "metadata": {},
   "outputs": [
    {
     "name": "stdout",
     "output_type": "stream",
     "text": [
      "\n",
      "----- entered function load_dataset_from_pictures_folder -----\n",
      "\n",
      "----- finished function load_dataset_from_pictures_folder -----\n",
      "\n"
     ]
    }
   ],
   "source": [
    "path_to_images_dir = \"/home/roy.rubin/STDLproject/spatialGeneExpressionData/images\"\n",
    "imageFolder = loadAndPreProcess.load_dataset_from_images_folder(path_to_images_dir)"
   ]
  },
  {
   "cell_type": "code",
   "execution_count": 6,
   "metadata": {},
   "outputs": [
    {
     "name": "stdout",
     "output_type": "stream",
     "text": [
      "\n",
      "----- entered function load_dataset_from_pictures_folder -----\n",
      "\n",
      "----- finished function load_dataset_from_pictures_folder -----\n",
      "\n"
     ]
    }
   ],
   "source": [
    "path_to_images_dir = \"/home/roy.rubin/STDLproject/spatialGeneExpressionData/images\"\n",
    "augmentedImageFolder = loadAndPreProcess.load_augmented_imageFolder_DS_from_images_folder(path_to_images_dir)"
   ]
  },
  {
   "cell_type": "code",
   "execution_count": 7,
   "metadata": {},
   "outputs": [
    {
     "name": "stdout",
     "output_type": "stream",
     "text": [
      "\n",
      "----- entered function load_dataframes_from_mtx_and_tsv -----\n",
      "started reading features.tsv\n",
      "V  finished reading features.tsv\n",
      "started reading barcodes.tsv\n",
      "V  finished reading barcodes.tsv\n",
      "started reading matrix.mtx. this might take some time ...\n",
      "V  finished reading matrix.mtx\n",
      "\n",
      "----- finished function load_dataframes_from_mtx_and_tsv -----\n",
      "\n"
     ]
    }
   ],
   "source": [
    "path_to_mtx_tsv_files_dir = \"/home/roy.rubin/STDLproject/spatialGeneExpressionData\"\n",
    "matrix_dataframe, features_dataframe, barcodes_datafame = loadAndPreProcess.load_dataframes_from_mtx_and_tsv_new(path_to_mtx_tsv_files_dir)"
   ]
  },
  {
   "cell_type": "markdown",
   "metadata": {},
   "source": [
    "remove empty genes (i think there are only 3 of these ... need to verify)"
   ]
  },
  {
   "cell_type": "code",
   "execution_count": 8,
   "metadata": {},
   "outputs": [
    {
     "name": "stdout",
     "output_type": "stream",
     "text": [
      "cutting all genes (rows) that contain only zeros ...\n"
     ]
    }
   ],
   "source": [
    "%autoreload 2\n",
    "matrix_dataframe, mapping_between_old_and_new_indices = loadAndPreProcess.cut_empty_genes(matrix_dataframe)  #TODO: uncomment later"
   ]
  },
  {
   "cell_type": "code",
   "execution_count": 9,
   "metadata": {},
   "outputs": [],
   "source": [
    "# uncomment if wanted\n",
    "# print(f'\\note: this is the mapping_between_old_and_new_indices: \\n{mapping_between_old_and_new_indices}')"
   ]
  },
  {
   "cell_type": "code",
   "execution_count": 10,
   "metadata": {},
   "outputs": [
    {
     "name": "stdout",
     "output_type": "stream",
     "text": [
      "\n",
      "----- entering __init__ phase of  STDL_Dataset_SingleValuePerImg -----\n",
      "\n",
      "----- finished __init__ phase of  STDL_Dataset_SingleValuePerImg -----\n",
      "\n",
      "\n",
      "----- entering __init__ phase of  STDL_Dataset_SingleValuePerImg -----\n",
      "\n",
      "----- finished __init__ phase of  STDL_Dataset_SingleValuePerImg -----\n",
      "\n"
     ]
    }
   ],
   "source": [
    "gene_name = 'MKI67'\n",
    "custom_DS_SingleValuePerImg = loadAndPreProcess.STDL_Dataset_SingleValuePerImg(imageFolder=imageFolder, \n",
    "                                                               matrix_dataframe=matrix_dataframe, \n",
    "                                                               features_dataframe=features_dataframe, \n",
    "                                                               barcodes_datafame=barcodes_datafame, \n",
    "                                                               chosen_gene_name=gene_name)\n",
    "custom_DS_SingleValuePerImg_augmented = loadAndPreProcess.STDL_Dataset_SingleValuePerImg(imageFolder=augmentedImageFolder, \n",
    "                                                               matrix_dataframe=matrix_dataframe, \n",
    "                                                               features_dataframe=features_dataframe, \n",
    "                                                               barcodes_datafame=barcodes_datafame, \n",
    "                                                               chosen_gene_name=gene_name)"
   ]
  },
  {
   "cell_type": "code",
   "execution_count": 11,
   "metadata": {},
   "outputs": [
    {
     "name": "stdout",
     "output_type": "stream",
     "text": [
      "\n",
      "----- entering __init__ phase of  STDL_Dataset_KValuesPerImg_KGenesWithHighestVariance -----\n",
      "calculate variance of all columns from  matrix_dataframe - and choosing K genes with higest variance ...\n",
      "\n",
      "----- finished __init__ phase of  STDL_Dataset_LatentTensor -----\n",
      "\n",
      "\n",
      "----- entering __init__ phase of  STDL_Dataset_KValuesPerImg_KGenesWithHighestVariance -----\n",
      "calculate variance of all columns from  matrix_dataframe - and choosing K genes with higest variance ...\n",
      "\n",
      "----- finished __init__ phase of  STDL_Dataset_LatentTensor -----\n",
      "\n"
     ]
    }
   ],
   "source": [
    "k = 10\n",
    "custom_DS_KGenesWithHighestVariance = loadAndPreProcess.STDL_Dataset_KValuesPerImg_KGenesWithHighestVariance(imageFolder=imageFolder, \n",
    "                                                                           matrix_dataframe=matrix_dataframe, \n",
    "                                                                           features_dataframe=features_dataframe, \n",
    "                                                                           barcodes_datafame=barcodes_datafame, \n",
    "                                                                           num_of_dims_k=k)\n",
    "custom_DS_KGenesWithHighestVariance_augmented = loadAndPreProcess.STDL_Dataset_KValuesPerImg_KGenesWithHighestVariance(imageFolder=augmentedImageFolder, \n",
    "                                                                           matrix_dataframe=matrix_dataframe, \n",
    "                                                                           features_dataframe=features_dataframe, \n",
    "                                                                           barcodes_datafame=barcodes_datafame, \n",
    "                                                                           num_of_dims_k=k)"
   ]
  },
  {
   "cell_type": "code",
   "execution_count": 12,
   "metadata": {},
   "outputs": [
    {
     "name": "stdout",
     "output_type": "stream",
     "text": [
      "\n",
      "----- entering __init__ phase of  STDL_Dataset_KValuesPerImg_LatentTensor_NMF -----\n",
      "performing NMF decomposition on main matrix dataframe ...\n",
      "\n",
      "----- finished __init__ phase of  STDL_Dataset_LatentTensor -----\n",
      "\n",
      "\n",
      "----- entering __init__ phase of  STDL_Dataset_KValuesPerImg_LatentTensor_NMF -----\n",
      "performing NMF decomposition on main matrix dataframe ...\n",
      "\n",
      "----- finished __init__ phase of  STDL_Dataset_LatentTensor -----\n",
      "\n"
     ]
    }
   ],
   "source": [
    "k = 10\n",
    "custom_DS_LatentTensor_NMF = loadAndPreProcess.STDL_Dataset_KValuesPerImg_LatentTensor_NMF(imageFolder=imageFolder, \n",
    "                                                                           matrix_dataframe=matrix_dataframe, \n",
    "                                                                           features_dataframe=features_dataframe, \n",
    "                                                                           barcodes_datafame=barcodes_datafame, \n",
    "                                                                           num_of_dims_k=k)\n",
    "custom_DS_LatentTensor_NMF_augmented = loadAndPreProcess.STDL_Dataset_KValuesPerImg_LatentTensor_NMF(imageFolder=augmentedImageFolder, \n",
    "                                                                           matrix_dataframe=matrix_dataframe, \n",
    "                                                                           features_dataframe=features_dataframe, \n",
    "                                                                           barcodes_datafame=barcodes_datafame, \n",
    "                                                                           num_of_dims_k=k)"
   ]
  },
  {
   "cell_type": "code",
   "execution_count": 13,
   "metadata": {},
   "outputs": [
    {
     "name": "stdout",
     "output_type": "stream",
     "text": [
      "\n",
      "----- entering __init__ phase of  STDL_Dataset_KValuesPerImg_LatentTensor_AutoEncoder -----\n",
      "initializing the autoencoder (this might take a while) ...\n",
      "\n",
      "----- entered function return_trained_AE_net -----\n",
      "--delete-- verify inside STDL_Dataset_matrix_df_for_AE_init __init__: self.data.shape: (23073, 4992)\n",
      "note - number of (hidden) linear layers is supposed to be 3\n",
      "\n",
      "entered __init__ of AutoencoderNet\n",
      "****** begin training ******\n",
      "\n",
      "iteration 1 of 3 epochs\n",
      "batch 2000 of 2000 batches\n",
      "finished inner loop.\n",
      "\n",
      "in this epoch: min loss 0.003874091664329171 max loss 777.17919921875\n",
      "               average loss 10.52483733889542\n",
      "\n",
      "iteration 2 of 3 epochs\n",
      "batch 2000 of 2000 batches\n",
      "finished inner loop.\n",
      "\n",
      "in this epoch: min loss 0.0036157523281872272 max loss 2788.699951171875\n",
      "               average loss 10.449787451121258\n",
      "\n",
      "iteration 3 of 3 epochs\n",
      "batch 2000 of 2000 batches\n",
      "finished inner loop.\n",
      "\n",
      "in this epoch: min loss 0.003266484010964632 max loss 3020.447021484375\n",
      "               average loss 11.027725053393516\n",
      "\n",
      "----- finished function return_trained_AE_net -----\n",
      "\n",
      "\n",
      "----- finished __init__ phase of  STDL_Dataset_KValuesPerImg_LatentTensor_AutoEncoder -----\n",
      "\n",
      "\n",
      "----- entering __init__ phase of  STDL_Dataset_KValuesPerImg_LatentTensor_AutoEncoder -----\n",
      "initializing the autoencoder (this might take a while) ...\n",
      "\n",
      "----- entered function return_trained_AE_net -----\n",
      "--delete-- verify inside STDL_Dataset_matrix_df_for_AE_init __init__: self.data.shape: (23073, 4992)\n",
      "note - number of (hidden) linear layers is supposed to be 3\n",
      "\n",
      "entered __init__ of AutoencoderNet\n",
      "****** begin training ******\n",
      "\n",
      "iteration 1 of 3 epochs\n",
      "batch 2000 of 2000 batches\n",
      "finished inner loop.\n",
      "\n",
      "in this epoch: min loss 0.0037872891407459974 max loss 548.91796875\n",
      "               average loss 10.095281982708373\n",
      "\n",
      "iteration 2 of 3 epochs\n",
      "batch 2000 of 2000 batches\n",
      "finished inner loop.\n",
      "\n",
      "in this epoch: min loss 0.0038691197987645864 max loss 772.7184448242188\n",
      "               average loss 10.028977968753898\n",
      "\n",
      "iteration 3 of 3 epochs\n",
      "batch 2000 of 2000 batches\n",
      "finished inner loop.\n",
      "\n",
      "in this epoch: min loss 0.0037052654661238194 max loss 498.7937927246094\n",
      "               average loss 7.780171604993869\n",
      "\n",
      "----- finished function return_trained_AE_net -----\n",
      "\n",
      "\n",
      "----- finished __init__ phase of  STDL_Dataset_KValuesPerImg_LatentTensor_AutoEncoder -----\n",
      "\n"
     ]
    }
   ],
   "source": [
    "%autoreload 2\n",
    "\n",
    "k = 10\n",
    "custom_DS_LatentTensor_AE = loadAndPreProcess.STDL_Dataset_KValuesPerImg_LatentTensor_AutoEncoder(imageFolder=imageFolder, \n",
    "                                                                           matrix_dataframe=matrix_dataframe, \n",
    "                                                                           features_dataframe=features_dataframe, \n",
    "                                                                           barcodes_datafame=barcodes_datafame, \n",
    "                                                                           num_of_dims_k=k,\n",
    "                                                                           device=device)\n",
    "custom_DS_LatentTensor_AE_augmented = loadAndPreProcess.STDL_Dataset_KValuesPerImg_LatentTensor_AutoEncoder(imageFolder=augmentedImageFolder, \n",
    "                                                                           matrix_dataframe=matrix_dataframe, \n",
    "                                                                           features_dataframe=features_dataframe, \n",
    "                                                                           barcodes_datafame=barcodes_datafame, \n",
    "                                                                           num_of_dims_k=k,\n",
    "                                                                           device=device)"
   ]
  },
  {
   "cell_type": "markdown",
   "metadata": {},
   "source": [
    "\n",
    "display a few sample images"
   ]
  },
  {
   "cell_type": "code",
   "execution_count": 14,
   "metadata": {},
   "outputs": [],
   "source": [
    "# TODO: code to display some sample images\n",
    "# "
   ]
  },
  {
   "cell_type": "markdown",
   "metadata": {},
   "source": [
    "check sizes of a pair (x,y) from all different datasets"
   ]
  },
  {
   "cell_type": "code",
   "execution_count": 15,
   "metadata": {},
   "outputs": [
    {
     "name": "stdout",
     "output_type": "stream",
     "text": [
      "custom_DS_SingleValuePerImg (single gene):      x shape torch.Size([3, 176, 176]), y is an int\n",
      "custom_DS_SingleValuePerImg_augmented:          x shape torch.Size([3, 176, 176]), y is an int\n",
      "---------\n",
      "custom_DS_KGenesWithHighestVariance:            x shape torch.Size([3, 176, 176]), y shape (10,)\n",
      "custom_DS_KGenesWithHighestVariance_augmented:  x shape torch.Size([3, 176, 176]), y shape (10,)\n",
      "---------\n",
      "custom_DS_LatentTensor_NMF:                     x shape torch.Size([3, 176, 176]), y shape (10,)\n",
      "custom_DS_LatentTensor_NMF_augmented:           x shape torch.Size([3, 176, 176]), y shape (10,)\n",
      "---------\n",
      "custom_DS_LatentTensor_AE:                      x shape torch.Size([3, 176, 176]), y shape torch.Size([10])\n",
      "custom_DS_LatentTensor_AE_augmented:            x shape torch.Size([3, 176, 176]), y shape torch.Size([10])\n"
     ]
    }
   ],
   "source": [
    "print(f'custom_DS_SingleValuePerImg (single gene):      x shape {custom_DS_SingleValuePerImg[0][0].shape}, y is an int')\n",
    "print(f'custom_DS_SingleValuePerImg_augmented:          x shape {custom_DS_SingleValuePerImg_augmented[0][0].shape}, y is an int')\n",
    "print(\"---------\")\n",
    "print(f'custom_DS_KGenesWithHighestVariance:            x shape {custom_DS_KGenesWithHighestVariance[0][0].shape}, y shape {custom_DS_KGenesWithHighestVariance[0][1].shape}')\n",
    "print(f'custom_DS_KGenesWithHighestVariance_augmented:  x shape {custom_DS_KGenesWithHighestVariance_augmented[0][0].shape}, y shape {custom_DS_KGenesWithHighestVariance_augmented[0][1].shape}')\n",
    "print(\"---------\")\n",
    "print(f'custom_DS_LatentTensor_NMF:                     x shape {custom_DS_LatentTensor_NMF[0][0].shape}, y shape {custom_DS_LatentTensor_NMF[0][1].shape}')\n",
    "print(f'custom_DS_LatentTensor_NMF_augmented:           x shape {custom_DS_LatentTensor_NMF_augmented[0][0].shape}, y shape {custom_DS_LatentTensor_NMF_augmented[0][1].shape}')\n",
    "print(\"---------\")\n",
    "print(f'custom_DS_LatentTensor_AE:                      x shape {custom_DS_LatentTensor_AE[0][0].shape}, y shape {custom_DS_LatentTensor_AE[0][1].shape}')\n",
    "print(f'custom_DS_LatentTensor_AE_augmented:            x shape {custom_DS_LatentTensor_AE_augmented[0][0].shape}, y shape {custom_DS_LatentTensor_AE_augmented[0][1].shape}')\n"
   ]
  },
  {
   "cell_type": "code",
   "execution_count": 16,
   "metadata": {},
   "outputs": [
    {
     "name": "stdout",
     "output_type": "stream",
     "text": [
      "\n",
      "----- entered function runTest1 -----\n",
      "verify size of ds_train 3050\n",
      "verify size of ds_test 763\n",
      "verify size of dl_train 122\n",
      "verify size of dl_test 31\n",
      "verify im_size torch.Size([3, 176, 176])\n",
      "verify size of dl_test 31\n",
      "verify batch_size is 25 \n",
      "A single image's shape will be like x0.shape : torch.Size([3, 176, 176])\n",
      "A single image's shape will be like x0.shape - after unsqueeze : torch.Size([1, 3, 176, 176])\n",
      "verify in_size torch.Size([3, 176, 176])\n",
      "note - number of convolutions is supposed to be 1\n",
      "note - number of (hidden) linear layers is supposed to be 1\n",
      "****** begin training ******\n",
      "\n",
      "iteration 1 of 10 epochs\n",
      "batch 30 of 30 batches\n",
      "finished inner loop.\n",
      "\n",
      "in this epoch: min loss 0.0010705800959840417 max loss 769.7974853515625\n",
      "               average loss 27.75787791266727\n",
      "               number of correct predictions: 473 / 750\n",
      "\n",
      "iteration 2 of 10 epochs\n",
      "batch 30 of 30 batches\n",
      "finished inner loop.\n",
      "\n",
      "in this epoch: min loss 0.001071264734491706 max loss 0.043691374361515045\n",
      "               average loss 0.0024925583934721847\n",
      "               number of correct predictions: 749 / 750\n",
      "\n",
      "iteration 3 of 10 epochs\n",
      "batch 30 of 30 batches\n",
      "finished inner loop.\n",
      "\n",
      "in this epoch: min loss 0.0010692173382267356 max loss 0.0436895526945591\n",
      "               average loss 0.002490843324145923\n",
      "               number of correct predictions: 749 / 750\n",
      "\n",
      "iteration 4 of 10 epochs\n",
      "batch 30 of 30 batches\n",
      "finished inner loop.\n",
      "\n",
      "in this epoch: min loss 0.0010666887974366546 max loss 0.043684136122465134\n",
      "               average loss 0.003908929411166658\n",
      "               number of correct predictions: 748 / 750\n",
      "\n",
      "iteration 5 of 10 epochs\n",
      "batch 30 of 30 batches\n",
      "finished inner loop.\n",
      "\n",
      "in this epoch: min loss 0.001063816831447184 max loss 0.04367869719862938\n",
      "               average loss 0.003905941965058446\n",
      "               number of correct predictions: 748 / 750\n",
      "\n",
      "iteration 6 of 10 epochs\n",
      "batch 30 of 30 batches\n",
      "finished inner loop.\n",
      "\n",
      "in this epoch: min loss 0.0010606918949633837 max loss 0.0010637097293511033\n",
      "               average loss 0.0010622010527489086\n",
      "               number of correct predictions: 750 / 750\n",
      "\n",
      "iteration 7 of 10 epochs\n",
      "batch 30 of 30 batches\n",
      "finished inner loop.\n",
      "\n",
      "in this epoch: min loss 0.001057396293617785 max loss 0.001060586073435843\n",
      "               average loss 0.0010590104580235978\n",
      "               number of correct predictions: 750 / 750\n",
      "\n",
      "iteration 8 of 10 epochs\n",
      "batch 30 of 30 batches\n",
      "finished inner loop.\n",
      "\n",
      "in this epoch: min loss 0.0010537659982219338 max loss 0.04365277662873268\n",
      "               average loss 0.002475506668755164\n",
      "               number of correct predictions: 749 / 750\n",
      "\n",
      "iteration 9 of 10 epochs\n",
      "batch 30 of 30 batches\n",
      "finished inner loop.\n",
      "\n",
      "in this epoch: min loss 0.0010497604962438345 max loss 0.04364784061908722\n",
      "               average loss 0.002471554356937607\n",
      "               number of correct predictions: 749 / 750\n",
      "\n",
      "iteration 10 of 10 epochs\n",
      "batch 30 of 30 batches\n",
      "finished inner loop.\n",
      "\n",
      "in this epoch: min loss 0.0010455743176862597 max loss 0.04363727569580078\n",
      "               average loss 0.002467287261970341\n",
      "               number of correct predictions: 749 / 750\n",
      "finished all epochs ! \n",
      "num of total correct predicions: 7214 / 3050\n",
      " FINISHED TRAINING \n",
      "\n",
      "----- finished function runTest1 -----\n",
      "\n",
      "\n",
      "----- entered function runTest1 -----\n",
      "verify size of ds_train 12201\n",
      "verify size of ds_test 3051\n",
      "verify size of dl_train 489\n",
      "verify size of dl_test 123\n",
      "verify im_size torch.Size([3, 176, 176])\n",
      "verify size of dl_test 123\n",
      "verify batch_size is 25 \n",
      "A single image's shape will be like x0.shape : torch.Size([3, 176, 176])\n",
      "A single image's shape will be like x0.shape - after unsqueeze : torch.Size([1, 3, 176, 176])\n",
      "verify in_size torch.Size([3, 176, 176])\n",
      "note - number of convolutions is supposed to be 1\n",
      "note - number of (hidden) linear layers is supposed to be 1\n",
      "****** begin training ******\n",
      "\n",
      "iteration 1 of 10 epochs\n",
      "batch 30 of 30 batches\n",
      "finished inner loop.\n",
      "\n",
      "in this epoch: min loss 0.0008604720351286232 max loss 668.0321044921875\n",
      "               average loss 23.529982721442746\n",
      "               number of correct predictions: 698 / 750\n",
      "\n",
      "iteration 2 of 10 epochs\n",
      "batch 30 of 30 batches\n",
      "finished inner loop.\n",
      "\n",
      "in this epoch: min loss 0.000887480506207794 max loss 0.043273042887449265\n",
      "               average loss 0.0023011919770700236\n",
      "               number of correct predictions: 749 / 750\n",
      "\n",
      "iteration 3 of 10 epochs\n",
      "batch 30 of 30 batches\n",
      "finished inner loop.\n",
      "\n",
      "in this epoch: min loss 0.0008867409778758883 max loss 0.043268851935863495\n",
      "               average loss 0.0023002677383677415\n",
      "               number of correct predictions: 749 / 750\n",
      "\n",
      "iteration 4 of 10 epochs\n",
      "batch 30 of 30 batches\n",
      "finished inner loop.\n",
      "\n",
      "in this epoch: min loss 0.0008844680269248784 max loss 0.04326406866312027\n",
      "               average loss 0.002298200832835088\n",
      "               number of correct predictions: 749 / 750\n",
      "\n",
      "iteration 5 of 10 epochs\n",
      "batch 30 of 30 batches\n",
      "finished inner loop.\n",
      "\n",
      "in this epoch: min loss 0.0008819384966045618 max loss 0.04325862228870392\n",
      "               average loss 0.0022957257324984917\n",
      "               number of correct predictions: 749 / 750\n",
      "\n",
      "iteration 6 of 10 epochs\n",
      "batch 30 of 30 batches\n",
      "finished inner loop.\n",
      "\n",
      "in this epoch: min loss 0.0008790793363004923 max loss 0.043256014585494995\n",
      "               average loss 0.002292959692810352\n",
      "               number of correct predictions: 749 / 750\n",
      "\n",
      "iteration 7 of 10 epochs\n",
      "batch 30 of 30 batches\n",
      "finished inner loop.\n",
      "\n",
      "in this epoch: min loss 0.0008759358315728605 max loss 0.043249670416116714\n",
      "               average loss 0.003702170846130078\n",
      "               number of correct predictions: 748 / 750\n",
      "\n",
      "iteration 8 of 10 epochs\n",
      "batch 30 of 30 batches\n",
      "finished inner loop.\n",
      "\n",
      "in this epoch: min loss 0.000872597680427134 max loss 0.04324237257242203\n",
      "               average loss 0.0022864389310901364\n",
      "               number of correct predictions: 749 / 750\n",
      "\n",
      "iteration 9 of 10 epochs\n",
      "batch 30 of 30 batches\n",
      "finished inner loop.\n",
      "\n",
      "in this epoch: min loss 0.0008691117400303483 max loss 0.04323078319430351\n",
      "               average loss 0.002282851457130164\n",
      "               number of correct predictions: 749 / 750\n",
      "\n",
      "iteration 10 of 10 epochs\n",
      "batch 30 of 30 batches\n",
      "finished inner loop.\n",
      "\n",
      "in this epoch: min loss 0.0008654902339912951 max loss 0.0008689909591339529\n",
      "               average loss 0.0008672465376245479\n",
      "               number of correct predictions: 750 / 750\n",
      "finished all epochs ! \n",
      "num of total correct predicions: 7439 / 12201\n",
      " FINISHED TRAINING \n",
      "\n",
      "----- finished function runTest1 -----\n",
      "\n"
     ]
    }
   ],
   "source": [
    "%autoreload 2\n",
    "import executionModule\n",
    "\n",
    "executionModule.runTest1_singleGenePrediction(custom_DS_SingleValuePerImg, device)\n",
    "executionModule.runTest1_singleGenePrediction(custom_DS_SingleValuePerImg_augmented, device)\n",
    "# executionModule.runTest2_allGenePrediction_dimReduction_KHighestVariances(stdl_ds2, device)\n",
    "# executionModule.runTest3_allGenePrediction_dimReduction_NMF(stdl_ds2, device)\n",
    "# executionModule.runTest4_allGenePrediction_dimReduction_AutoEncoder(stdl_ds4, device)"
   ]
  },
  {
   "cell_type": "code",
   "execution_count": null,
   "metadata": {},
   "outputs": [],
   "source": []
  }
 ],
 "metadata": {
  "kernelspec": {
   "display_name": "Python 3",
   "language": "python",
   "name": "python3"
  },
  "language_info": {
   "codemirror_mode": {
    "name": "ipython",
    "version": 3
   },
   "file_extension": ".py",
   "mimetype": "text/x-python",
   "name": "python",
   "nbconvert_exporter": "python",
   "pygments_lexer": "ipython3",
   "version": "3.7.4"
  }
 },
 "nbformat": 4,
 "nbformat_minor": 4
}
