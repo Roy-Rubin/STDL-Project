{
 "cells": [
  {
   "cell_type": "markdown",
   "metadata": {},
   "source": [
    "****STDL PROJECT NOTEBOOK****\n",
    "\n",
    "**Phase 1: predict gene expression levels of one specific gene over given input biopsy images**"
   ]
  },
  {
   "cell_type": "markdown",
   "metadata": {},
   "source": [
    "Assign GPU device"
   ]
  },
  {
   "cell_type": "code",
   "execution_count": 1,
   "metadata": {},
   "outputs": [
    {
     "name": "stdout",
     "output_type": "stream",
     "text": [
      "cuda device count: 1\n",
      "Using device: cuda\n",
      "device name: GeForce RTX 2080 Ti\n",
      "torch.cuda.device(0): <torch.cuda.device object at 0x7f7fac644950>\n",
      "Memory Usage:\n",
      "Allocated: 0.0 GB\n",
      "Cached:    0.0 GB\n"
     ]
    }
   ],
   "source": [
    "import torch\n",
    "print(f'cuda device count: {torch.cuda.device_count()}')\n",
    "device = torch.device('cuda' if torch.cuda.is_available() else 'cpu')\n",
    "print('Using device:', device)\n",
    "#Additional Info when using cuda\n",
    "if device.type == 'cuda':\n",
    "    print(f'device name: {torch.cuda.get_device_name(0)}')\n",
    "    print(f'torch.cuda.device(0): {torch.cuda.device(0)}')\n",
    "    print('Memory Usage:')\n",
    "    print('Allocated:', round(torch.cuda.memory_allocated(0)/1024**3,1), 'GB')\n",
    "    print('Cached:   ', round(torch.cuda.memory_cached(0)/1024**3,1), 'GB')\n",
    "# NOTE: important !!!!!!\n",
    "# clearing out the cache before beginning\n",
    "torch.cuda.empty_cache()\n"
   ]
  },
  {
   "cell_type": "markdown",
   "metadata": {},
   "source": [
    "\n",
    "Import project files"
   ]
  },
  {
   "cell_type": "code",
   "execution_count": 2,
   "metadata": {},
   "outputs": [],
   "source": [
    "# create code to reimport module if i change it\n",
    "%load_ext autoreload\n",
    "%autoreload 2\n",
    "\n",
    "# note: path to project is: /home/roy.rubin/STDLproject/\n",
    "import loadAndPreProcess\n",
    "import deepNetworkArchitechture"
   ]
  },
  {
   "cell_type": "markdown",
   "metadata": {},
   "source": [
    "perform pre processing actions"
   ]
  },
  {
   "cell_type": "code",
   "execution_count": 3,
   "metadata": {},
   "outputs": [
    {
     "name": "stdout",
     "output_type": "stream",
     "text": [
      "\n",
      "Hi! welcome to the program :)\n",
      "\n"
     ]
    }
   ],
   "source": [
    "print(\"\\nHi! welcome to the program :)\\n\")"
   ]
  },
  {
   "cell_type": "code",
   "execution_count": 4,
   "metadata": {},
   "outputs": [
    {
     "name": "stdout",
     "output_type": "stream",
     "text": [
      "\n",
      "----- entered function load_dataset_from_pictures_folder -----\n"
     ]
    },
    {
     "name": "stdin",
     "output_type": "stream",
     "text": [
      "Do you wish to print information about the ImageFolder dataset object ? [yes/no] n\n"
     ]
    },
    {
     "name": "stdout",
     "output_type": "stream",
     "text": [
      "\n",
      "----- finished function load_dataset_from_pictures_folder -----\n",
      "\n"
     ]
    }
   ],
   "source": [
    "path_to_images_dir = \"/home/roy.rubin/STDLproject/spatialGeneExpressionData/images\"\n",
    "imageFolder = loadAndPreProcess.load_dataset_from_images_folder(path_to_images_dir)"
   ]
  },
  {
   "cell_type": "code",
   "execution_count": 5,
   "metadata": {},
   "outputs": [
    {
     "name": "stdout",
     "output_type": "stream",
     "text": [
      "\n",
      "----- entered function load_dataframes_from_mtx_and_tsv -----\n",
      "started reading features.tsv\n",
      "V  finished reading features.tsv\n",
      "started reading barcodes.tsv\n",
      "V  finished reading barcodes.tsv\n",
      "started reading matrix.mtx. this might take some time ...\n",
      "V  finished reading matrix.mtx\n"
     ]
    },
    {
     "name": "stdin",
     "output_type": "stream",
     "text": [
      "Do you wish to print information about the 3 loaded dataframes ? [yes/no] n\n"
     ]
    },
    {
     "name": "stdout",
     "output_type": "stream",
     "text": [
      "\n",
      "----- finished function load_dataframes_from_mtx_and_tsv -----\n",
      "\n"
     ]
    }
   ],
   "source": [
    "path_to_mtx_tsv_files_dir = \"/home/roy.rubin/STDLproject/spatialGeneExpressionData\"\n",
    "matrix_dataframe, features_dataframe, barcodes_datafame = loadAndPreProcess.load_dataframes_from_mtx_and_tsv_new(path_to_mtx_tsv_files_dir)"
   ]
  },
  {
   "cell_type": "markdown",
   "metadata": {},
   "source": [
    "remove empty genes (i think there are only 3 of these ... need to verify)"
   ]
  },
  {
   "cell_type": "code",
   "execution_count": 7,
   "metadata": {},
   "outputs": [
    {
     "name": "stdin",
     "output_type": "stream",
     "text": [
      "Do you wish to print information about the reduced dataframe ? [yes/no] y\n"
     ]
    },
    {
     "name": "stdout",
     "output_type": "stream",
     "text": [
      "\n",
      "print data regarding the reduced dataframe:\n",
      "<class 'pandas.core.frame.DataFrame'>\n",
      "RangeIndex: 23073 entries, 0 to 23072\n",
      "Columns: 4992 entries, 0 to 4991\n",
      "dtypes: Sparse[int64, 0](4992)\n",
      "memory usage: 245.2 MB\n",
      "None\n",
      "   0     1     2     3     4     5     6     7     8     9     ...  4982  \\\n",
      "0     0     0     0     0     0     0     0     0     0     1  ...     0   \n",
      "1     0     0     0     0     0     0     0     0     0     0  ...     0   \n",
      "2     0     0     0     0     0     0     0     0     0     0  ...     0   \n",
      "3     0     0     0     2     0     0     0     0     0     0  ...     0   \n",
      "4     0     0     0     0     0     0     0     0     0     0  ...     0   \n",
      "\n",
      "   4983  4984  4985  4986  4987  4988  4989  4990  4991  \n",
      "0     0     0     0     0     0     0     0     0     0  \n",
      "1     0     0     1     0     0     0     0     0     0  \n",
      "2     0     0     0     0     0     0     0     0     0  \n",
      "3     0     0     0     0     0     0     0     0     0  \n",
      "4     0     0     0     0     0     0     0     0     0  \n",
      "\n",
      "[5 rows x 4992 columns]\n",
      "\n",
      "min value in matrix_dataframe 0 max value in matrix_dataframe 5582\n",
      "\n",
      "median value in matrix_dataframe 0.0 mean value in matrix_dataframe 0.6567383990000523\n",
      "\n",
      "number of different values in matrix_dataframe is  1087 \n",
      "\n",
      "list of 10 most common values in matrix_dataframe is: \n",
      "1: the value 0 appeared 93754044 times (constitutes 81.39756% of the matrix values)\n",
      "2: the value 1 appeared 11152934 times (constitutes 9.68301% of the matrix values)\n",
      "3: the value 2 appeared 4170213 times (constitutes 3.62059% of the matrix values)\n",
      "4: the value 3 appeared 1993030 times (constitutes 1.73035% of the matrix values)\n",
      "5: the value 4 appeared 1100804 times (constitutes 0.95572% of the matrix values)\n",
      "6: the value 5 appeared 672858 times (constitutes 0.58418% of the matrix values)\n",
      "7: the value 6 appeared 444036 times (constitutes 0.38551% of the matrix values)\n",
      "8: the value 7 appeared 310903 times (constitutes 0.26993% of the matrix values)\n",
      "9: the value 8 appeared 227905 times (constitutes 0.19787% of the matrix values)\n",
      "10: the value 9 appeared 173612 times (constitutes 0.15073% of the matrix values)\n",
      "\n",
      "plotting a scatter plot of all values in matrix_dataframe (to see the distribution of values)\n"
     ]
    }
   ],
   "source": [
    "%autoreload 2\n",
    "matrix_dataframe, mapping_between_old_and_new_indices = loadAndPreProcess.cut_empty_genes(matrix_dataframe)  #TODO: uncomment later"
   ]
  },
  {
   "cell_type": "code",
   "execution_count": 8,
   "metadata": {},
   "outputs": [
    {
     "name": "stdout",
     "output_type": "stream",
     "text": [
      "\n",
      "verify: mapping_between_old_and_new_indices        original_index_from_matrix_dataframe\n",
      "0                                         3\n",
      "1                                         4\n",
      "2                                        11\n",
      "3                                        12\n",
      "4                                        13\n",
      "...                                     ...\n",
      "23068                                 33528\n",
      "23069                                 33530\n",
      "23070                                 33532\n",
      "23071                                 33533\n",
      "23072                                 33535\n",
      "\n",
      "[23073 rows x 1 columns]\n"
     ]
    }
   ],
   "source": [
    "print(f'\\note: this is the mapping_between_old_and_new_indices: \\n{mapping_between_old_and_new_indices}')"
   ]
  },
  {
   "cell_type": "code",
   "execution_count": 9,
   "metadata": {},
   "outputs": [
    {
     "name": "stdout",
     "output_type": "stream",
     "text": [
      "\n",
      "----- entering __init__ phase of  STDL_Dataset -----\n",
      "\n",
      "----- finished __init__ phase of  STDL_Dataset -----\n",
      "\n"
     ]
    }
   ],
   "source": [
    "gene_name = 'MKI67'\n",
    "stdl_ds1 = loadAndPreProcess.STDL_Dataset_SingleValuePerImg(imageFolder=imageFolder, \n",
    "                                                               matrix_dataframe=matrix_dataframe, \n",
    "                                                               features_dataframe=features_dataframe, \n",
    "                                                               barcodes_datafame=barcodes_datafame, \n",
    "                                                               chosen_gene_name=gene_name)"
   ]
  },
  {
   "cell_type": "code",
   "execution_count": 10,
   "metadata": {},
   "outputs": [
    {
     "name": "stdout",
     "output_type": "stream",
     "text": [
      "\n",
      "----- entering __init__ phase of  STDL_Dataset_KValuesPerImg_KGenesWithHighestVariance -----\n",
      "calculate variance of all columns from  matrix_dataframe - and choosing K genes with higest variance ...\n",
      "\n",
      "----- finished __init__ phase of  STDL_Dataset_LatentTensor -----\n",
      "\n"
     ]
    }
   ],
   "source": [
    "k = 10\n",
    "stdl_ds2 = loadAndPreProcess.STDL_Dataset_KValuesPerImg_KGenesWithHighestVariance(imageFolder=imageFolder, \n",
    "                                                                           matrix_dataframe=matrix_dataframe, \n",
    "                                                                           features_dataframe=features_dataframe, \n",
    "                                                                           barcodes_datafame=barcodes_datafame, \n",
    "                                                                           num_of_dims_k=k)"
   ]
  },
  {
   "cell_type": "code",
   "execution_count": 11,
   "metadata": {},
   "outputs": [
    {
     "name": "stdout",
     "output_type": "stream",
     "text": [
      "\n",
      "----- entering __init__ phase of  STDL_Dataset_KValuesPerImg_LatentTensor_NMF -----\n",
      "performing NMF decomposition on main matrix dataframe ...\n",
      "--delete--self.reduced_dataframe type <class 'numpy.ndarray'>\n",
      "--delete--self.reduced_dataframe  [[4.98120439e-05 1.33850363e-02 4.76250707e-02 ... 1.03459070e-01\n",
      "  3.27783168e-01 0.00000000e+00]\n",
      " [4.02429736e-03 3.36941569e-01 2.56214584e-02 ... 3.61699063e-01\n",
      "  4.35347928e-02 4.77425038e-02]\n",
      " [0.00000000e+00 0.00000000e+00 1.72022291e-01 ... 1.74486023e-01\n",
      "  0.00000000e+00 1.29654143e-01]\n",
      " ...\n",
      " [2.44588111e-02 4.66592345e-01 4.96592325e-02 ... 0.00000000e+00\n",
      "  7.66718958e-01 2.30755473e-01]\n",
      " [8.09784976e-02 3.82302882e-01 7.11604566e-01 ... 4.63555790e-01\n",
      "  1.20645204e+00 1.79719735e+00]\n",
      " [0.00000000e+00 3.56613390e-01 3.13505375e-02 ... 2.69741285e-01\n",
      "  0.00000000e+00 1.62540193e-02]]\n",
      "--delete---after- self.reduced_dataframe type <class 'pandas.core.frame.DataFrame'>\n",
      "--delete---after- self.reduced_dataframe         0         1         2          3         4         5         6     \\\n",
      "0  0.000050  0.013385  0.047625   0.468318  0.026162  0.009530  0.223445   \n",
      "1  0.004024  0.336942  0.025621   0.037028  0.054833  0.054123  0.518329   \n",
      "2  0.000000  0.000000  0.172022   0.127013  0.039930  0.127104  0.000000   \n",
      "3  0.021492  0.063489  0.459004   0.270596  0.012063  0.000000  0.056586   \n",
      "4  0.002799  0.107457  0.152187   0.127563  0.049953  0.030807  0.000000   \n",
      "5  0.000000  1.395896  0.100304   0.151151  0.122428  0.091102  3.628638   \n",
      "6  0.000000  0.152952  0.623927  11.786548  0.164833  0.520988  0.000000   \n",
      "7  0.024459  0.466592  0.049659   0.591851  0.016650  0.102403  0.000000   \n",
      "8  0.080978  0.382303  0.711605   1.640799  0.051019  0.183417  0.264196   \n",
      "9  0.000000  0.356613  0.031351   0.055791  0.025967  0.055642  5.260001   \n",
      "\n",
      "       7         8         9     ...      4982      4983      4984      4985  \\\n",
      "0  0.556015  0.010951  0.117965  ...  0.000000  0.056477  0.000000  0.059000   \n",
      "1  0.257064  0.018646  0.054442  ...  0.336408  0.084245  0.012064  0.057235   \n",
      "2  0.098921  0.001308  0.118249  ...  0.131451  0.052850  0.015100  0.006176   \n",
      "3  0.402562  0.031248  0.233858  ...  0.544835  0.368510  0.017006  0.183113   \n",
      "4  0.103088  0.001977  0.109238  ...  0.486089  0.187725  0.010412  0.039920   \n",
      "5  0.108952  0.017389  0.081756  ...  0.072631  0.052805  0.014598  0.028051   \n",
      "6  9.719088  0.237359  1.621192  ...  0.249929  0.335396  0.020217  2.967531   \n",
      "7  0.569560  0.000000  4.650073  ...  0.817850  0.482397  0.072840  0.169476   \n",
      "8  1.092387  0.018819  0.043601  ...  0.203908  0.941829  0.093060  0.269072   \n",
      "9  0.034876  0.019434  0.024258  ...  0.062365  0.030692  0.000000  0.009071   \n",
      "\n",
      "       4986      4987      4988      4989      4990      4991  \n",
      "0  0.177234  0.026768  0.104918  0.103459  0.327783  0.000000  \n",
      "1  0.120560  0.379956  0.117612  0.361699  0.043535  0.047743  \n",
      "2  0.171066  0.000000  0.040125  0.174486  0.000000  0.129654  \n",
      "3  0.000000  0.286686  0.366620  0.115592  0.566542  0.491949  \n",
      "4  0.257231  0.028157  0.149653  0.041725  0.018726  0.675630  \n",
      "5  0.028797  0.000000  0.060137  0.369630  0.092336  0.003882  \n",
      "6  1.207592  2.816991  6.932828  1.232354  6.910378  0.289289  \n",
      "7  1.091034  0.100622  0.848604  0.000000  0.766719  0.230755  \n",
      "8  0.730943  0.633603  0.383256  0.463556  1.206452  1.797197  \n",
      "9  0.041570  0.051601  0.043282  0.269741  0.000000  0.016254  \n",
      "\n",
      "[10 rows x 4992 columns]\n",
      "\n",
      "----- finished __init__ phase of  STDL_Dataset_LatentTensor -----\n",
      "\n"
     ]
    }
   ],
   "source": [
    "k = 10\n",
    "stdl_ds3 = loadAndPreProcess.STDL_Dataset_KValuesPerImg_LatentTensor_NMF(imageFolder=imageFolder, \n",
    "                                                                           matrix_dataframe=matrix_dataframe, \n",
    "                                                                           features_dataframe=features_dataframe, \n",
    "                                                                           barcodes_datafame=barcodes_datafame, \n",
    "                                                                           num_of_dims_k=k)"
   ]
  },
  {
   "cell_type": "code",
   "execution_count": 12,
   "metadata": {},
   "outputs": [
    {
     "name": "stdout",
     "output_type": "stream",
     "text": [
      "\n",
      "----- entering __init__ phase of  STDL_Dataset_KValuesPerImg_LatentTensor_AutoEncoder -----\n",
      "initializing the autoencoder (this might take a while) ...\n",
      "\n",
      "----- entered function return_trained_AE_net -----\n",
      "--delete-- verify inside STDL_Dataset_matrix_df_for_AE_init __init__: self.data.shape: (23073, 4992)\n",
      "note - number of (hidden) linear layers is supposed to be 3\n",
      "\n",
      "entered __init__ of AutoencoderNet\n",
      "****** begin training ******\n",
      "\n",
      "iteration 1 of 3 epochs\n",
      "batch 2000 of 2000 batches\n",
      "finished inner loop.\n",
      "\n",
      "in this epoch: min loss 0.0040384624153375626 max loss 778.905029296875\n",
      "               average loss 10.268329235401703\n",
      "\n",
      "iteration 2 of 3 epochs\n",
      "batch 2000 of 2000 batches\n",
      "finished inner loop.\n",
      "\n",
      "in this epoch: min loss 0.003464254317805171 max loss 783.9368286132812\n",
      "               average loss 10.482129897606443\n",
      "\n",
      "iteration 3 of 3 epochs\n",
      "batch 2000 of 2000 batches\n",
      "finished inner loop.\n",
      "\n",
      "in this epoch: min loss 0.004021810367703438 max loss 580.6859130859375\n",
      "               average loss 7.563046127743321\n",
      "\n",
      "----- finished function return_trained_AE_net -----\n",
      "\n",
      "\n",
      "----- finished __init__ phase of  STDL_Dataset_KValuesPerImg_LatentTensor_AutoEncoder -----\n",
      "\n"
     ]
    }
   ],
   "source": [
    "%autoreload 2\n",
    "\n",
    "# print('Memory Cached so far on Cuda:   ', round(torch.cuda.memory_cached(0)/1024**3,1), 'GB')\n",
    "# print('Out of the Allocated:', round(torch.cuda.memory_allocated(0)/1024**3,1), 'GB')\n",
    "# # NOTE: important !!!!!!\n",
    "# # clearing out the cache before beginning\n",
    "# torch.cuda.empty_cache()\n",
    "# print('Memory Cached so far on Cuda:   ', round(torch.cuda.memory_cached(0)/1024**3,1), 'GB')\n",
    "# print('Out of the Allocated:', round(torch.cuda.memory_allocated(0)/1024**3,1), 'GB')\n",
    "\n",
    "k = 10\n",
    "stdl_ds4 = loadAndPreProcess.STDL_Dataset_KValuesPerImg_LatentTensor_AutoEncoder(imageFolder=imageFolder, \n",
    "                                                                           matrix_dataframe=matrix_dataframe, \n",
    "                                                                           features_dataframe=features_dataframe, \n",
    "                                                                           barcodes_datafame=barcodes_datafame, \n",
    "                                                                           num_of_dims_k=k,\n",
    "                                                                           device=device)"
   ]
  },
  {
   "cell_type": "markdown",
   "metadata": {},
   "source": [
    "\n",
    "display a few sample images"
   ]
  },
  {
   "cell_type": "code",
   "execution_count": 13,
   "metadata": {},
   "outputs": [],
   "source": [
    "# TODO: code to display some sample images\n",
    "# "
   ]
  },
  {
   "cell_type": "markdown",
   "metadata": {},
   "source": [
    "check sizes of a pair (x,y) from all different datasets"
   ]
  },
  {
   "cell_type": "code",
   "execution_count": 15,
   "metadata": {},
   "outputs": [
    {
     "name": "stdout",
     "output_type": "stream",
     "text": [
      "stdl_ds1: x shape torch.Size([3, 176, 176]), y shape 0\n",
      "---------\n",
      "stdl_ds2: x shape torch.Size([3, 176, 176]), y shape (10,)\n",
      "---------\n",
      "stdl_ds3: x shape torch.Size([3, 176, 176]), y shape (10,)\n",
      "---------\n",
      "stdl_ds4: x shape torch.Size([3, 176, 176]), y shape torch.Size([10])\n"
     ]
    }
   ],
   "source": [
    "print(f'stdl_ds1 (single gene):      x shape {stdl_ds1[0][0].shape}, y is an int')\n",
    "print(\"---------\")\n",
    "print(f'stdl_ds2 (highest variance): x shape {stdl_ds2[0][0].shape}, y shape {stdl_ds2[0][1].shape}')\n",
    "print(\"---------\")\n",
    "print(f'stdl_ds3 (NMF):              x shape {stdl_ds3[0][0].shape}, y shape {stdl_ds3[0][1].shape}')\n",
    "print(\"---------\")\n",
    "print(f'stdl_ds4 (AE):               x shape {stdl_ds4[0][0].shape}, y shape {stdl_ds4[0][1].shape}')\n"
   ]
  },
  {
   "cell_type": "code",
   "execution_count": null,
   "metadata": {},
   "outputs": [],
   "source": [
    "%load_ext autoreload\n",
    "%autoreload 2\n",
    "import executionModule\n",
    "\n",
    "# executionModule.runTest1_singleGenePrediction(stdl_ds, device)  #uncomment later\n",
    "# executionModule.runTest2_allGenePrediction_dimReduction_KHighestVariances(stdl_ds2, device)\n",
    "# executionModule.runTest3_allGenePrediction_dimReduction_NMF(stdl_ds2, device)\n",
    "# executionModule.runTest4_allGenePrediction_dimReduction_AutoEncoder(stdl_ds4, device)"
   ]
  },
  {
   "cell_type": "code",
   "execution_count": null,
   "metadata": {},
   "outputs": [],
   "source": []
  }
 ],
 "metadata": {
  "kernelspec": {
   "display_name": "Python 3",
   "language": "python",
   "name": "python3"
  },
  "language_info": {
   "codemirror_mode": {
    "name": "ipython",
    "version": 3
   },
   "file_extension": ".py",
   "mimetype": "text/x-python",
   "name": "python",
   "nbconvert_exporter": "python",
   "pygments_lexer": "ipython3",
   "version": "3.7.4"
  }
 },
 "nbformat": 4,
 "nbformat_minor": 4
}
